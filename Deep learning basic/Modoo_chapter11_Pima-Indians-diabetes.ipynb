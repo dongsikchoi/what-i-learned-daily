{
 "cells": [
  {
   "cell_type": "markdown",
   "metadata": {},
   "source": [
    "## Pima indians diabetes data\n"
   ]
  },
  {
   "cell_type": "code",
   "execution_count": 1,
   "metadata": {
    "ExecuteTime": {
     "end_time": "2021-02-01T04:24:35.513662Z",
     "start_time": "2021-02-01T04:24:35.509018Z"
    }
   },
   "outputs": [
    {
     "name": "stdout",
     "output_type": "stream",
     "text": [
      "3.7.7 (default, Mar 23 2020, 23:19:08) [MSC v.1916 64 bit (AMD64)]\n"
     ]
    }
   ],
   "source": [
    "import sys \n",
    "print(sys.version) # Python version"
   ]
  },
  {
   "cell_type": "code",
   "execution_count": 3,
   "metadata": {
    "ExecuteTime": {
     "end_time": "2021-02-01T04:24:47.126089Z",
     "start_time": "2021-02-01T04:24:37.213688Z"
    }
   },
   "outputs": [
    {
     "name": "stdout",
     "output_type": "stream",
     "text": [
      "2.4.3\n"
     ]
    }
   ],
   "source": [
    "import keras\n",
    "print(keras.__version__)"
   ]
  },
  {
   "cell_type": "code",
   "execution_count": 27,
   "metadata": {
    "ExecuteTime": {
     "end_time": "2021-02-01T05:58:26.653808Z",
     "start_time": "2021-02-01T05:58:26.641504Z"
    }
   },
   "outputs": [],
   "source": [
    "# Keras and library load\n",
    "\n",
    "from keras.models import Sequential \n",
    "from keras.layers import Dense\n",
    "\n",
    "import numpy as np\n",
    "import tensorflow as tf \n",
    "import pandas as pd "
   ]
  },
  {
   "cell_type": "code",
   "execution_count": 34,
   "metadata": {
    "ExecuteTime": {
     "end_time": "2021-02-01T05:59:15.766441Z",
     "start_time": "2021-02-01T05:59:15.746493Z"
    }
   },
   "outputs": [],
   "source": [
    "# Set seed \n",
    "seed = 3\n",
    "np.random.seed(seed)\n",
    "tf.random.set_seed(seed) "
   ]
  },
  {
   "cell_type": "code",
   "execution_count": 35,
   "metadata": {
    "ExecuteTime": {
     "end_time": "2021-02-01T05:59:16.033564Z",
     "start_time": "2021-02-01T05:59:16.001629Z"
    }
   },
   "outputs": [],
   "source": [
    "# Load Data\n",
    "df = pd.read_csv(\"pima-indians-diabetes.csv\",names=[\"pregnant\",\"plasma\",\"pressure\",\"thickness\",\"insulin\",\"BMI\",\"pedigree\",\"age\",\"class\"])\n",
    "df2 = np.loadtxt(\"pima-indians-diabetes.csv\",delimiter=\",\")\n",
    "# Jupyter notebook - C:\\Users\\ folder \n",
    "X = df2[:,0:8]\n",
    "Y = df2[:,8]"
   ]
  },
  {
   "cell_type": "code",
   "execution_count": 9,
   "metadata": {
    "ExecuteTime": {
     "end_time": "2021-02-01T05:10:50.052767Z",
     "start_time": "2021-02-01T05:10:50.034768Z"
    }
   },
   "outputs": [
    {
     "data": {
      "text/html": [
       "<div>\n",
       "<style scoped>\n",
       "    .dataframe tbody tr th:only-of-type {\n",
       "        vertical-align: middle;\n",
       "    }\n",
       "\n",
       "    .dataframe tbody tr th {\n",
       "        vertical-align: top;\n",
       "    }\n",
       "\n",
       "    .dataframe thead th {\n",
       "        text-align: right;\n",
       "    }\n",
       "</style>\n",
       "<table border=\"1\" class=\"dataframe\">\n",
       "  <thead>\n",
       "    <tr style=\"text-align: right;\">\n",
       "      <th></th>\n",
       "      <th>pregnant</th>\n",
       "      <th>plasma</th>\n",
       "      <th>pressure</th>\n",
       "      <th>thickness</th>\n",
       "      <th>insulin</th>\n",
       "      <th>BMI</th>\n",
       "      <th>pedigree</th>\n",
       "      <th>age</th>\n",
       "      <th>class</th>\n",
       "    </tr>\n",
       "  </thead>\n",
       "  <tbody>\n",
       "    <tr>\n",
       "      <th>0</th>\n",
       "      <td>6</td>\n",
       "      <td>148</td>\n",
       "      <td>72</td>\n",
       "      <td>35</td>\n",
       "      <td>0</td>\n",
       "      <td>33.6</td>\n",
       "      <td>0.627</td>\n",
       "      <td>50</td>\n",
       "      <td>1</td>\n",
       "    </tr>\n",
       "    <tr>\n",
       "      <th>1</th>\n",
       "      <td>1</td>\n",
       "      <td>85</td>\n",
       "      <td>66</td>\n",
       "      <td>29</td>\n",
       "      <td>0</td>\n",
       "      <td>26.6</td>\n",
       "      <td>0.351</td>\n",
       "      <td>31</td>\n",
       "      <td>0</td>\n",
       "    </tr>\n",
       "    <tr>\n",
       "      <th>2</th>\n",
       "      <td>8</td>\n",
       "      <td>183</td>\n",
       "      <td>64</td>\n",
       "      <td>0</td>\n",
       "      <td>0</td>\n",
       "      <td>23.3</td>\n",
       "      <td>0.672</td>\n",
       "      <td>32</td>\n",
       "      <td>1</td>\n",
       "    </tr>\n",
       "    <tr>\n",
       "      <th>3</th>\n",
       "      <td>1</td>\n",
       "      <td>89</td>\n",
       "      <td>66</td>\n",
       "      <td>23</td>\n",
       "      <td>94</td>\n",
       "      <td>28.1</td>\n",
       "      <td>0.167</td>\n",
       "      <td>21</td>\n",
       "      <td>0</td>\n",
       "    </tr>\n",
       "    <tr>\n",
       "      <th>4</th>\n",
       "      <td>0</td>\n",
       "      <td>137</td>\n",
       "      <td>40</td>\n",
       "      <td>35</td>\n",
       "      <td>168</td>\n",
       "      <td>43.1</td>\n",
       "      <td>2.288</td>\n",
       "      <td>33</td>\n",
       "      <td>1</td>\n",
       "    </tr>\n",
       "  </tbody>\n",
       "</table>\n",
       "</div>"
      ],
      "text/plain": [
       "   pregnant  plasma  pressure  thickness  insulin   BMI  pedigree  age  class\n",
       "0         6     148        72         35        0  33.6     0.627   50      1\n",
       "1         1      85        66         29        0  26.6     0.351   31      0\n",
       "2         8     183        64          0        0  23.3     0.672   32      1\n",
       "3         1      89        66         23       94  28.1     0.167   21      0\n",
       "4         0     137        40         35      168  43.1     2.288   33      1"
      ]
     },
     "execution_count": 9,
     "metadata": {},
     "output_type": "execute_result"
    }
   ],
   "source": [
    "df.head()"
   ]
  },
  {
   "cell_type": "code",
   "execution_count": 12,
   "metadata": {
    "ExecuteTime": {
     "end_time": "2021-02-01T05:13:56.311958Z",
     "start_time": "2021-02-01T05:13:56.300987Z"
    }
   },
   "outputs": [
    {
     "name": "stdout",
     "output_type": "stream",
     "text": [
      "<class 'pandas.core.frame.DataFrame'>\n",
      "RangeIndex: 768 entries, 0 to 767\n",
      "Data columns (total 9 columns):\n",
      " #   Column     Non-Null Count  Dtype  \n",
      "---  ------     --------------  -----  \n",
      " 0   pregnant   768 non-null    int64  \n",
      " 1   plasma     768 non-null    int64  \n",
      " 2   pressure   768 non-null    int64  \n",
      " 3   thickness  768 non-null    int64  \n",
      " 4   insulin    768 non-null    int64  \n",
      " 5   BMI        768 non-null    float64\n",
      " 6   pedigree   768 non-null    float64\n",
      " 7   age        768 non-null    int64  \n",
      " 8   class      768 non-null    int64  \n",
      "dtypes: float64(2), int64(7)\n",
      "memory usage: 54.1 KB\n"
     ]
    }
   ],
   "source": [
    "df.info()"
   ]
  },
  {
   "cell_type": "code",
   "execution_count": 13,
   "metadata": {
    "ExecuteTime": {
     "end_time": "2021-02-01T05:15:04.970889Z",
     "start_time": "2021-02-01T05:15:04.939973Z"
    }
   },
   "outputs": [
    {
     "data": {
      "text/html": [
       "<div>\n",
       "<style scoped>\n",
       "    .dataframe tbody tr th:only-of-type {\n",
       "        vertical-align: middle;\n",
       "    }\n",
       "\n",
       "    .dataframe tbody tr th {\n",
       "        vertical-align: top;\n",
       "    }\n",
       "\n",
       "    .dataframe thead th {\n",
       "        text-align: right;\n",
       "    }\n",
       "</style>\n",
       "<table border=\"1\" class=\"dataframe\">\n",
       "  <thead>\n",
       "    <tr style=\"text-align: right;\">\n",
       "      <th></th>\n",
       "      <th>pregnant</th>\n",
       "      <th>plasma</th>\n",
       "      <th>pressure</th>\n",
       "      <th>thickness</th>\n",
       "      <th>insulin</th>\n",
       "      <th>BMI</th>\n",
       "      <th>pedigree</th>\n",
       "      <th>age</th>\n",
       "      <th>class</th>\n",
       "    </tr>\n",
       "  </thead>\n",
       "  <tbody>\n",
       "    <tr>\n",
       "      <th>count</th>\n",
       "      <td>768.000000</td>\n",
       "      <td>768.000000</td>\n",
       "      <td>768.000000</td>\n",
       "      <td>768.000000</td>\n",
       "      <td>768.000000</td>\n",
       "      <td>768.000000</td>\n",
       "      <td>768.000000</td>\n",
       "      <td>768.000000</td>\n",
       "      <td>768.000000</td>\n",
       "    </tr>\n",
       "    <tr>\n",
       "      <th>mean</th>\n",
       "      <td>3.845052</td>\n",
       "      <td>120.894531</td>\n",
       "      <td>69.105469</td>\n",
       "      <td>20.536458</td>\n",
       "      <td>79.799479</td>\n",
       "      <td>31.992578</td>\n",
       "      <td>0.471876</td>\n",
       "      <td>33.240885</td>\n",
       "      <td>0.348958</td>\n",
       "    </tr>\n",
       "    <tr>\n",
       "      <th>std</th>\n",
       "      <td>3.369578</td>\n",
       "      <td>31.972618</td>\n",
       "      <td>19.355807</td>\n",
       "      <td>15.952218</td>\n",
       "      <td>115.244002</td>\n",
       "      <td>7.884160</td>\n",
       "      <td>0.331329</td>\n",
       "      <td>11.760232</td>\n",
       "      <td>0.476951</td>\n",
       "    </tr>\n",
       "    <tr>\n",
       "      <th>min</th>\n",
       "      <td>0.000000</td>\n",
       "      <td>0.000000</td>\n",
       "      <td>0.000000</td>\n",
       "      <td>0.000000</td>\n",
       "      <td>0.000000</td>\n",
       "      <td>0.000000</td>\n",
       "      <td>0.078000</td>\n",
       "      <td>21.000000</td>\n",
       "      <td>0.000000</td>\n",
       "    </tr>\n",
       "    <tr>\n",
       "      <th>25%</th>\n",
       "      <td>1.000000</td>\n",
       "      <td>99.000000</td>\n",
       "      <td>62.000000</td>\n",
       "      <td>0.000000</td>\n",
       "      <td>0.000000</td>\n",
       "      <td>27.300000</td>\n",
       "      <td>0.243750</td>\n",
       "      <td>24.000000</td>\n",
       "      <td>0.000000</td>\n",
       "    </tr>\n",
       "    <tr>\n",
       "      <th>50%</th>\n",
       "      <td>3.000000</td>\n",
       "      <td>117.000000</td>\n",
       "      <td>72.000000</td>\n",
       "      <td>23.000000</td>\n",
       "      <td>30.500000</td>\n",
       "      <td>32.000000</td>\n",
       "      <td>0.372500</td>\n",
       "      <td>29.000000</td>\n",
       "      <td>0.000000</td>\n",
       "    </tr>\n",
       "    <tr>\n",
       "      <th>75%</th>\n",
       "      <td>6.000000</td>\n",
       "      <td>140.250000</td>\n",
       "      <td>80.000000</td>\n",
       "      <td>32.000000</td>\n",
       "      <td>127.250000</td>\n",
       "      <td>36.600000</td>\n",
       "      <td>0.626250</td>\n",
       "      <td>41.000000</td>\n",
       "      <td>1.000000</td>\n",
       "    </tr>\n",
       "    <tr>\n",
       "      <th>max</th>\n",
       "      <td>17.000000</td>\n",
       "      <td>199.000000</td>\n",
       "      <td>122.000000</td>\n",
       "      <td>99.000000</td>\n",
       "      <td>846.000000</td>\n",
       "      <td>67.100000</td>\n",
       "      <td>2.420000</td>\n",
       "      <td>81.000000</td>\n",
       "      <td>1.000000</td>\n",
       "    </tr>\n",
       "  </tbody>\n",
       "</table>\n",
       "</div>"
      ],
      "text/plain": [
       "         pregnant      plasma    pressure   thickness     insulin         BMI  \\\n",
       "count  768.000000  768.000000  768.000000  768.000000  768.000000  768.000000   \n",
       "mean     3.845052  120.894531   69.105469   20.536458   79.799479   31.992578   \n",
       "std      3.369578   31.972618   19.355807   15.952218  115.244002    7.884160   \n",
       "min      0.000000    0.000000    0.000000    0.000000    0.000000    0.000000   \n",
       "25%      1.000000   99.000000   62.000000    0.000000    0.000000   27.300000   \n",
       "50%      3.000000  117.000000   72.000000   23.000000   30.500000   32.000000   \n",
       "75%      6.000000  140.250000   80.000000   32.000000  127.250000   36.600000   \n",
       "max     17.000000  199.000000  122.000000   99.000000  846.000000   67.100000   \n",
       "\n",
       "         pedigree         age       class  \n",
       "count  768.000000  768.000000  768.000000  \n",
       "mean     0.471876   33.240885    0.348958  \n",
       "std      0.331329   11.760232    0.476951  \n",
       "min      0.078000   21.000000    0.000000  \n",
       "25%      0.243750   24.000000    0.000000  \n",
       "50%      0.372500   29.000000    0.000000  \n",
       "75%      0.626250   41.000000    1.000000  \n",
       "max      2.420000   81.000000    1.000000  "
      ]
     },
     "execution_count": 13,
     "metadata": {},
     "output_type": "execute_result"
    }
   ],
   "source": [
    "df.describe()"
   ]
  },
  {
   "cell_type": "code",
   "execution_count": 14,
   "metadata": {
    "ExecuteTime": {
     "end_time": "2021-02-01T05:17:47.494781Z",
     "start_time": "2021-02-01T05:17:47.469851Z"
    }
   },
   "outputs": [
    {
     "data": {
      "text/html": [
       "<div>\n",
       "<style scoped>\n",
       "    .dataframe tbody tr th:only-of-type {\n",
       "        vertical-align: middle;\n",
       "    }\n",
       "\n",
       "    .dataframe tbody tr th {\n",
       "        vertical-align: top;\n",
       "    }\n",
       "\n",
       "    .dataframe thead th {\n",
       "        text-align: right;\n",
       "    }\n",
       "</style>\n",
       "<table border=\"1\" class=\"dataframe\">\n",
       "  <thead>\n",
       "    <tr style=\"text-align: right;\">\n",
       "      <th></th>\n",
       "      <th>pregnant</th>\n",
       "      <th>class</th>\n",
       "    </tr>\n",
       "  </thead>\n",
       "  <tbody>\n",
       "    <tr>\n",
       "      <th>0</th>\n",
       "      <td>6</td>\n",
       "      <td>1</td>\n",
       "    </tr>\n",
       "    <tr>\n",
       "      <th>1</th>\n",
       "      <td>1</td>\n",
       "      <td>0</td>\n",
       "    </tr>\n",
       "    <tr>\n",
       "      <th>2</th>\n",
       "      <td>8</td>\n",
       "      <td>1</td>\n",
       "    </tr>\n",
       "    <tr>\n",
       "      <th>3</th>\n",
       "      <td>1</td>\n",
       "      <td>0</td>\n",
       "    </tr>\n",
       "    <tr>\n",
       "      <th>4</th>\n",
       "      <td>0</td>\n",
       "      <td>1</td>\n",
       "    </tr>\n",
       "    <tr>\n",
       "      <th>...</th>\n",
       "      <td>...</td>\n",
       "      <td>...</td>\n",
       "    </tr>\n",
       "    <tr>\n",
       "      <th>763</th>\n",
       "      <td>10</td>\n",
       "      <td>0</td>\n",
       "    </tr>\n",
       "    <tr>\n",
       "      <th>764</th>\n",
       "      <td>2</td>\n",
       "      <td>0</td>\n",
       "    </tr>\n",
       "    <tr>\n",
       "      <th>765</th>\n",
       "      <td>5</td>\n",
       "      <td>0</td>\n",
       "    </tr>\n",
       "    <tr>\n",
       "      <th>766</th>\n",
       "      <td>1</td>\n",
       "      <td>1</td>\n",
       "    </tr>\n",
       "    <tr>\n",
       "      <th>767</th>\n",
       "      <td>1</td>\n",
       "      <td>0</td>\n",
       "    </tr>\n",
       "  </tbody>\n",
       "</table>\n",
       "<p>768 rows × 2 columns</p>\n",
       "</div>"
      ],
      "text/plain": [
       "     pregnant  class\n",
       "0           6      1\n",
       "1           1      0\n",
       "2           8      1\n",
       "3           1      0\n",
       "4           0      1\n",
       "..        ...    ...\n",
       "763        10      0\n",
       "764         2      0\n",
       "765         5      0\n",
       "766         1      1\n",
       "767         1      0\n",
       "\n",
       "[768 rows x 2 columns]"
      ]
     },
     "execution_count": 14,
     "metadata": {},
     "output_type": "execute_result"
    }
   ],
   "source": [
    "# When you want to see partial columns\n",
    "df[['pregnant','class']]"
   ]
  },
  {
   "cell_type": "markdown",
   "metadata": {},
   "source": [
    "## Data processing"
   ]
  },
  {
   "cell_type": "code",
   "execution_count": 15,
   "metadata": {
    "ExecuteTime": {
     "end_time": "2021-02-01T05:20:37.066938Z",
     "start_time": "2021-02-01T05:20:37.051977Z"
    }
   },
   "outputs": [
    {
     "name": "stdout",
     "output_type": "stream",
     "text": [
      "    pregnant     class\n",
      "0          0  0.342342\n",
      "1          1  0.214815\n",
      "2          2  0.184466\n",
      "3          3  0.360000\n",
      "4          4  0.338235\n",
      "5          5  0.368421\n",
      "6          6  0.320000\n",
      "7          7  0.555556\n",
      "8          8  0.578947\n",
      "9          9  0.642857\n",
      "10        10  0.416667\n",
      "11        11  0.636364\n",
      "12        12  0.444444\n",
      "13        13  0.500000\n",
      "14        14  1.000000\n",
      "15        15  1.000000\n",
      "16        17  1.000000\n"
     ]
    }
   ],
   "source": [
    "# If you want to check correlation with pregnant and diabetes,\n",
    "# use groupby() function to make new group based on pregnant feature\n",
    "print(df[['pregnant','class']].groupby(['pregnant'],\n",
    "                                       as_index=False).mean().sort_values(by='pregnant',ascending=True))"
   ]
  },
  {
   "cell_type": "markdown",
   "metadata": {},
   "source": [
    "## Visualize"
   ]
  },
  {
   "cell_type": "code",
   "execution_count": 16,
   "metadata": {
    "ExecuteTime": {
     "end_time": "2021-02-01T05:27:16.585815Z",
     "start_time": "2021-02-01T05:27:15.792245Z"
    }
   },
   "outputs": [],
   "source": [
    "import matplotlib.pyplot as plt\n",
    "import seaborn as sns "
   ]
  },
  {
   "cell_type": "code",
   "execution_count": 17,
   "metadata": {
    "ExecuteTime": {
     "end_time": "2021-02-01T05:27:35.957716Z",
     "start_time": "2021-02-01T05:27:35.947406Z"
    }
   },
   "outputs": [
    {
     "data": {
      "text/plain": [
       "<Figure size 864x864 with 0 Axes>"
      ]
     },
     "execution_count": 17,
     "metadata": {},
     "output_type": "execute_result"
    },
    {
     "data": {
      "text/plain": [
       "<Figure size 864x864 with 0 Axes>"
      ]
     },
     "metadata": {},
     "output_type": "display_data"
    }
   ],
   "source": [
    "# Set graph's size \n",
    "plt.figure(figsize = (12,12))"
   ]
  },
  {
   "cell_type": "code",
   "execution_count": 18,
   "metadata": {
    "ExecuteTime": {
     "end_time": "2021-02-01T05:28:11.007606Z",
     "start_time": "2021-02-01T05:28:10.267724Z"
    }
   },
   "outputs": [
    {
     "name": "stderr",
     "output_type": "stream",
     "text": [
      "findfont: Font family ['NanumGothic'] not found. Falling back to DejaVu Sans.\n"
     ]
    },
    {
     "data": {
      "text/plain": [
       "<matplotlib.axes._subplots.AxesSubplot at 0x256e4891548>"
      ]
     },
     "execution_count": 18,
     "metadata": {},
     "output_type": "execute_result"
    },
    {
     "data": {
      "image/png": "[encoded data removed]",
      "text/plain": [
       "<Figure size 432x288 with 2 Axes>"
      ]
     },
     "metadata": {
      "needs_background": "light"
     },
     "output_type": "display_data"
    }
   ],
   "source": [
    "sns.heatmap(df.corr(),linewidths=0.1,vmax=0.5,cmap=plt.cm.gist_heat,linecolor='white',annot=True)"
   ]
  },
  {
   "cell_type": "markdown",
   "metadata": {},
   "source": [
    "- You should focus on the __class__ that indicates whether diabetes occured or not\n",
    "- and you can check that plasma is the most correlated"
   ]
  },
  {
   "cell_type": "code",
   "execution_count": 19,
   "metadata": {
    "ExecuteTime": {
     "end_time": "2021-02-01T05:39:45.445896Z",
     "start_time": "2021-02-01T05:39:45.199636Z"
    }
   },
   "outputs": [
    {
     "data": {
      "image/png": "[encoded data removed]",
      "text/plain": [
       "<Figure size 432x216 with 2 Axes>"
      ]
     },
     "metadata": {
      "needs_background": "light"
     },
     "output_type": "display_data"
    }
   ],
   "source": [
    "grid = sns.FacetGrid(df,col='class')\n",
    "grid.map(plt.hist,'plasma',bins=10)\n",
    "plt.show()"
   ]
  },
  {
   "cell_type": "markdown",
   "metadata": {},
   "source": [
    "- In case of class = 1 (Diabetes occured), you can see that the plsama values are often over 150"
   ]
  },
  {
   "cell_type": "markdown",
   "metadata": {},
   "source": [
    "## Use Keras to predict diabetes "
   ]
  },
  {
   "cell_type": "code",
   "execution_count": 36,
   "metadata": {
    "ExecuteTime": {
     "end_time": "2021-02-01T05:59:20.942321Z",
     "start_time": "2021-02-01T05:59:20.913479Z"
    }
   },
   "outputs": [],
   "source": [
    "# 딥러닝 구조 설정 \n",
    "model = Sequential() # layer를 선형으로 층층이 쌓는 Sequential 모듈 \n",
    "# model.add() 함수를 통해 필요한 층을 쌓아나가는 것 \n",
    "model.add(Dense(12, input_dim = 8, activation = 'relu'))\n",
    "model.add(Dense(8,activation='relu'))\n",
    "model.add(Dense(1, activation = 'sigmoid'))"
   ]
  },
  {
   "cell_type": "code",
   "execution_count": 37,
   "metadata": {
    "ExecuteTime": {
     "end_time": "2021-02-01T05:59:30.490800Z",
     "start_time": "2021-02-01T05:59:21.448887Z"
    }
   },
   "outputs": [
    {
     "name": "stdout",
     "output_type": "stream",
     "text": [
      "Epoch 1/200\n",
      "77/77 [==============================] - 0s 971us/step - loss: 10.5440 - accuracy: 0.6159\n",
      "Epoch 2/200\n",
      "77/77 [==============================] - 0s 557us/step - loss: 5.4367 - accuracy: 0.6029\n",
      "Epoch 3/200\n",
      "77/77 [==============================] - 0s 531us/step - loss: 2.9292 - accuracy: 0.5208\n",
      "Epoch 4/200\n",
      "77/77 [==============================] - 0s 518us/step - loss: 1.5346 - accuracy: 0.5208\n",
      "Epoch 5/200\n",
      "77/77 [==============================] - 0s 518us/step - loss: 0.8896 - accuracy: 0.5000\n",
      "Epoch 6/200\n",
      "77/77 [==============================] - 0s 518us/step - loss: 0.8072 - accuracy: 0.5234\n",
      "Epoch 7/200\n",
      "77/77 [==============================] - 0s 505us/step - loss: 0.7655 - accuracy: 0.6549\n",
      "Epoch 8/200\n",
      "77/77 [==============================] - 0s 505us/step - loss: 0.7306 - accuracy: 0.6628\n",
      "Epoch 9/200\n",
      "77/77 [==============================] - 0s 505us/step - loss: 0.6943 - accuracy: 0.6706\n",
      "Epoch 10/200\n",
      "77/77 [==============================] - 0s 518us/step - loss: 0.6656 - accuracy: 0.6758\n",
      "Epoch 11/200\n",
      "77/77 [==============================] - 0s 531us/step - loss: 0.6390 - accuracy: 0.6797\n",
      "Epoch 12/200\n",
      "77/77 [==============================] - 0s 518us/step - loss: 0.6198 - accuracy: 0.6823\n",
      "Epoch 13/200\n",
      "77/77 [==============================] - 0s 505us/step - loss: 0.6072 - accuracy: 0.6979\n",
      "Epoch 14/200\n",
      "77/77 [==============================] - 0s 531us/step - loss: 0.6112 - accuracy: 0.6966\n",
      "Epoch 15/200\n",
      "77/77 [==============================] - 0s 518us/step - loss: 0.5993 - accuracy: 0.7005\n",
      "Epoch 16/200\n",
      "77/77 [==============================] - 0s 518us/step - loss: 0.5894 - accuracy: 0.6940\n",
      "Epoch 17/200\n",
      "77/77 [==============================] - 0s 518us/step - loss: 0.5915 - accuracy: 0.7057\n",
      "Epoch 18/200\n",
      "77/77 [==============================] - 0s 518us/step - loss: 0.5854 - accuracy: 0.7122\n",
      "Epoch 19/200\n",
      "77/77 [==============================] - 0s 518us/step - loss: 0.5873 - accuracy: 0.6992\n",
      "Epoch 20/200\n",
      "77/77 [==============================] - 0s 531us/step - loss: 0.5820 - accuracy: 0.7070\n",
      "Epoch 21/200\n",
      "77/77 [==============================] - 0s 518us/step - loss: 0.5838 - accuracy: 0.6810\n",
      "Epoch 22/200\n",
      "77/77 [==============================] - 0s 518us/step - loss: 0.5759 - accuracy: 0.7109\n",
      "Epoch 23/200\n",
      "77/77 [==============================] - 0s 557us/step - loss: 0.5752 - accuracy: 0.7148\n",
      "Epoch 24/200\n",
      "77/77 [==============================] - 0s 531us/step - loss: 0.5767 - accuracy: 0.7070\n",
      "Epoch 25/200\n",
      "77/77 [==============================] - 0s 544us/step - loss: 0.5737 - accuracy: 0.7122\n",
      "Epoch 26/200\n",
      "77/77 [==============================] - 0s 518us/step - loss: 0.5664 - accuracy: 0.7161\n",
      "Epoch 27/200\n",
      "77/77 [==============================] - 0s 544us/step - loss: 0.5801 - accuracy: 0.7057\n",
      "Epoch 28/200\n",
      "77/77 [==============================] - 0s 518us/step - loss: 0.5755 - accuracy: 0.7174\n",
      "Epoch 29/200\n",
      "77/77 [==============================] - 0s 518us/step - loss: 0.5654 - accuracy: 0.7161\n",
      "Epoch 30/200\n",
      "77/77 [==============================] - 0s 518us/step - loss: 0.5635 - accuracy: 0.7188\n",
      "Epoch 31/200\n",
      "77/77 [==============================] - 0s 518us/step - loss: 0.5602 - accuracy: 0.7122\n",
      "Epoch 32/200\n",
      "77/77 [==============================] - 0s 531us/step - loss: 0.5683 - accuracy: 0.7109\n",
      "Epoch 33/200\n",
      "77/77 [==============================] - 0s 518us/step - loss: 0.5661 - accuracy: 0.7018\n",
      "Epoch 34/200\n",
      "77/77 [==============================] - 0s 531us/step - loss: 0.5578 - accuracy: 0.7214\n",
      "Epoch 35/200\n",
      "77/77 [==============================] - 0s 531us/step - loss: 0.5563 - accuracy: 0.7305\n",
      "Epoch 36/200\n",
      "77/77 [==============================] - 0s 518us/step - loss: 0.5657 - accuracy: 0.7122\n",
      "Epoch 37/200\n",
      "77/77 [==============================] - 0s 505us/step - loss: 0.5529 - accuracy: 0.7070\n",
      "Epoch 38/200\n",
      "77/77 [==============================] - 0s 518us/step - loss: 0.5537 - accuracy: 0.7227\n",
      "Epoch 39/200\n",
      "77/77 [==============================] - 0s 505us/step - loss: 0.5552 - accuracy: 0.7174\n",
      "Epoch 40/200\n",
      "77/77 [==============================] - 0s 544us/step - loss: 0.5539 - accuracy: 0.7292\n",
      "Epoch 41/200\n",
      "77/77 [==============================] - 0s 518us/step - loss: 0.5523 - accuracy: 0.7253\n",
      "Epoch 42/200\n",
      "77/77 [==============================] - 0s 531us/step - loss: 0.5533 - accuracy: 0.7227\n",
      "Epoch 43/200\n",
      "77/77 [==============================] - 0s 531us/step - loss: 0.5535 - accuracy: 0.7201\n",
      "Epoch 44/200\n",
      "77/77 [==============================] - 0s 531us/step - loss: 0.5433 - accuracy: 0.7240\n",
      "Epoch 45/200\n",
      "77/77 [==============================] - 0s 518us/step - loss: 0.5648 - accuracy: 0.7122\n",
      "Epoch 46/200\n",
      "77/77 [==============================] - 0s 531us/step - loss: 0.5478 - accuracy: 0.7161\n",
      "Epoch 47/200\n",
      "77/77 [==============================] - 0s 518us/step - loss: 0.5480 - accuracy: 0.7266\n",
      "Epoch 48/200\n",
      "77/77 [==============================] - 0s 531us/step - loss: 0.5413 - accuracy: 0.7318\n",
      "Epoch 49/200\n",
      "77/77 [==============================] - 0s 518us/step - loss: 0.5410 - accuracy: 0.7253\n",
      "Epoch 50/200\n",
      "77/77 [==============================] - 0s 557us/step - loss: 0.5396 - accuracy: 0.7318\n",
      "Epoch 51/200\n",
      "77/77 [==============================] - 0s 518us/step - loss: 0.5349 - accuracy: 0.7279\n",
      "Epoch 52/200\n",
      "77/77 [==============================] - 0s 518us/step - loss: 0.5345 - accuracy: 0.7383\n",
      "Epoch 53/200\n",
      "77/77 [==============================] - 0s 518us/step - loss: 0.5354 - accuracy: 0.7240\n",
      "Epoch 54/200\n",
      "77/77 [==============================] - 0s 518us/step - loss: 0.5387 - accuracy: 0.7188\n",
      "Epoch 55/200\n",
      "77/77 [==============================] - 0s 531us/step - loss: 0.5336 - accuracy: 0.7253\n",
      "Epoch 56/200\n",
      "77/77 [==============================] - 0s 518us/step - loss: 0.5412 - accuracy: 0.7174\n",
      "Epoch 57/200\n",
      "77/77 [==============================] - 0s 505us/step - loss: 0.5511 - accuracy: 0.7240\n",
      "Epoch 58/200\n",
      "77/77 [==============================] - 0s 518us/step - loss: 0.5298 - accuracy: 0.7331\n",
      "Epoch 59/200\n",
      "77/77 [==============================] - 0s 505us/step - loss: 0.5324 - accuracy: 0.7344\n",
      "Epoch 60/200\n",
      "77/77 [==============================] - 0s 518us/step - loss: 0.5280 - accuracy: 0.7292\n",
      "Epoch 61/200\n",
      "77/77 [==============================] - 0s 505us/step - loss: 0.5304 - accuracy: 0.7292\n",
      "Epoch 62/200\n",
      "77/77 [==============================] - 0s 518us/step - loss: 0.5373 - accuracy: 0.7214\n",
      "Epoch 63/200\n",
      "77/77 [==============================] - 0s 531us/step - loss: 0.5283 - accuracy: 0.7357\n",
      "Epoch 64/200\n",
      "77/77 [==============================] - 0s 518us/step - loss: 0.5234 - accuracy: 0.7396\n",
      "Epoch 65/200\n",
      "77/77 [==============================] - 0s 518us/step - loss: 0.5239 - accuracy: 0.7383\n",
      "Epoch 66/200\n",
      "77/77 [==============================] - 0s 531us/step - loss: 0.5215 - accuracy: 0.7344\n",
      "Epoch 67/200\n",
      "77/77 [==============================] - 0s 518us/step - loss: 0.5193 - accuracy: 0.7383\n",
      "Epoch 68/200\n",
      "77/77 [==============================] - 0s 518us/step - loss: 0.5241 - accuracy: 0.7357\n",
      "Epoch 69/200\n",
      "77/77 [==============================] - 0s 557us/step - loss: 0.5224 - accuracy: 0.7370\n",
      "Epoch 70/200\n",
      "77/77 [==============================] - 0s 518us/step - loss: 0.5183 - accuracy: 0.7383\n",
      "Epoch 71/200\n",
      "77/77 [==============================] - 0s 505us/step - loss: 0.5164 - accuracy: 0.7344\n",
      "Epoch 72/200\n",
      "77/77 [==============================] - 0s 518us/step - loss: 0.5182 - accuracy: 0.7357\n",
      "Epoch 73/200\n",
      "77/77 [==============================] - 0s 557us/step - loss: 0.5178 - accuracy: 0.7292\n",
      "Epoch 74/200\n",
      "77/77 [==============================] - 0s 531us/step - loss: 0.5187 - accuracy: 0.7396\n",
      "Epoch 75/200\n",
      "77/77 [==============================] - 0s 531us/step - loss: 0.5240 - accuracy: 0.7344\n",
      "Epoch 76/200\n",
      "77/77 [==============================] - 0s 518us/step - loss: 0.5209 - accuracy: 0.7370\n",
      "Epoch 77/200\n",
      "77/77 [==============================] - 0s 583us/step - loss: 0.5177 - accuracy: 0.7331\n",
      "Epoch 78/200\n",
      "77/77 [==============================] - 0s 518us/step - loss: 0.5169 - accuracy: 0.7370\n",
      "Epoch 79/200\n",
      "77/77 [==============================] - 0s 531us/step - loss: 0.5225 - accuracy: 0.7318\n",
      "Epoch 80/200\n",
      "77/77 [==============================] - 0s 544us/step - loss: 0.5092 - accuracy: 0.7435\n",
      "Epoch 81/200\n"
     ]
    },
    {
     "name": "stdout",
     "output_type": "stream",
     "text": [
      "77/77 [==============================] - 0s 531us/step - loss: 0.5121 - accuracy: 0.7422\n",
      "Epoch 82/200\n",
      "77/77 [==============================] - 0s 557us/step - loss: 0.5087 - accuracy: 0.7461\n",
      "Epoch 83/200\n",
      "77/77 [==============================] - 0s 531us/step - loss: 0.5171 - accuracy: 0.7344\n",
      "Epoch 84/200\n",
      "77/77 [==============================] - 0s 544us/step - loss: 0.5120 - accuracy: 0.7305\n",
      "Epoch 85/200\n",
      "77/77 [==============================] - 0s 544us/step - loss: 0.5088 - accuracy: 0.7461\n",
      "Epoch 86/200\n",
      "77/77 [==============================] - 0s 544us/step - loss: 0.5046 - accuracy: 0.7513\n",
      "Epoch 87/200\n",
      "77/77 [==============================] - 0s 518us/step - loss: 0.5061 - accuracy: 0.7500\n",
      "Epoch 88/200\n",
      "77/77 [==============================] - 0s 518us/step - loss: 0.5073 - accuracy: 0.7500\n",
      "Epoch 89/200\n",
      "77/77 [==============================] - 0s 518us/step - loss: 0.5080 - accuracy: 0.7474\n",
      "Epoch 90/200\n",
      "77/77 [==============================] - 0s 505us/step - loss: 0.5111 - accuracy: 0.7357\n",
      "Epoch 91/200\n",
      "77/77 [==============================] - 0s 518us/step - loss: 0.5293 - accuracy: 0.7305\n",
      "Epoch 92/200\n",
      "77/77 [==============================] - 0s 518us/step - loss: 0.5144 - accuracy: 0.7513\n",
      "Epoch 93/200\n",
      "77/77 [==============================] - 0s 518us/step - loss: 0.5008 - accuracy: 0.7513\n",
      "Epoch 94/200\n",
      "77/77 [==============================] - 0s 544us/step - loss: 0.5034 - accuracy: 0.7461\n",
      "Epoch 95/200\n",
      "77/77 [==============================] - 0s 531us/step - loss: 0.5097 - accuracy: 0.7448\n",
      "Epoch 96/200\n",
      "77/77 [==============================] - 0s 531us/step - loss: 0.4999 - accuracy: 0.7318\n",
      "Epoch 97/200\n",
      "77/77 [==============================] - 0s 518us/step - loss: 0.4978 - accuracy: 0.7552\n",
      "Epoch 98/200\n",
      "77/77 [==============================] - 0s 518us/step - loss: 0.5050 - accuracy: 0.7344\n",
      "Epoch 99/200\n",
      "77/77 [==============================] - 0s 531us/step - loss: 0.5071 - accuracy: 0.7500\n",
      "Epoch 100/200\n",
      "77/77 [==============================] - 0s 518us/step - loss: 0.5004 - accuracy: 0.7513\n",
      "Epoch 101/200\n",
      "77/77 [==============================] - 0s 492us/step - loss: 0.5015 - accuracy: 0.7448\n",
      "Epoch 102/200\n",
      "77/77 [==============================] - 0s 518us/step - loss: 0.4960 - accuracy: 0.7526\n",
      "Epoch 103/200\n",
      "77/77 [==============================] - 0s 505us/step - loss: 0.5054 - accuracy: 0.7409\n",
      "Epoch 104/200\n",
      "77/77 [==============================] - 0s 518us/step - loss: 0.4959 - accuracy: 0.7552\n",
      "Epoch 105/200\n",
      "77/77 [==============================] - 0s 518us/step - loss: 0.4943 - accuracy: 0.7487\n",
      "Epoch 106/200\n",
      "77/77 [==============================] - 0s 518us/step - loss: 0.5006 - accuracy: 0.7526\n",
      "Epoch 107/200\n",
      "77/77 [==============================] - 0s 518us/step - loss: 0.5023 - accuracy: 0.7539\n",
      "Epoch 108/200\n",
      "77/77 [==============================] - 0s 505us/step - loss: 0.5055 - accuracy: 0.7526\n",
      "Epoch 109/200\n",
      "77/77 [==============================] - 0s 505us/step - loss: 0.4918 - accuracy: 0.7487\n",
      "Epoch 110/200\n",
      "77/77 [==============================] - 0s 518us/step - loss: 0.5006 - accuracy: 0.7578\n",
      "Epoch 111/200\n",
      "77/77 [==============================] - 0s 518us/step - loss: 0.4911 - accuracy: 0.7617\n",
      "Epoch 112/200\n",
      "77/77 [==============================] - 0s 531us/step - loss: 0.4916 - accuracy: 0.7500\n",
      "Epoch 113/200\n",
      "77/77 [==============================] - 0s 518us/step - loss: 0.4930 - accuracy: 0.7539\n",
      "Epoch 114/200\n",
      "77/77 [==============================] - 0s 505us/step - loss: 0.4937 - accuracy: 0.7578\n",
      "Epoch 115/200\n",
      "77/77 [==============================] - 0s 518us/step - loss: 0.4932 - accuracy: 0.7565\n",
      "Epoch 116/200\n",
      "77/77 [==============================] - 0s 505us/step - loss: 0.4913 - accuracy: 0.7474\n",
      "Epoch 117/200\n",
      "77/77 [==============================] - 0s 505us/step - loss: 0.4969 - accuracy: 0.7539\n",
      "Epoch 118/200\n",
      "77/77 [==============================] - 0s 531us/step - loss: 0.4920 - accuracy: 0.7474\n",
      "Epoch 119/200\n",
      "77/77 [==============================] - 0s 518us/step - loss: 0.5022 - accuracy: 0.7552\n",
      "Epoch 120/200\n",
      "77/77 [==============================] - 0s 557us/step - loss: 0.4908 - accuracy: 0.7461\n",
      "Epoch 121/200\n",
      "77/77 [==============================] - 0s 518us/step - loss: 0.4847 - accuracy: 0.7526\n",
      "Epoch 122/200\n",
      "77/77 [==============================] - 0s 518us/step - loss: 0.4915 - accuracy: 0.7461\n",
      "Epoch 123/200\n",
      "77/77 [==============================] - 0s 505us/step - loss: 0.4918 - accuracy: 0.7461\n",
      "Epoch 124/200\n",
      "77/77 [==============================] - 0s 531us/step - loss: 0.4932 - accuracy: 0.7487\n",
      "Epoch 125/200\n",
      "77/77 [==============================] - 0s 505us/step - loss: 0.4904 - accuracy: 0.7539\n",
      "Epoch 126/200\n",
      "77/77 [==============================] - 0s 505us/step - loss: 0.4814 - accuracy: 0.7630\n",
      "Epoch 127/200\n",
      "77/77 [==============================] - 0s 505us/step - loss: 0.4960 - accuracy: 0.7578\n",
      "Epoch 128/200\n",
      "77/77 [==============================] - 0s 518us/step - loss: 0.4880 - accuracy: 0.7591\n",
      "Epoch 129/200\n",
      "77/77 [==============================] - 0s 518us/step - loss: 0.4992 - accuracy: 0.7331\n",
      "Epoch 130/200\n",
      "77/77 [==============================] - 0s 518us/step - loss: 0.4868 - accuracy: 0.7565\n",
      "Epoch 131/200\n",
      "77/77 [==============================] - 0s 518us/step - loss: 0.4831 - accuracy: 0.7695\n",
      "Epoch 132/200\n",
      "77/77 [==============================] - 0s 518us/step - loss: 0.4854 - accuracy: 0.7552\n",
      "Epoch 133/200\n",
      "77/77 [==============================] - 0s 518us/step - loss: 0.4851 - accuracy: 0.7643\n",
      "Epoch 134/200\n",
      "77/77 [==============================] - 0s 544us/step - loss: 0.4904 - accuracy: 0.7513\n",
      "Epoch 135/200\n",
      "77/77 [==============================] - 0s 531us/step - loss: 0.4940 - accuracy: 0.7500\n",
      "Epoch 136/200\n",
      "77/77 [==============================] - 0s 531us/step - loss: 0.4827 - accuracy: 0.7435\n",
      "Epoch 137/200\n",
      "77/77 [==============================] - 0s 518us/step - loss: 0.4884 - accuracy: 0.7539\n",
      "Epoch 138/200\n",
      "77/77 [==============================] - 0s 505us/step - loss: 0.4964 - accuracy: 0.7539\n",
      "Epoch 139/200\n",
      "77/77 [==============================] - 0s 505us/step - loss: 0.4841 - accuracy: 0.7578\n",
      "Epoch 140/200\n",
      "77/77 [==============================] - 0s 505us/step - loss: 0.4849 - accuracy: 0.7695\n",
      "Epoch 141/200\n",
      "77/77 [==============================] - 0s 518us/step - loss: 0.4792 - accuracy: 0.7539\n",
      "Epoch 142/200\n",
      "77/77 [==============================] - 0s 518us/step - loss: 0.4827 - accuracy: 0.7591\n",
      "Epoch 143/200\n",
      "77/77 [==============================] - 0s 531us/step - loss: 0.4916 - accuracy: 0.7604\n",
      "Epoch 144/200\n",
      "77/77 [==============================] - 0s 531us/step - loss: 0.4814 - accuracy: 0.7578\n",
      "Epoch 145/200\n",
      "77/77 [==============================] - 0s 531us/step - loss: 0.4941 - accuracy: 0.7526\n",
      "Epoch 146/200\n",
      "77/77 [==============================] - 0s 518us/step - loss: 0.4922 - accuracy: 0.7604\n",
      "Epoch 147/200\n",
      "77/77 [==============================] - 0s 531us/step - loss: 0.4797 - accuracy: 0.7513\n",
      "Epoch 148/200\n",
      "77/77 [==============================] - 0s 531us/step - loss: 0.4808 - accuracy: 0.7513\n",
      "Epoch 149/200\n",
      "77/77 [==============================] - 0s 557us/step - loss: 0.4880 - accuracy: 0.7578\n",
      "Epoch 150/200\n",
      "77/77 [==============================] - 0s 518us/step - loss: 0.4795 - accuracy: 0.7591\n",
      "Epoch 151/200\n",
      "77/77 [==============================] - 0s 518us/step - loss: 0.4826 - accuracy: 0.7630\n",
      "Epoch 152/200\n",
      "77/77 [==============================] - 0s 505us/step - loss: 0.4801 - accuracy: 0.7513\n",
      "Epoch 153/200\n",
      "77/77 [==============================] - 0s 570us/step - loss: 0.4805 - accuracy: 0.7604\n",
      "Epoch 154/200\n",
      "77/77 [==============================] - 0s 583us/step - loss: 0.4812 - accuracy: 0.7656\n",
      "Epoch 155/200\n",
      "77/77 [==============================] - 0s 570us/step - loss: 0.4752 - accuracy: 0.7591\n",
      "Epoch 156/200\n",
      "77/77 [==============================] - 0s 570us/step - loss: 0.4727 - accuracy: 0.7734\n",
      "Epoch 157/200\n",
      "77/77 [==============================] - 0s 557us/step - loss: 0.4836 - accuracy: 0.7539\n",
      "Epoch 158/200\n",
      "77/77 [==============================] - 0s 518us/step - loss: 0.4739 - accuracy: 0.7695\n",
      "Epoch 159/200\n",
      "77/77 [==============================] - 0s 505us/step - loss: 0.4784 - accuracy: 0.7656\n",
      "Epoch 160/200\n"
     ]
    },
    {
     "name": "stdout",
     "output_type": "stream",
     "text": [
      "77/77 [==============================] - 0s 518us/step - loss: 0.4852 - accuracy: 0.7513\n",
      "Epoch 161/200\n",
      "77/77 [==============================] - 0s 518us/step - loss: 0.4800 - accuracy: 0.7630\n",
      "Epoch 162/200\n",
      "77/77 [==============================] - 0s 507us/step - loss: 0.4807 - accuracy: 0.7565\n",
      "Epoch 163/200\n",
      "77/77 [==============================] - 0s 518us/step - loss: 0.4775 - accuracy: 0.7643\n",
      "Epoch 164/200\n",
      "77/77 [==============================] - 0s 511us/step - loss: 0.4781 - accuracy: 0.7643\n",
      "Epoch 165/200\n",
      "77/77 [==============================] - 0s 544us/step - loss: 0.4844 - accuracy: 0.7526\n",
      "Epoch 166/200\n",
      "77/77 [==============================] - 0s 538us/step - loss: 0.4726 - accuracy: 0.7734\n",
      "Epoch 167/200\n",
      "77/77 [==============================] - 0s 622us/step - loss: 0.4676 - accuracy: 0.7695\n",
      "Epoch 168/200\n",
      "77/77 [==============================] - 0s 518us/step - loss: 0.4768 - accuracy: 0.7643\n",
      "Epoch 169/200\n",
      "77/77 [==============================] - 0s 518us/step - loss: 0.4706 - accuracy: 0.7643\n",
      "Epoch 170/200\n",
      "77/77 [==============================] - 0s 505us/step - loss: 0.4778 - accuracy: 0.7656\n",
      "Epoch 171/200\n",
      "77/77 [==============================] - 0s 518us/step - loss: 0.4660 - accuracy: 0.7630\n",
      "Epoch 172/200\n",
      "77/77 [==============================] - 0s 531us/step - loss: 0.4719 - accuracy: 0.7656\n",
      "Epoch 173/200\n",
      "77/77 [==============================] - 0s 518us/step - loss: 0.4760 - accuracy: 0.7734\n",
      "Epoch 174/200\n",
      "77/77 [==============================] - 0s 505us/step - loss: 0.4660 - accuracy: 0.7630\n",
      "Epoch 175/200\n",
      "77/77 [==============================] - 0s 544us/step - loss: 0.4746 - accuracy: 0.7786\n",
      "Epoch 176/200\n",
      "77/77 [==============================] - 0s 518us/step - loss: 0.4698 - accuracy: 0.7591\n",
      "Epoch 177/200\n",
      "77/77 [==============================] - 0s 518us/step - loss: 0.4734 - accuracy: 0.7695\n",
      "Epoch 178/200\n",
      "77/77 [==============================] - 0s 544us/step - loss: 0.4700 - accuracy: 0.7643\n",
      "Epoch 179/200\n",
      "77/77 [==============================] - 0s 518us/step - loss: 0.4757 - accuracy: 0.7695\n",
      "Epoch 180/200\n",
      "77/77 [==============================] - 0s 531us/step - loss: 0.4655 - accuracy: 0.7552\n",
      "Epoch 181/200\n",
      "77/77 [==============================] - 0s 531us/step - loss: 0.4737 - accuracy: 0.7708\n",
      "Epoch 182/200\n",
      "77/77 [==============================] - 0s 531us/step - loss: 0.4818 - accuracy: 0.7682\n",
      "Epoch 183/200\n",
      "77/77 [==============================] - 0s 518us/step - loss: 0.4652 - accuracy: 0.7539\n",
      "Epoch 184/200\n",
      "77/77 [==============================] - 0s 518us/step - loss: 0.4645 - accuracy: 0.7734\n",
      "Epoch 185/200\n",
      "77/77 [==============================] - 0s 518us/step - loss: 0.4666 - accuracy: 0.7682\n",
      "Epoch 186/200\n",
      "77/77 [==============================] - 0s 518us/step - loss: 0.4669 - accuracy: 0.7721\n",
      "Epoch 187/200\n",
      "77/77 [==============================] - 0s 544us/step - loss: 0.4782 - accuracy: 0.7643\n",
      "Epoch 188/200\n",
      "77/77 [==============================] - 0s 531us/step - loss: 0.4758 - accuracy: 0.7721\n",
      "Epoch 189/200\n",
      "77/77 [==============================] - 0s 518us/step - loss: 0.4657 - accuracy: 0.7760\n",
      "Epoch 190/200\n",
      "77/77 [==============================] - 0s 544us/step - loss: 0.4687 - accuracy: 0.7760\n",
      "Epoch 191/200\n",
      "77/77 [==============================] - 0s 518us/step - loss: 0.4675 - accuracy: 0.7669\n",
      "Epoch 192/200\n",
      "77/77 [==============================] - 0s 518us/step - loss: 0.4675 - accuracy: 0.7565\n",
      "Epoch 193/200\n",
      "77/77 [==============================] - 0s 531us/step - loss: 0.4743 - accuracy: 0.7799\n",
      "Epoch 194/200\n",
      "77/77 [==============================] - 0s 583us/step - loss: 0.4765 - accuracy: 0.7695\n",
      "Epoch 195/200\n",
      "77/77 [==============================] - 0s 531us/step - loss: 0.4664 - accuracy: 0.7682\n",
      "Epoch 196/200\n",
      "77/77 [==============================] - 0s 531us/step - loss: 0.4741 - accuracy: 0.7669\n",
      "Epoch 197/200\n",
      "77/77 [==============================] - 0s 544us/step - loss: 0.4734 - accuracy: 0.7747\n",
      "Epoch 198/200\n",
      "77/77 [==============================] - 0s 518us/step - loss: 0.4668 - accuracy: 0.7578\n",
      "Epoch 199/200\n",
      "77/77 [==============================] - 0s 518us/step - loss: 0.4679 - accuracy: 0.7760\n",
      "Epoch 200/200\n",
      "77/77 [==============================] - 0s 531us/step - loss: 0.4662 - accuracy: 0.7721\n"
     ]
    },
    {
     "data": {
      "text/plain": [
       "<tensorflow.python.keras.callbacks.History at 0x256f5f705c8>"
      ]
     },
     "execution_count": 37,
     "metadata": {},
     "output_type": "execute_result"
    }
   ],
   "source": [
    "model.compile(loss='binary_crossentropy', optimizer = 'adam', metrics=['accuracy'])\n",
    "model.fit(X, Y, epochs=200, batch_size = 10)\n"
   ]
  },
  {
   "cell_type": "code",
   "execution_count": 38,
   "metadata": {
    "ExecuteTime": {
     "end_time": "2021-02-01T05:59:33.261690Z",
     "start_time": "2021-02-01T05:59:33.121477Z"
    }
   },
   "outputs": [
    {
     "name": "stdout",
     "output_type": "stream",
     "text": [
      "24/24 [==============================] - 0s 956us/step - loss: 0.4587 - accuracy: 0.7708\n",
      "\n",
      " Accuracy : 0.7708\n"
     ]
    }
   ],
   "source": [
    "print(\"\\n Accuracy : %.4f\" % (model.evaluate(X, Y)[1]))\n",
    "# 모델 정확도 = 85.32% = 100번 시행시 85번은 맞는다는 의미 \n"
   ]
  },
  {
   "cell_type": "code",
   "execution_count": null,
   "metadata": {},
   "outputs": [],
   "source": []
  }
 ],
 "metadata": {
  "kernelspec": {
   "display_name": "Python 3",
   "language": "python",
   "name": "python3"
  },
  "language_info": {
   "codemirror_mode": {
    "name": "ipython",
    "version": 3
   },
   "file_extension": ".py",
   "mimetype": "text/x-python",
   "name": "python",
   "nbconvert_exporter": "python",
   "pygments_lexer": "ipython3",
   "version": "3.7.7"
  },
  "toc": {
   "base_numbering": 1,
   "nav_menu": {},
   "number_sections": true,
   "sideBar": true,
   "skip_h1_title": false,
   "title_cell": "Table of Contents",
   "title_sidebar": "Contents",
   "toc_cell": false,
   "toc_position": {},
   "toc_section_display": true,
   "toc_window_display": false
  },
  "varInspector": {
   "cols": {
    "lenName": 16,
    "lenType": 16,
    "lenVar": 40
   },
   "kernels_config": {
    "python": {
     "delete_cmd_postfix": "",
     "delete_cmd_prefix": "del ",
     "library": "var_list.py",
     "varRefreshCmd": "print(var_dic_list())"
    },
    "r": {
     "delete_cmd_postfix": ") ",
     "delete_cmd_prefix": "rm(",
     "library": "var_list.r",
     "varRefreshCmd": "cat(var_dic_list()) "
    }
   },
   "types_to_exclude": [
    "module",
    "function",
    "builtin_function_or_method",
    "instance",
    "_Feature"
   ],
   "window_display": false
  }
 },
 "nbformat": 4,
 "nbformat_minor": 4
}
