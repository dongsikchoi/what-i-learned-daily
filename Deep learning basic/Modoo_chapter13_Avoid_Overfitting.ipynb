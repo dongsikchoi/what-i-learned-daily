{
 "cells": [
  {
   "cell_type": "code",
   "execution_count": 30,
   "metadata": {
    "ExecuteTime": {
     "end_time": "2021-02-07T05:16:17.121303Z",
     "start_time": "2021-02-07T05:16:17.077992Z"
    }
   },
   "outputs": [],
   "source": [
    "import pandas as pd\n",
    "import numpy as np\n",
    "import tensorflow as tf\n",
    "from tensorflow.keras.models import Sequential\n",
    "from keras.layers.core import Dense\n",
    "#from tensorflow.keras.layers import Dense\n",
    "from sklearn.preprocessing import LabelEncoder\n"
   ]
  },
  {
   "cell_type": "code",
   "execution_count": 3,
   "metadata": {
    "ExecuteTime": {
     "end_time": "2021-02-07T05:08:18.746192Z",
     "start_time": "2021-02-07T05:08:18.431400Z"
    }
   },
   "outputs": [],
   "source": [
    "from jupyterthemes import jtplot\n",
    "jtplot.style(theme='grade3')"
   ]
  },
  {
   "cell_type": "code",
   "execution_count": 44,
   "metadata": {
    "ExecuteTime": {
     "end_time": "2021-02-07T05:21:26.043316Z",
     "start_time": "2021-02-07T05:21:26.036323Z"
    }
   },
   "outputs": [
    {
     "data": {
      "text/plain": [
       "'2.3.1'"
      ]
     },
     "execution_count": 44,
     "metadata": {},
     "output_type": "execute_result"
    }
   ],
   "source": [
    "tf.__version__"
   ]
  },
  {
   "cell_type": "code",
   "execution_count": 45,
   "metadata": {
    "ExecuteTime": {
     "end_time": "2021-02-07T05:21:51.383940Z",
     "start_time": "2021-02-07T05:21:51.375947Z"
    }
   },
   "outputs": [
    {
     "name": "stdout",
     "output_type": "stream",
     "text": [
      "2.4.3\n"
     ]
    }
   ],
   "source": [
    "import keras\n",
    "\n",
    "print(keras.__version__)"
   ]
  },
  {
   "cell_type": "code",
   "execution_count": 6,
   "metadata": {
    "ExecuteTime": {
     "end_time": "2021-02-07T05:08:27.984855Z",
     "start_time": "2021-02-07T05:08:27.978863Z"
    }
   },
   "outputs": [],
   "source": [
    "df = pd.read_csv(\"sonar.csv\",header=None)"
   ]
  },
  {
   "cell_type": "code",
   "execution_count": 7,
   "metadata": {
    "ExecuteTime": {
     "end_time": "2021-02-07T05:08:28.638942Z",
     "start_time": "2021-02-07T05:08:28.618945Z"
    }
   },
   "outputs": [
    {
     "data": {
      "text/html": [
       "<div>\n",
       "<style scoped>\n",
       "    .dataframe tbody tr th:only-of-type {\n",
       "        vertical-align: middle;\n",
       "    }\n",
       "\n",
       "    .dataframe tbody tr th {\n",
       "        vertical-align: top;\n",
       "    }\n",
       "\n",
       "    .dataframe thead th {\n",
       "        text-align: right;\n",
       "    }\n",
       "</style>\n",
       "<table border=\"1\" class=\"dataframe\">\n",
       "  <thead>\n",
       "    <tr style=\"text-align: right;\">\n",
       "      <th></th>\n",
       "      <th>0</th>\n",
       "      <th>1</th>\n",
       "      <th>2</th>\n",
       "      <th>3</th>\n",
       "      <th>4</th>\n",
       "      <th>5</th>\n",
       "      <th>6</th>\n",
       "      <th>7</th>\n",
       "      <th>8</th>\n",
       "      <th>9</th>\n",
       "      <th>...</th>\n",
       "      <th>51</th>\n",
       "      <th>52</th>\n",
       "      <th>53</th>\n",
       "      <th>54</th>\n",
       "      <th>55</th>\n",
       "      <th>56</th>\n",
       "      <th>57</th>\n",
       "      <th>58</th>\n",
       "      <th>59</th>\n",
       "      <th>60</th>\n",
       "    </tr>\n",
       "  </thead>\n",
       "  <tbody>\n",
       "    <tr>\n",
       "      <th>0</th>\n",
       "      <td>0.0200</td>\n",
       "      <td>0.0371</td>\n",
       "      <td>0.0428</td>\n",
       "      <td>0.0207</td>\n",
       "      <td>0.0954</td>\n",
       "      <td>0.0986</td>\n",
       "      <td>0.1539</td>\n",
       "      <td>0.1601</td>\n",
       "      <td>0.3109</td>\n",
       "      <td>0.2111</td>\n",
       "      <td>...</td>\n",
       "      <td>0.0027</td>\n",
       "      <td>0.0065</td>\n",
       "      <td>0.0159</td>\n",
       "      <td>0.0072</td>\n",
       "      <td>0.0167</td>\n",
       "      <td>0.0180</td>\n",
       "      <td>0.0084</td>\n",
       "      <td>0.0090</td>\n",
       "      <td>0.0032</td>\n",
       "      <td>R</td>\n",
       "    </tr>\n",
       "    <tr>\n",
       "      <th>1</th>\n",
       "      <td>0.0453</td>\n",
       "      <td>0.0523</td>\n",
       "      <td>0.0843</td>\n",
       "      <td>0.0689</td>\n",
       "      <td>0.1183</td>\n",
       "      <td>0.2583</td>\n",
       "      <td>0.2156</td>\n",
       "      <td>0.3481</td>\n",
       "      <td>0.3337</td>\n",
       "      <td>0.2872</td>\n",
       "      <td>...</td>\n",
       "      <td>0.0084</td>\n",
       "      <td>0.0089</td>\n",
       "      <td>0.0048</td>\n",
       "      <td>0.0094</td>\n",
       "      <td>0.0191</td>\n",
       "      <td>0.0140</td>\n",
       "      <td>0.0049</td>\n",
       "      <td>0.0052</td>\n",
       "      <td>0.0044</td>\n",
       "      <td>R</td>\n",
       "    </tr>\n",
       "    <tr>\n",
       "      <th>2</th>\n",
       "      <td>0.0262</td>\n",
       "      <td>0.0582</td>\n",
       "      <td>0.1099</td>\n",
       "      <td>0.1083</td>\n",
       "      <td>0.0974</td>\n",
       "      <td>0.2280</td>\n",
       "      <td>0.2431</td>\n",
       "      <td>0.3771</td>\n",
       "      <td>0.5598</td>\n",
       "      <td>0.6194</td>\n",
       "      <td>...</td>\n",
       "      <td>0.0232</td>\n",
       "      <td>0.0166</td>\n",
       "      <td>0.0095</td>\n",
       "      <td>0.0180</td>\n",
       "      <td>0.0244</td>\n",
       "      <td>0.0316</td>\n",
       "      <td>0.0164</td>\n",
       "      <td>0.0095</td>\n",
       "      <td>0.0078</td>\n",
       "      <td>R</td>\n",
       "    </tr>\n",
       "    <tr>\n",
       "      <th>3</th>\n",
       "      <td>0.0100</td>\n",
       "      <td>0.0171</td>\n",
       "      <td>0.0623</td>\n",
       "      <td>0.0205</td>\n",
       "      <td>0.0205</td>\n",
       "      <td>0.0368</td>\n",
       "      <td>0.1098</td>\n",
       "      <td>0.1276</td>\n",
       "      <td>0.0598</td>\n",
       "      <td>0.1264</td>\n",
       "      <td>...</td>\n",
       "      <td>0.0121</td>\n",
       "      <td>0.0036</td>\n",
       "      <td>0.0150</td>\n",
       "      <td>0.0085</td>\n",
       "      <td>0.0073</td>\n",
       "      <td>0.0050</td>\n",
       "      <td>0.0044</td>\n",
       "      <td>0.0040</td>\n",
       "      <td>0.0117</td>\n",
       "      <td>R</td>\n",
       "    </tr>\n",
       "    <tr>\n",
       "      <th>4</th>\n",
       "      <td>0.0762</td>\n",
       "      <td>0.0666</td>\n",
       "      <td>0.0481</td>\n",
       "      <td>0.0394</td>\n",
       "      <td>0.0590</td>\n",
       "      <td>0.0649</td>\n",
       "      <td>0.1209</td>\n",
       "      <td>0.2467</td>\n",
       "      <td>0.3564</td>\n",
       "      <td>0.4459</td>\n",
       "      <td>...</td>\n",
       "      <td>0.0031</td>\n",
       "      <td>0.0054</td>\n",
       "      <td>0.0105</td>\n",
       "      <td>0.0110</td>\n",
       "      <td>0.0015</td>\n",
       "      <td>0.0072</td>\n",
       "      <td>0.0048</td>\n",
       "      <td>0.0107</td>\n",
       "      <td>0.0094</td>\n",
       "      <td>R</td>\n",
       "    </tr>\n",
       "  </tbody>\n",
       "</table>\n",
       "<p>5 rows × 61 columns</p>\n",
       "</div>"
      ],
      "text/plain": [
       "       0       1       2       3       4       5       6       7       8   \\\n",
       "0  0.0200  0.0371  0.0428  0.0207  0.0954  0.0986  0.1539  0.1601  0.3109   \n",
       "1  0.0453  0.0523  0.0843  0.0689  0.1183  0.2583  0.2156  0.3481  0.3337   \n",
       "2  0.0262  0.0582  0.1099  0.1083  0.0974  0.2280  0.2431  0.3771  0.5598   \n",
       "3  0.0100  0.0171  0.0623  0.0205  0.0205  0.0368  0.1098  0.1276  0.0598   \n",
       "4  0.0762  0.0666  0.0481  0.0394  0.0590  0.0649  0.1209  0.2467  0.3564   \n",
       "\n",
       "       9   ...      51      52      53      54      55      56      57  \\\n",
       "0  0.2111  ...  0.0027  0.0065  0.0159  0.0072  0.0167  0.0180  0.0084   \n",
       "1  0.2872  ...  0.0084  0.0089  0.0048  0.0094  0.0191  0.0140  0.0049   \n",
       "2  0.6194  ...  0.0232  0.0166  0.0095  0.0180  0.0244  0.0316  0.0164   \n",
       "3  0.1264  ...  0.0121  0.0036  0.0150  0.0085  0.0073  0.0050  0.0044   \n",
       "4  0.4459  ...  0.0031  0.0054  0.0105  0.0110  0.0015  0.0072  0.0048   \n",
       "\n",
       "       58      59  60  \n",
       "0  0.0090  0.0032   R  \n",
       "1  0.0052  0.0044   R  \n",
       "2  0.0095  0.0078   R  \n",
       "3  0.0040  0.0117   R  \n",
       "4  0.0107  0.0094   R  \n",
       "\n",
       "[5 rows x 61 columns]"
      ]
     },
     "execution_count": 7,
     "metadata": {},
     "output_type": "execute_result"
    }
   ],
   "source": [
    "df.head()"
   ]
  },
  {
   "cell_type": "code",
   "execution_count": 8,
   "metadata": {
    "ExecuteTime": {
     "end_time": "2021-02-07T05:08:47.644319Z",
     "start_time": "2021-02-07T05:08:47.621322Z"
    }
   },
   "outputs": [
    {
     "name": "stdout",
     "output_type": "stream",
     "text": [
      "<class 'pandas.core.frame.DataFrame'>\n",
      "RangeIndex: 208 entries, 0 to 207\n",
      "Data columns (total 61 columns):\n",
      " #   Column  Non-Null Count  Dtype  \n",
      "---  ------  --------------  -----  \n",
      " 0   0       208 non-null    float64\n",
      " 1   1       208 non-null    float64\n",
      " 2   2       208 non-null    float64\n",
      " 3   3       208 non-null    float64\n",
      " 4   4       208 non-null    float64\n",
      " 5   5       208 non-null    float64\n",
      " 6   6       208 non-null    float64\n",
      " 7   7       208 non-null    float64\n",
      " 8   8       208 non-null    float64\n",
      " 9   9       208 non-null    float64\n",
      " 10  10      208 non-null    float64\n",
      " 11  11      208 non-null    float64\n",
      " 12  12      208 non-null    float64\n",
      " 13  13      208 non-null    float64\n",
      " 14  14      208 non-null    float64\n",
      " 15  15      208 non-null    float64\n",
      " 16  16      208 non-null    float64\n",
      " 17  17      208 non-null    float64\n",
      " 18  18      208 non-null    float64\n",
      " 19  19      208 non-null    float64\n",
      " 20  20      208 non-null    float64\n",
      " 21  21      208 non-null    float64\n",
      " 22  22      208 non-null    float64\n",
      " 23  23      208 non-null    float64\n",
      " 24  24      208 non-null    float64\n",
      " 25  25      208 non-null    float64\n",
      " 26  26      208 non-null    float64\n",
      " 27  27      208 non-null    float64\n",
      " 28  28      208 non-null    float64\n",
      " 29  29      208 non-null    float64\n",
      " 30  30      208 non-null    float64\n",
      " 31  31      208 non-null    float64\n",
      " 32  32      208 non-null    float64\n",
      " 33  33      208 non-null    float64\n",
      " 34  34      208 non-null    float64\n",
      " 35  35      208 non-null    float64\n",
      " 36  36      208 non-null    float64\n",
      " 37  37      208 non-null    float64\n",
      " 38  38      208 non-null    float64\n",
      " 39  39      208 non-null    float64\n",
      " 40  40      208 non-null    float64\n",
      " 41  41      208 non-null    float64\n",
      " 42  42      208 non-null    float64\n",
      " 43  43      208 non-null    float64\n",
      " 44  44      208 non-null    float64\n",
      " 45  45      208 non-null    float64\n",
      " 46  46      208 non-null    float64\n",
      " 47  47      208 non-null    float64\n",
      " 48  48      208 non-null    float64\n",
      " 49  49      208 non-null    float64\n",
      " 50  50      208 non-null    float64\n",
      " 51  51      208 non-null    float64\n",
      " 52  52      208 non-null    float64\n",
      " 53  53      208 non-null    float64\n",
      " 54  54      208 non-null    float64\n",
      " 55  55      208 non-null    float64\n",
      " 56  56      208 non-null    float64\n",
      " 57  57      208 non-null    float64\n",
      " 58  58      208 non-null    float64\n",
      " 59  59      208 non-null    float64\n",
      " 60  60      208 non-null    object \n",
      "dtypes: float64(60), object(1)\n",
      "memory usage: 99.2+ KB\n"
     ]
    }
   ],
   "source": [
    "df.info()"
   ]
  },
  {
   "cell_type": "code",
   "execution_count": 11,
   "metadata": {
    "ExecuteTime": {
     "end_time": "2021-02-07T05:11:02.216159Z",
     "start_time": "2021-02-07T05:11:02.207165Z"
    }
   },
   "outputs": [
    {
     "data": {
      "text/plain": [
       "array(['R', 'M'], dtype=object)"
      ]
     },
     "execution_count": 11,
     "metadata": {},
     "output_type": "execute_result"
    }
   ],
   "source": [
    "df[60].unique()"
   ]
  },
  {
   "cell_type": "code",
   "execution_count": 35,
   "metadata": {
    "ExecuteTime": {
     "end_time": "2021-02-07T05:18:21.483526Z",
     "start_time": "2021-02-07T05:18:21.468522Z"
    }
   },
   "outputs": [],
   "source": [
    "dataset = df.to_numpy()\n",
    "\n",
    "X=dataset[:,0:60].astype(float) # Transform input list as float \n",
    "# 모두의 딥러닝 책에는 위 부분의 astype(float)가 빠져 있는데 tensorflow의 버젼이 업데이트 되면서 \n",
    "# strict하게 바뀌었다고 (https://devbull.xyz/failed-to-convert-a-numpy-array-to-a-tensor-unsupported-object-type-float/)\n",
    "\n",
    "Y_obj=dataset[:,60]"
   ]
  },
  {
   "cell_type": "code",
   "execution_count": 36,
   "metadata": {
    "ExecuteTime": {
     "end_time": "2021-02-07T05:18:21.672441Z",
     "start_time": "2021-02-07T05:18:21.658437Z"
    }
   },
   "outputs": [],
   "source": [
    "e = LabelEncoder()\n",
    "e.fit(Y_obj)\n",
    "Y=e.transform(Y_obj)"
   ]
  },
  {
   "cell_type": "code",
   "execution_count": 37,
   "metadata": {
    "ExecuteTime": {
     "end_time": "2021-02-07T05:18:21.859337Z",
     "start_time": "2021-02-07T05:18:21.847334Z"
    }
   },
   "outputs": [
    {
     "data": {
      "text/plain": [
       "numpy.ndarray"
      ]
     },
     "execution_count": 37,
     "metadata": {},
     "output_type": "execute_result"
    }
   ],
   "source": [
    "type(Y)"
   ]
  },
  {
   "cell_type": "code",
   "execution_count": 38,
   "metadata": {
    "ExecuteTime": {
     "end_time": "2021-02-07T05:18:22.048941Z",
     "start_time": "2021-02-07T05:18:22.027936Z"
    }
   },
   "outputs": [],
   "source": [
    "model = Sequential()\n",
    "model.add(Dense(24,input_dim=60,activation='relu'))\n",
    "model.add(Dense(10,activation='relu'))\n",
    "model.add(Dense(1,activation='sigmoid'))"
   ]
  },
  {
   "cell_type": "code",
   "execution_count": 41,
   "metadata": {
    "ExecuteTime": {
     "end_time": "2021-02-07T05:18:31.486258Z",
     "start_time": "2021-02-07T05:18:31.470877Z"
    }
   },
   "outputs": [],
   "source": [
    "model.compile(loss='mean_squared_error',\n",
    "             optimizer='adam',\n",
    "             metrics=['accuracy'])\n"
   ]
  },
  {
   "cell_type": "code",
   "execution_count": 42,
   "metadata": {
    "ExecuteTime": {
     "end_time": "2021-02-07T05:18:36.417359Z",
     "start_time": "2021-02-07T05:18:32.103528Z"
    }
   },
   "outputs": [
    {
     "name": "stdout",
     "output_type": "stream",
     "text": [
      "Epoch 1/200\n",
      "42/42 [==============================] - 0s 468us/step - loss: 0.2472 - accuracy: 0.5433\n",
      "Epoch 2/200\n",
      "42/42 [==============================] - 0s 452us/step - loss: 0.2394 - accuracy: 0.5577\n",
      "Epoch 3/200\n",
      "42/42 [==============================] - 0s 429us/step - loss: 0.2334 - accuracy: 0.6154\n",
      "Epoch 4/200\n",
      "42/42 [==============================] - 0s 452us/step - loss: 0.2278 - accuracy: 0.6298\n",
      "Epoch 5/200\n",
      "42/42 [==============================] - 0s 452us/step - loss: 0.2174 - accuracy: 0.6875\n",
      "Epoch 6/200\n",
      "42/42 [==============================] - 0s 429us/step - loss: 0.2074 - accuracy: 0.7163\n",
      "Epoch 7/200\n",
      "42/42 [==============================] - 0s 405us/step - loss: 0.1978 - accuracy: 0.7260\n",
      "Epoch 8/200\n",
      "42/42 [==============================] - 0s 419us/step - loss: 0.1873 - accuracy: 0.7212\n",
      "Epoch 9/200\n",
      "42/42 [==============================] - 0s 429us/step - loss: 0.1798 - accuracy: 0.7356\n",
      "Epoch 10/200\n",
      "42/42 [==============================] - 0s 426us/step - loss: 0.1704 - accuracy: 0.8125\n",
      "Epoch 11/200\n",
      "42/42 [==============================] - 0s 423us/step - loss: 0.1607 - accuracy: 0.7885\n",
      "Epoch 12/200\n",
      "42/42 [==============================] - 0s 429us/step - loss: 0.1593 - accuracy: 0.7837\n",
      "Epoch 13/200\n",
      "42/42 [==============================] - 0s 429us/step - loss: 0.1482 - accuracy: 0.7981\n",
      "Epoch 14/200\n",
      "42/42 [==============================] - 0s 431us/step - loss: 0.1429 - accuracy: 0.8125\n",
      "Epoch 15/200\n",
      "42/42 [==============================] - 0s 429us/step - loss: 0.1390 - accuracy: 0.8221\n",
      "Epoch 16/200\n",
      "42/42 [==============================] - 0s 429us/step - loss: 0.1337 - accuracy: 0.8029\n",
      "Epoch 17/200\n",
      "42/42 [==============================] - 0s 429us/step - loss: 0.1360 - accuracy: 0.8221\n",
      "Epoch 18/200\n",
      "42/42 [==============================] - 0s 429us/step - loss: 0.1305 - accuracy: 0.8173\n",
      "Epoch 19/200\n",
      "42/42 [==============================] - 0s 442us/step - loss: 0.1236 - accuracy: 0.8510\n",
      "Epoch 20/200\n",
      "42/42 [==============================] - 0s 429us/step - loss: 0.1286 - accuracy: 0.8365\n",
      "Epoch 21/200\n",
      "42/42 [==============================] - 0s 429us/step - loss: 0.1211 - accuracy: 0.8317\n",
      "Epoch 22/200\n",
      "42/42 [==============================] - 0s 429us/step - loss: 0.1178 - accuracy: 0.8317\n",
      "Epoch 23/200\n",
      "42/42 [==============================] - 0s 427us/step - loss: 0.1100 - accuracy: 0.8654\n",
      "Epoch 24/200\n",
      "42/42 [==============================] - 0s 429us/step - loss: 0.1102 - accuracy: 0.8750\n",
      "Epoch 25/200\n",
      "42/42 [==============================] - 0s 429us/step - loss: 0.1060 - accuracy: 0.8654\n",
      "Epoch 26/200\n",
      "42/42 [==============================] - 0s 405us/step - loss: 0.1030 - accuracy: 0.8894\n",
      "Epoch 27/200\n",
      "42/42 [==============================] - 0s 453us/step - loss: 0.1023 - accuracy: 0.8510\n",
      "Epoch 28/200\n",
      "42/42 [==============================] - 0s 405us/step - loss: 0.1018 - accuracy: 0.8846\n",
      "Epoch 29/200\n",
      "42/42 [==============================] - 0s 429us/step - loss: 0.0958 - accuracy: 0.8990\n",
      "Epoch 30/200\n",
      "42/42 [==============================] - 0s 429us/step - loss: 0.0925 - accuracy: 0.8942\n",
      "Epoch 31/200\n",
      "42/42 [==============================] - 0s 405us/step - loss: 0.0903 - accuracy: 0.9135\n",
      "Epoch 32/200\n",
      "42/42 [==============================] - 0s 452us/step - loss: 0.0906 - accuracy: 0.8942\n",
      "Epoch 33/200\n",
      "42/42 [==============================] - 0s 399us/step - loss: 0.0866 - accuracy: 0.9038\n",
      "Epoch 34/200\n",
      "42/42 [==============================] - 0s 429us/step - loss: 0.0834 - accuracy: 0.9038\n",
      "Epoch 35/200\n",
      "42/42 [==============================] - 0s 405us/step - loss: 0.0811 - accuracy: 0.9038\n",
      "Epoch 36/200\n",
      "42/42 [==============================] - 0s 429us/step - loss: 0.0787 - accuracy: 0.9231\n",
      "Epoch 37/200\n",
      "42/42 [==============================] - 0s 452us/step - loss: 0.0777 - accuracy: 0.9183\n",
      "Epoch 38/200\n",
      "42/42 [==============================] - 0s 429us/step - loss: 0.0710 - accuracy: 0.9471\n",
      "Epoch 39/200\n",
      "42/42 [==============================] - 0s 429us/step - loss: 0.0772 - accuracy: 0.9087\n",
      "Epoch 40/200\n",
      "42/42 [==============================] - 0s 429us/step - loss: 0.0728 - accuracy: 0.9135\n",
      "Epoch 41/200\n",
      "42/42 [==============================] - 0s 420us/step - loss: 0.0676 - accuracy: 0.9423\n",
      "Epoch 42/200\n",
      "42/42 [==============================] - 0s 452us/step - loss: 0.0696 - accuracy: 0.9231\n",
      "Epoch 43/200\n",
      "42/42 [==============================] - 0s 448us/step - loss: 0.0625 - accuracy: 0.9423\n",
      "Epoch 44/200\n",
      "42/42 [==============================] - 0s 453us/step - loss: 0.0668 - accuracy: 0.9183\n",
      "Epoch 45/200\n",
      "42/42 [==============================] - 0s 452us/step - loss: 0.0704 - accuracy: 0.9038\n",
      "Epoch 46/200\n",
      "42/42 [==============================] - 0s 452us/step - loss: 0.0594 - accuracy: 0.9471\n",
      "Epoch 47/200\n",
      "42/42 [==============================] - 0s 476us/step - loss: 0.0587 - accuracy: 0.9375\n",
      "Epoch 48/200\n",
      "42/42 [==============================] - 0s 459us/step - loss: 0.0528 - accuracy: 0.9519\n",
      "Epoch 49/200\n",
      "42/42 [==============================] - 0s 445us/step - loss: 0.0554 - accuracy: 0.9471\n",
      "Epoch 50/200\n",
      "42/42 [==============================] - 0s 453us/step - loss: 0.0549 - accuracy: 0.9471\n",
      "Epoch 51/200\n",
      "42/42 [==============================] - 0s 453us/step - loss: 0.0499 - accuracy: 0.9567\n",
      "Epoch 52/200\n",
      "42/42 [==============================] - 0s 476us/step - loss: 0.0519 - accuracy: 0.9471\n",
      "Epoch 53/200\n",
      "42/42 [==============================] - 0s 444us/step - loss: 0.0484 - accuracy: 0.9519\n",
      "Epoch 54/200\n",
      "42/42 [==============================] - 0s 452us/step - loss: 0.0448 - accuracy: 0.9615\n",
      "Epoch 55/200\n",
      "42/42 [==============================] - 0s 473us/step - loss: 0.0471 - accuracy: 0.9567\n",
      "Epoch 56/200\n",
      "42/42 [==============================] - 0s 491us/step - loss: 0.0440 - accuracy: 0.9760\n",
      "Epoch 57/200\n",
      "42/42 [==============================] - 0s 452us/step - loss: 0.0448 - accuracy: 0.9519\n",
      "Epoch 58/200\n",
      "42/42 [==============================] - 0s 452us/step - loss: 0.0413 - accuracy: 0.9663\n",
      "Epoch 59/200\n",
      "42/42 [==============================] - 0s 452us/step - loss: 0.0360 - accuracy: 0.9712\n",
      "Epoch 60/200\n",
      "42/42 [==============================] - 0s 421us/step - loss: 0.0366 - accuracy: 0.9712\n",
      "Epoch 61/200\n",
      "42/42 [==============================] - 0s 452us/step - loss: 0.0375 - accuracy: 0.9760\n",
      "Epoch 62/200\n",
      "42/42 [==============================] - 0s 452us/step - loss: 0.0356 - accuracy: 0.9663\n",
      "Epoch 63/200\n",
      "42/42 [==============================] - 0s 452us/step - loss: 0.0362 - accuracy: 0.9760\n",
      "Epoch 64/200\n",
      "42/42 [==============================] - 0s 468us/step - loss: 0.0314 - accuracy: 0.9856\n",
      "Epoch 65/200\n",
      "42/42 [==============================] - 0s 429us/step - loss: 0.0339 - accuracy: 0.9663\n",
      "Epoch 66/200\n",
      "42/42 [==============================] - 0s 430us/step - loss: 0.0325 - accuracy: 0.9808\n",
      "Epoch 67/200\n",
      "42/42 [==============================] - 0s 437us/step - loss: 0.0303 - accuracy: 0.9856\n",
      "Epoch 68/200\n",
      "42/42 [==============================] - 0s 429us/step - loss: 0.0261 - accuracy: 0.9760\n",
      "Epoch 69/200\n",
      "42/42 [==============================] - 0s 424us/step - loss: 0.0310 - accuracy: 0.9760\n",
      "Epoch 70/200\n",
      "42/42 [==============================] - 0s 429us/step - loss: 0.0292 - accuracy: 0.9712\n",
      "Epoch 71/200\n",
      "42/42 [==============================] - 0s 429us/step - loss: 0.0254 - accuracy: 0.9856\n",
      "Epoch 72/200\n",
      "42/42 [==============================] - 0s 427us/step - loss: 0.0248 - accuracy: 0.9808\n",
      "Epoch 73/200\n",
      "42/42 [==============================] - 0s 405us/step - loss: 0.0242 - accuracy: 0.9760\n",
      "Epoch 74/200\n",
      "42/42 [==============================] - 0s 429us/step - loss: 0.0227 - accuracy: 0.9856\n",
      "Epoch 75/200\n",
      "42/42 [==============================] - 0s 421us/step - loss: 0.0222 - accuracy: 0.9904\n",
      "Epoch 76/200\n",
      "42/42 [==============================] - 0s 424us/step - loss: 0.0228 - accuracy: 0.9856\n",
      "Epoch 77/200\n",
      "42/42 [==============================] - 0s 429us/step - loss: 0.0207 - accuracy: 0.9856\n",
      "Epoch 78/200\n",
      "42/42 [==============================] - 0s 452us/step - loss: 0.0218 - accuracy: 0.9808\n",
      "Epoch 79/200\n",
      "42/42 [==============================] - 0s 429us/step - loss: 0.0200 - accuracy: 0.9856\n",
      "Epoch 80/200\n",
      "42/42 [==============================] - 0s 429us/step - loss: 0.0184 - accuracy: 0.9856\n",
      "Epoch 81/200\n"
     ]
    },
    {
     "name": "stdout",
     "output_type": "stream",
     "text": [
      "42/42 [==============================] - 0s 405us/step - loss: 0.0176 - accuracy: 0.9904\n",
      "Epoch 82/200\n",
      "42/42 [==============================] - 0s 453us/step - loss: 0.0177 - accuracy: 0.9856\n",
      "Epoch 83/200\n",
      "42/42 [==============================] - 0s 429us/step - loss: 0.0163 - accuracy: 0.9952\n",
      "Epoch 84/200\n",
      "42/42 [==============================] - 0s 452us/step - loss: 0.0142 - accuracy: 0.9952\n",
      "Epoch 85/200\n",
      "42/42 [==============================] - 0s 429us/step - loss: 0.0236 - accuracy: 0.9760\n",
      "Epoch 86/200\n",
      "42/42 [==============================] - 0s 429us/step - loss: 0.0170 - accuracy: 0.9952\n",
      "Epoch 87/200\n",
      "42/42 [==============================] - 0s 453us/step - loss: 0.0148 - accuracy: 0.9904\n",
      "Epoch 88/200\n",
      "42/42 [==============================] - 0s 452us/step - loss: 0.0148 - accuracy: 0.9904\n",
      "Epoch 89/200\n",
      "42/42 [==============================] - 0s 452us/step - loss: 0.0143 - accuracy: 0.9952\n",
      "Epoch 90/200\n",
      "42/42 [==============================] - 0s 429us/step - loss: 0.0148 - accuracy: 0.9904\n",
      "Epoch 91/200\n",
      "42/42 [==============================] - 0s 452us/step - loss: 0.0120 - accuracy: 0.9952\n",
      "Epoch 92/200\n",
      "42/42 [==============================] - 0s 405us/step - loss: 0.0148 - accuracy: 0.9856\n",
      "Epoch 93/200\n",
      "42/42 [==============================] - 0s 452us/step - loss: 0.0190 - accuracy: 0.9856\n",
      "Epoch 94/200\n",
      "42/42 [==============================] - 0s 452us/step - loss: 0.0120 - accuracy: 0.9952\n",
      "Epoch 95/200\n",
      "42/42 [==============================] - 0s 429us/step - loss: 0.0102 - accuracy: 0.9952\n",
      "Epoch 96/200\n",
      "42/42 [==============================] - 0s 452us/step - loss: 0.0104 - accuracy: 0.9952\n",
      "Epoch 97/200\n",
      "42/42 [==============================] - 0s 452us/step - loss: 0.0110 - accuracy: 0.9952\n",
      "Epoch 98/200\n",
      "42/42 [==============================] - 0s 454us/step - loss: 0.0102 - accuracy: 0.9952\n",
      "Epoch 99/200\n",
      "42/42 [==============================] - 0s 443us/step - loss: 0.0089 - accuracy: 1.0000\n",
      "Epoch 100/200\n",
      "42/42 [==============================] - 0s 452us/step - loss: 0.0090 - accuracy: 0.9952\n",
      "Epoch 101/200\n",
      "42/42 [==============================] - 0s 452us/step - loss: 0.0088 - accuracy: 0.9952\n",
      "Epoch 102/200\n",
      "42/42 [==============================] - 0s 452us/step - loss: 0.0090 - accuracy: 1.0000\n",
      "Epoch 103/200\n",
      "42/42 [==============================] - 0s 447us/step - loss: 0.0079 - accuracy: 1.0000\n",
      "Epoch 104/200\n",
      "42/42 [==============================] - 0s 452us/step - loss: 0.0083 - accuracy: 0.9952\n",
      "Epoch 105/200\n",
      "42/42 [==============================] - 0s 452us/step - loss: 0.0067 - accuracy: 1.0000\n",
      "Epoch 106/200\n",
      "42/42 [==============================] - 0s 452us/step - loss: 0.0072 - accuracy: 1.0000\n",
      "Epoch 107/200\n",
      "42/42 [==============================] - 0s 452us/step - loss: 0.0131 - accuracy: 1.0000\n",
      "Epoch 108/200\n",
      "42/42 [==============================] - 0s 452us/step - loss: 0.0105 - accuracy: 0.9952\n",
      "Epoch 109/200\n",
      "42/42 [==============================] - 0s 452us/step - loss: 0.0063 - accuracy: 0.9952\n",
      "Epoch 110/200\n",
      "42/42 [==============================] - 0s 452us/step - loss: 0.0061 - accuracy: 1.0000\n",
      "Epoch 111/200\n",
      "42/42 [==============================] - 0s 429us/step - loss: 0.0054 - accuracy: 1.0000\n",
      "Epoch 112/200\n",
      "42/42 [==============================] - 0s 405us/step - loss: 0.0098 - accuracy: 0.9952\n",
      "Epoch 113/200\n",
      "42/42 [==============================] - 0s 429us/step - loss: 0.0061 - accuracy: 1.0000\n",
      "Epoch 114/200\n",
      "42/42 [==============================] - 0s 429us/step - loss: 0.0060 - accuracy: 1.0000\n",
      "Epoch 115/200\n",
      "42/42 [==============================] - 0s 429us/step - loss: 0.0054 - accuracy: 1.0000\n",
      "Epoch 116/200\n",
      "42/42 [==============================] - 0s 429us/step - loss: 0.0045 - accuracy: 1.0000\n",
      "Epoch 117/200\n",
      "42/42 [==============================] - 0s 429us/step - loss: 0.0042 - accuracy: 1.0000\n",
      "Epoch 118/200\n",
      "42/42 [==============================] - 0s 429us/step - loss: 0.0037 - accuracy: 1.0000\n",
      "Epoch 119/200\n",
      "42/42 [==============================] - 0s 405us/step - loss: 0.0050 - accuracy: 1.0000\n",
      "Epoch 120/200\n",
      "42/42 [==============================] - 0s 447us/step - loss: 0.0041 - accuracy: 1.0000\n",
      "Epoch 121/200\n",
      "42/42 [==============================] - 0s 405us/step - loss: 0.0043 - accuracy: 1.0000\n",
      "Epoch 122/200\n",
      "42/42 [==============================] - 0s 429us/step - loss: 0.0034 - accuracy: 1.0000\n",
      "Epoch 123/200\n",
      "42/42 [==============================] - 0s 429us/step - loss: 0.0035 - accuracy: 1.0000\n",
      "Epoch 124/200\n",
      "42/42 [==============================] - 0s 421us/step - loss: 0.0032 - accuracy: 1.0000\n",
      "Epoch 125/200\n",
      "42/42 [==============================] - 0s 419us/step - loss: 0.0050 - accuracy: 1.0000\n",
      "Epoch 126/200\n",
      "42/42 [==============================] - 0s 429us/step - loss: 0.0038 - accuracy: 1.0000\n",
      "Epoch 127/200\n",
      "42/42 [==============================] - 0s 429us/step - loss: 0.0028 - accuracy: 1.0000\n",
      "Epoch 128/200\n",
      "42/42 [==============================] - 0s 429us/step - loss: 0.0025 - accuracy: 1.0000\n",
      "Epoch 129/200\n",
      "42/42 [==============================] - 0s 452us/step - loss: 0.0028 - accuracy: 1.0000\n",
      "Epoch 130/200\n",
      "42/42 [==============================] - 0s 429us/step - loss: 0.0026 - accuracy: 1.0000\n",
      "Epoch 131/200\n",
      "42/42 [==============================] - 0s 405us/step - loss: 0.0026 - accuracy: 1.0000\n",
      "Epoch 132/200\n",
      "42/42 [==============================] - 0s 429us/step - loss: 0.0028 - accuracy: 1.0000\n",
      "Epoch 133/200\n",
      "42/42 [==============================] - 0s 405us/step - loss: 0.0022 - accuracy: 1.0000\n",
      "Epoch 134/200\n",
      "42/42 [==============================] - 0s 429us/step - loss: 0.0022 - accuracy: 1.0000\n",
      "Epoch 135/200\n",
      "42/42 [==============================] - 0s 429us/step - loss: 0.0020 - accuracy: 1.0000\n",
      "Epoch 136/200\n",
      "42/42 [==============================] - 0s 405us/step - loss: 0.0025 - accuracy: 1.0000\n",
      "Epoch 137/200\n",
      "42/42 [==============================] - 0s 429us/step - loss: 0.0021 - accuracy: 1.0000\n",
      "Epoch 138/200\n",
      "42/42 [==============================] - 0s 429us/step - loss: 0.0019 - accuracy: 1.0000\n",
      "Epoch 139/200\n",
      "42/42 [==============================] - 0s 429us/step - loss: 0.0023 - accuracy: 1.0000\n",
      "Epoch 140/200\n",
      "42/42 [==============================] - 0s 429us/step - loss: 0.0018 - accuracy: 1.0000\n",
      "Epoch 141/200\n",
      "42/42 [==============================] - 0s 429us/step - loss: 0.0017 - accuracy: 1.0000\n",
      "Epoch 142/200\n",
      "42/42 [==============================] - 0s 429us/step - loss: 0.0018 - accuracy: 1.0000\n",
      "Epoch 143/200\n",
      "42/42 [==============================] - 0s 405us/step - loss: 0.0015 - accuracy: 1.0000\n",
      "Epoch 144/200\n",
      "42/42 [==============================] - 0s 548us/step - loss: 0.0014 - accuracy: 1.0000\n",
      "Epoch 145/200\n",
      "42/42 [==============================] - 0s 421us/step - loss: 0.0014 - accuracy: 1.0000\n",
      "Epoch 146/200\n",
      "42/42 [==============================] - 0s 429us/step - loss: 0.0014 - accuracy: 1.0000\n",
      "Epoch 147/200\n",
      "42/42 [==============================] - 0s 405us/step - loss: 0.0015 - accuracy: 1.0000\n",
      "Epoch 148/200\n",
      "42/42 [==============================] - 0s 429us/step - loss: 0.0013 - accuracy: 1.0000\n",
      "Epoch 149/200\n",
      "42/42 [==============================] - 0s 405us/step - loss: 0.0013 - accuracy: 1.0000\n",
      "Epoch 150/200\n",
      "42/42 [==============================] - 0s 429us/step - loss: 0.0011 - accuracy: 1.0000\n",
      "Epoch 151/200\n",
      "42/42 [==============================] - 0s 429us/step - loss: 0.0012 - accuracy: 1.0000\n",
      "Epoch 152/200\n",
      "42/42 [==============================] - 0s 429us/step - loss: 0.0012 - accuracy: 1.0000\n",
      "Epoch 153/200\n",
      "42/42 [==============================] - 0s 429us/step - loss: 0.0011 - accuracy: 1.0000\n",
      "Epoch 154/200\n",
      "42/42 [==============================] - 0s 429us/step - loss: 0.0011 - accuracy: 1.0000\n",
      "Epoch 155/200\n",
      "42/42 [==============================] - 0s 429us/step - loss: 9.4056e-04 - accuracy: 1.0000\n",
      "Epoch 156/200\n",
      "42/42 [==============================] - 0s 429us/step - loss: 0.0010 - accuracy: 1.0000\n",
      "Epoch 157/200\n",
      "42/42 [==============================] - 0s 405us/step - loss: 8.6486e-04 - accuracy: 1.0000\n",
      "Epoch 158/200\n",
      "42/42 [==============================] - 0s 429us/step - loss: 9.2857e-04 - accuracy: 1.0000\n",
      "Epoch 159/200\n",
      "42/42 [==============================] - 0s 405us/step - loss: 7.9505e-04 - accuracy: 1.0000\n",
      "Epoch 160/200\n"
     ]
    },
    {
     "name": "stdout",
     "output_type": "stream",
     "text": [
      "42/42 [==============================] - 0s 405us/step - loss: 8.7838e-04 - accuracy: 1.0000\n",
      "Epoch 161/200\n",
      "42/42 [==============================] - 0s 429us/step - loss: 8.6952e-04 - accuracy: 1.0000\n",
      "Epoch 162/200\n",
      "42/42 [==============================] - 0s 429us/step - loss: 8.3094e-04 - accuracy: 1.0000\n",
      "Epoch 163/200\n",
      "42/42 [==============================] - 0s 429us/step - loss: 6.9796e-04 - accuracy: 1.0000\n",
      "Epoch 164/200\n",
      "42/42 [==============================] - 0s 429us/step - loss: 7.2964e-04 - accuracy: 1.0000\n",
      "Epoch 165/200\n",
      "42/42 [==============================] - 0s 405us/step - loss: 7.1611e-04 - accuracy: 1.0000\n",
      "Epoch 166/200\n",
      "42/42 [==============================] - 0s 429us/step - loss: 6.4556e-04 - accuracy: 1.0000\n",
      "Epoch 167/200\n",
      "42/42 [==============================] - 0s 429us/step - loss: 7.8656e-04 - accuracy: 1.0000\n",
      "Epoch 168/200\n",
      "42/42 [==============================] - 0s 429us/step - loss: 7.0313e-04 - accuracy: 1.0000\n",
      "Epoch 169/200\n",
      "42/42 [==============================] - 0s 399us/step - loss: 6.2796e-04 - accuracy: 1.0000\n",
      "Epoch 170/200\n",
      "42/42 [==============================] - 0s 429us/step - loss: 5.9435e-04 - accuracy: 1.0000\n",
      "Epoch 171/200\n",
      "42/42 [==============================] - 0s 429us/step - loss: 5.3448e-04 - accuracy: 1.0000\n",
      "Epoch 172/200\n",
      "42/42 [==============================] - 0s 429us/step - loss: 5.6873e-04 - accuracy: 1.0000\n",
      "Epoch 173/200\n",
      "42/42 [==============================] - 0s 429us/step - loss: 6.9289e-04 - accuracy: 1.0000\n",
      "Epoch 174/200\n",
      "42/42 [==============================] - 0s 429us/step - loss: 5.4910e-04 - accuracy: 1.0000\n",
      "Epoch 175/200\n",
      "42/42 [==============================] - 0s 429us/step - loss: 5.7006e-04 - accuracy: 1.0000\n",
      "Epoch 176/200\n",
      "42/42 [==============================] - 0s 405us/step - loss: 5.4284e-04 - accuracy: 1.0000\n",
      "Epoch 177/200\n",
      "42/42 [==============================] - 0s 429us/step - loss: 5.9526e-04 - accuracy: 1.0000\n",
      "Epoch 178/200\n",
      "42/42 [==============================] - 0s 429us/step - loss: 5.3275e-04 - accuracy: 1.0000\n",
      "Epoch 179/200\n",
      "42/42 [==============================] - 0s 405us/step - loss: 4.4314e-04 - accuracy: 1.0000\n",
      "Epoch 180/200\n",
      "42/42 [==============================] - 0s 405us/step - loss: 4.0996e-04 - accuracy: 1.0000\n",
      "Epoch 181/200\n",
      "42/42 [==============================] - 0s 405us/step - loss: 3.9579e-04 - accuracy: 1.0000\n",
      "Epoch 182/200\n",
      "42/42 [==============================] - 0s 429us/step - loss: 4.2192e-04 - accuracy: 1.0000\n",
      "Epoch 183/200\n",
      "42/42 [==============================] - 0s 405us/step - loss: 3.9610e-04 - accuracy: 1.0000\n",
      "Epoch 184/200\n",
      "42/42 [==============================] - 0s 405us/step - loss: 4.3509e-04 - accuracy: 1.0000\n",
      "Epoch 185/200\n",
      "42/42 [==============================] - 0s 429us/step - loss: 3.9906e-04 - accuracy: 1.0000\n",
      "Epoch 186/200\n",
      "42/42 [==============================] - 0s 381us/step - loss: 4.1456e-04 - accuracy: 1.0000\n",
      "Epoch 187/200\n",
      "42/42 [==============================] - 0s 429us/step - loss: 4.0751e-04 - accuracy: 1.0000\n",
      "Epoch 188/200\n",
      "42/42 [==============================] - 0s 429us/step - loss: 3.3064e-04 - accuracy: 1.0000\n",
      "Epoch 189/200\n",
      "42/42 [==============================] - 0s 429us/step - loss: 3.3157e-04 - accuracy: 1.0000\n",
      "Epoch 190/200\n",
      "42/42 [==============================] - 0s 405us/step - loss: 3.0477e-04 - accuracy: 1.0000\n",
      "Epoch 191/200\n",
      "42/42 [==============================] - 0s 405us/step - loss: 3.3228e-04 - accuracy: 1.0000\n",
      "Epoch 192/200\n",
      "42/42 [==============================] - 0s 405us/step - loss: 2.8436e-04 - accuracy: 1.0000\n",
      "Epoch 193/200\n",
      "42/42 [==============================] - 0s 405us/step - loss: 2.9286e-04 - accuracy: 1.0000\n",
      "Epoch 194/200\n",
      "42/42 [==============================] - 0s 405us/step - loss: 2.7127e-04 - accuracy: 1.0000\n",
      "Epoch 195/200\n",
      "42/42 [==============================] - 0s 429us/step - loss: 2.8177e-04 - accuracy: 1.0000\n",
      "Epoch 196/200\n",
      "42/42 [==============================] - 0s 405us/step - loss: 2.7048e-04 - accuracy: 1.0000\n",
      "Epoch 197/200\n",
      "42/42 [==============================] - 0s 429us/step - loss: 2.7486e-04 - accuracy: 1.0000\n",
      "Epoch 198/200\n",
      "42/42 [==============================] - 0s 429us/step - loss: 2.6364e-04 - accuracy: 1.0000\n",
      "Epoch 199/200\n",
      "42/42 [==============================] - 0s 405us/step - loss: 2.3650e-04 - accuracy: 1.0000\n",
      "Epoch 200/200\n",
      "42/42 [==============================] - 0s 429us/step - loss: 2.7031e-04 - accuracy: 1.0000\n"
     ]
    },
    {
     "data": {
      "text/plain": [
       "<tensorflow.python.keras.callbacks.History at 0x15f4c5d1790>"
      ]
     },
     "execution_count": 42,
     "metadata": {},
     "output_type": "execute_result"
    }
   ],
   "source": [
    "model.fit(X,Y,epochs=200,batch_size=5)"
   ]
  },
  {
   "cell_type": "code",
   "execution_count": 43,
   "metadata": {
    "ExecuteTime": {
     "end_time": "2021-02-07T05:21:05.748345Z",
     "start_time": "2021-02-07T05:21:05.631770Z"
    }
   },
   "outputs": [
    {
     "name": "stdout",
     "output_type": "stream",
     "text": [
      "7/7 [==============================] - 0s 429us/step - loss: 2.0965e-04 - accuracy: 1.0000\n",
      "\n",
      " accuracy : 1.0000\n"
     ]
    }
   ],
   "source": [
    "print(\"\\n accuracy : %.4f\" % (model.evaluate(X,Y)[1]))"
   ]
  }
 ],
 "metadata": {
  "kernelspec": {
   "display_name": "Python 3",
   "language": "python",
   "name": "python3"
  },
  "language_info": {
   "codemirror_mode": {
    "name": "ipython",
    "version": 3
   },
   "file_extension": ".py",
   "mimetype": "text/x-python",
   "name": "python",
   "nbconvert_exporter": "python",
   "pygments_lexer": "ipython3",
   "version": "3.8.1"
  },
  "toc": {
   "base_numbering": 1,
   "nav_menu": {},
   "number_sections": true,
   "sideBar": true,
   "skip_h1_title": false,
   "title_cell": "Table of Contents",
   "title_sidebar": "Contents",
   "toc_cell": false,
   "toc_position": {},
   "toc_section_display": true,
   "toc_window_display": false
  }
 },
 "nbformat": 4,
 "nbformat_minor": 4
}
