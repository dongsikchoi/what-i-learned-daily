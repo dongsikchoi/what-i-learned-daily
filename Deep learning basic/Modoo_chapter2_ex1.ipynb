{
 "cells": [
  {
   "cell_type": "markdown",
   "metadata": {},
   "source": [
    "## 폐암 수술 환자의 생존율 예측 \n"
   ]
  },
  {
   "cell_type": "code",
   "execution_count": 15,
   "metadata": {},
   "outputs": [
    {
     "name": "stdout",
     "output_type": "stream",
     "text": [
      "3.8.1 (tags/v3.8.1:1b293b6, Dec 18 2019, 23:11:46) [MSC v.1916 64 bit (AMD64)]\n"
     ]
    }
   ],
   "source": [
    "import sys \n",
    "print(sys.version) # 파이썬 버젼 "
   ]
  },
  {
   "cell_type": "code",
   "execution_count": 9,
   "metadata": {},
   "outputs": [
    {
     "name": "stdout",
     "output_type": "stream",
     "text": [
      "2.3.1\n"
     ]
    }
   ],
   "source": [
    "print(tf.__version__) # tensorflow 버젼 확인 (책은 1.3.0 기준 )"
   ]
  },
  {
   "cell_type": "code",
   "execution_count": 16,
   "metadata": {},
   "outputs": [
    {
     "name": "stdout",
     "output_type": "stream",
     "text": [
      "2.4.3\n"
     ]
    }
   ],
   "source": [
    "import keras\n",
    "print(keras.__version__)"
   ]
  },
  {
   "cell_type": "code",
   "execution_count": 3,
   "metadata": {},
   "outputs": [],
   "source": [
    "# 필요한 케라스 함수 로드 \n",
    "# 필요한 라이브러리 로드 \n",
    "from keras.models import Sequential \n",
    "from keras.layers import Dense\n",
    "\n",
    "import numpy as np\n",
    "import tensorflow as tf "
   ]
  },
  {
   "cell_type": "code",
   "execution_count": 8,
   "metadata": {},
   "outputs": [],
   "source": [
    "# 시드값 설정 (실행시 같은 결과 출력 위함 )\n",
    "seed = 0 \n",
    "np.random.seed(seed)\n",
    "tf.random.set_seed(seed) #책에는 set_random_seed로 되어있으나 tensorflow2부터 바뀐 모양"
   ]
  },
  {
   "cell_type": "code",
   "execution_count": 10,
   "metadata": {},
   "outputs": [],
   "source": [
    "# 데이터 로드\n",
    "data = np.loadtxt(\"ThoraricSurgery.csv\", delimiter =\",\")\n",
    "# Jupyter notebook 사용시 C:\\Users\\ 폴더 기준 \n",
    "# delimiter = 구분자; 쉼표(,)를 기준으로 문자의 앞과 끝을 인식\n"
   ]
  },
  {
   "cell_type": "code",
   "execution_count": 11,
   "metadata": {},
   "outputs": [],
   "source": [
    "# 입력변수 X와 타겟변수 Y \n",
    "# 데이터는 17개의 입력변수, 1개의 타겟변수로 구성 \n",
    "# 종양 유형, 폐활량, 호흡 곤란 여부 등의 입력변수 X를 통해 \n",
    "# 수술 수 생존결과 Y를 예측하고자 함 \n",
    "X = data[:,0:17]\n",
    "Y = data[:,17]"
   ]
  },
  {
   "cell_type": "code",
   "execution_count": 12,
   "metadata": {},
   "outputs": [],
   "source": [
    "# 딥러닝 구조 설정 \n",
    "model = Sequential() # layer를 선형으로 층층이 쌓는 Sequential 모듈 \n",
    "# model.add() 함수를 통해 필요한 층을 쌓아나가는 것 \n",
    "model.add(Dense(30, input_dim = 17, activation = 'relu'))\n",
    "model.add(Dense(1, activation = 'sigmoid'))"
   ]
  },
  {
   "cell_type": "code",
   "execution_count": 13,
   "metadata": {},
   "outputs": [
    {
     "name": "stdout",
     "output_type": "stream",
     "text": [
      "Epoch 1/30\n",
      "47/47 [==============================] - 0s 437us/step - loss: 0.4079 - accuracy: 0.5702\n",
      "Epoch 2/30\n",
      "47/47 [==============================] - 0s 395us/step - loss: 0.1488 - accuracy: 0.8511\n",
      "Epoch 3/30\n",
      "47/47 [==============================] - 0s 416us/step - loss: 0.1488 - accuracy: 0.8511\n",
      "Epoch 4/30\n",
      "47/47 [==============================] - 0s 416us/step - loss: 0.1488 - accuracy: 0.8511\n",
      "Epoch 5/30\n",
      "47/47 [==============================] - 0s 416us/step - loss: 0.1488 - accuracy: 0.8511\n",
      "Epoch 6/30\n",
      "47/47 [==============================] - 0s 388us/step - loss: 0.1487 - accuracy: 0.8511\n",
      "Epoch 7/30\n",
      "47/47 [==============================] - 0s 416us/step - loss: 0.1487 - accuracy: 0.8511\n",
      "Epoch 8/30\n",
      "47/47 [==============================] - 0s 416us/step - loss: 0.1485 - accuracy: 0.8511\n",
      "Epoch 9/30\n",
      "47/47 [==============================] - 0s 395us/step - loss: 0.1482 - accuracy: 0.8511\n",
      "Epoch 10/30\n",
      "47/47 [==============================] - 0s 395us/step - loss: 0.1471 - accuracy: 0.8511\n",
      "Epoch 11/30\n",
      "47/47 [==============================] - 0s 416us/step - loss: 0.1481 - accuracy: 0.8511\n",
      "Epoch 12/30\n",
      "47/47 [==============================] - 0s 416us/step - loss: 0.1471 - accuracy: 0.8511\n",
      "Epoch 13/30\n",
      "47/47 [==============================] - 0s 416us/step - loss: 0.1474 - accuracy: 0.8511\n",
      "Epoch 14/30\n",
      "47/47 [==============================] - 0s 374us/step - loss: 0.1464 - accuracy: 0.8489\n",
      "Epoch 15/30\n",
      "47/47 [==============================] - 0s 416us/step - loss: 0.1456 - accuracy: 0.8511\n",
      "Epoch 16/30\n",
      "47/47 [==============================] - 0s 416us/step - loss: 0.1470 - accuracy: 0.8489\n",
      "Epoch 17/30\n",
      "47/47 [==============================] - 0s 374us/step - loss: 0.1457 - accuracy: 0.8532\n",
      "Epoch 18/30\n",
      "47/47 [==============================] - 0s 395us/step - loss: 0.1449 - accuracy: 0.8511\n",
      "Epoch 19/30\n",
      "47/47 [==============================] - 0s 425us/step - loss: 0.1461 - accuracy: 0.8489\n",
      "Epoch 20/30\n",
      "47/47 [==============================] - 0s 416us/step - loss: 0.1452 - accuracy: 0.8511\n",
      "Epoch 21/30\n",
      "47/47 [==============================] - 0s 416us/step - loss: 0.1443 - accuracy: 0.8532\n",
      "Epoch 22/30\n",
      "47/47 [==============================] - 0s 437us/step - loss: 0.1439 - accuracy: 0.8532\n",
      "Epoch 23/30\n",
      "47/47 [==============================] - 0s 437us/step - loss: 0.1454 - accuracy: 0.8532\n",
      "Epoch 24/30\n",
      "47/47 [==============================] - 0s 416us/step - loss: 0.1454 - accuracy: 0.8532\n",
      "Epoch 25/30\n",
      "47/47 [==============================] - 0s 457us/step - loss: 0.1421 - accuracy: 0.8489\n",
      "Epoch 26/30\n",
      "47/47 [==============================] - 0s 416us/step - loss: 0.1453 - accuracy: 0.8532\n",
      "Epoch 27/30\n",
      "47/47 [==============================] - 0s 437us/step - loss: 0.1444 - accuracy: 0.8553\n",
      "Epoch 28/30\n",
      "47/47 [==============================] - 0s 416us/step - loss: 0.1435 - accuracy: 0.8553\n",
      "Epoch 29/30\n",
      "47/47 [==============================] - 0s 416us/step - loss: 0.1415 - accuracy: 0.8574\n",
      "Epoch 30/30\n",
      "47/47 [==============================] - 0s 422us/step - loss: 0.1435 - accuracy: 0.8489\n"
     ]
    },
    {
     "data": {
      "text/plain": [
       "<tensorflow.python.keras.callbacks.History at 0x235baa0d310>"
      ]
     },
     "execution_count": 13,
     "metadata": {},
     "output_type": "execute_result"
    }
   ],
   "source": [
    "model.compile(loss='mean_squared_error', optimizer = 'adam', metrics=['accuracy'])\n",
    "model.fit(X, Y, epochs=30, batch_size = 10)\n"
   ]
  },
  {
   "cell_type": "code",
   "execution_count": 14,
   "metadata": {},
   "outputs": [
    {
     "name": "stdout",
     "output_type": "stream",
     "text": [
      "15/15 [==============================] - 0s 391us/step - loss: 0.1421 - accuracy: 0.8532\n",
      "\n",
      " Accuracy : 0.8532\n"
     ]
    }
   ],
   "source": [
    "print(\"\\n Accuracy : %.4f\" % (model.evaluate(X, Y)[1]))\n",
    "# 모델 정확도 = 85.32% = 100번 시행시 85번은 맞는다는 의미 \n"
   ]
  },
  {
   "cell_type": "code",
   "execution_count": null,
   "metadata": {},
   "outputs": [],
   "source": []
  }
 ],
 "metadata": {
  "kernelspec": {
   "display_name": "Python 3",
   "language": "python",
   "name": "python3"
  },
  "language_info": {
   "codemirror_mode": {
    "name": "ipython",
    "version": 3
   },
   "file_extension": ".py",
   "mimetype": "text/x-python",
   "name": "python",
   "nbconvert_exporter": "python",
   "pygments_lexer": "ipython3",
   "version": "3.8.1"
  }
 },
 "nbformat": 4,
 "nbformat_minor": 4
}
