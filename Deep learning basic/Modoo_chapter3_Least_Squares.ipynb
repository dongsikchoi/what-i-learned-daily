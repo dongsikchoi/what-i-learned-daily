{
 "cells": [
  {
   "cell_type": "code",
   "execution_count": 1,
   "metadata": {
    "ExecuteTime": {
     "end_time": "2021-01-12T12:04:52.508448Z",
     "start_time": "2021-01-12T12:04:51.526570Z"
    }
   },
   "outputs": [],
   "source": [
    "# 라이브러리 불러옴 \n",
    "import numpy as np"
   ]
  },
  {
   "cell_type": "code",
   "execution_count": 10,
   "metadata": {
    "ExecuteTime": {
     "end_time": "2021-01-12T19:13:30.416837Z",
     "start_time": "2021-01-12T19:13:30.407066Z"
    }
   },
   "outputs": [],
   "source": [
    "# 임의로 정한 기울기 a와 y절편 b값\n",
    "fake_a_b = [3,76]"
   ]
  },
  {
   "cell_type": "code",
   "execution_count": 11,
   "metadata": {
    "ExecuteTime": {
     "end_time": "2021-01-12T19:14:03.479880Z",
     "start_time": "2021-01-12T19:14:03.475972Z"
    }
   },
   "outputs": [],
   "source": [
    "data =[[2,81],[4,93],[6,91],[8,97]]"
   ]
  },
  {
   "cell_type": "code",
   "execution_count": 2,
   "metadata": {
    "ExecuteTime": {
     "end_time": "2021-01-12T12:05:07.106471Z",
     "start_time": "2021-01-12T12:05:07.102561Z"
    }
   },
   "outputs": [],
   "source": [
    "x = [2,4,6,8] # 공부한 시간\n",
    "y = [81,93,91,97] # 성적"
   ]
  },
  {
   "cell_type": "code",
   "execution_count": 3,
   "metadata": {
    "ExecuteTime": {
     "end_time": "2021-01-12T12:05:41.103174Z",
     "start_time": "2021-01-12T12:05:41.097311Z"
    }
   },
   "outputs": [],
   "source": [
    "# 최소 제곱근 공식으로 기울기 a와 절편 b 산출 \n",
    "mx = np.mean(x) # 평균값\n",
    "my = np.mean(y) # 평균값 "
   ]
  },
  {
   "cell_type": "code",
   "execution_count": 4,
   "metadata": {
    "ExecuteTime": {
     "end_time": "2021-01-12T12:05:59.423270Z",
     "start_time": "2021-01-12T12:05:59.419360Z"
    }
   },
   "outputs": [],
   "source": [
    "# x의 각 원소와 x의 평균값의 차이를 제곱하여 분모에 쓸 것  \n",
    "divisor = sum([(i - mx)**2 for i in x])"
   ]
  },
  {
   "cell_type": "code",
   "execution_count": 12,
   "metadata": {
    "ExecuteTime": {
     "end_time": "2021-01-12T19:14:30.510124Z",
     "start_time": "2021-01-12T19:14:30.506216Z"
    }
   },
   "outputs": [],
   "source": [
    "# y= ax+b에 a와 b값을 대입해서 결과 나옴 \n",
    "def predict(x):\n",
    "    return fake_a_b[0]*x + fake_a_b[1]"
   ]
  },
  {
   "cell_type": "code",
   "execution_count": 13,
   "metadata": {
    "ExecuteTime": {
     "end_time": "2021-01-12T19:15:34.437714Z",
     "start_time": "2021-01-12T19:15:34.433805Z"
    }
   },
   "outputs": [],
   "source": [
    "# MSE 함수를 각 y값에 대입해 최종값을 구하는 함수 \n",
    "def mse (y_hat,y):\n",
    "    return ((y_hat,y)**2).mean()"
   ]
  },
  {
   "cell_type": "code",
   "execution_count": 14,
   "metadata": {
    "ExecuteTime": {
     "end_time": "2021-01-12T19:16:07.593060Z",
     "start_time": "2021-01-12T19:16:07.590128Z"
    }
   },
   "outputs": [],
   "source": [
    "predict_result =[]"
   ]
  },
  {
   "cell_type": "code",
   "execution_count": null,
   "metadata": {},
   "outputs": [],
   "source": [
    "for i in range(len(x)):"
   ]
  },
  {
   "cell_type": "code",
   "execution_count": 5,
   "metadata": {
    "ExecuteTime": {
     "end_time": "2021-01-12T12:07:15.960472Z",
     "start_time": "2021-01-12T12:07:15.956563Z"
    }
   },
   "outputs": [],
   "source": [
    "# x와 y의 편차를 곱해서 합한 값 \n",
    "def top(x,mx,y,my):\n",
    "    d = 0\n",
    "    for i in range(len(x)):\n",
    "        d+= (x[i]-mx)*(y[i]-my)\n",
    "    return d\n",
    "dividend = top(x,mx,y,my)"
   ]
  },
  {
   "cell_type": "code",
   "execution_count": 6,
   "metadata": {
    "ExecuteTime": {
     "end_time": "2021-01-12T12:07:26.304356Z",
     "start_time": "2021-01-12T12:07:26.301426Z"
    }
   },
   "outputs": [],
   "source": [
    "a = dividend / divisor\n",
    "b = my - (mx*a)"
   ]
  },
  {
   "cell_type": "code",
   "execution_count": 9,
   "metadata": {
    "ExecuteTime": {
     "end_time": "2021-01-12T12:08:33.178489Z",
     "start_time": "2021-01-12T12:08:33.173604Z"
    }
   },
   "outputs": [
    {
     "name": "stdout",
     "output_type": "stream",
     "text": [
      "x의 평균값 : 5.0\n",
      "y의 평균값 : 90.5\n",
      "분모 : 20.0\n",
      "분자 : 46.0\n",
      "기울기 a : 2.3\n",
      "y절편 b : 79.0\n"
     ]
    }
   ],
   "source": [
    "print (\"x의 평균값 :\",mx)\n",
    "print (\"y의 평균값 :\",my)\n",
    "print(\"분모 :\",divisor)\n",
    "print(\"분자 :\",dividend)\n",
    "print(\"기울기 a :\",a)\n",
    "print(\"y절편 b :\",b)"
   ]
  },
  {
   "cell_type": "code",
   "execution_count": null,
   "metadata": {},
   "outputs": [],
   "source": []
  },
  {
   "cell_type": "code",
   "execution_count": null,
   "metadata": {},
   "outputs": [],
   "source": []
  }
 ],
 "metadata": {
  "kernelspec": {
   "display_name": "Python 3",
   "language": "python",
   "name": "python3"
  },
  "language_info": {
   "codemirror_mode": {
    "name": "ipython",
    "version": 3
   },
   "file_extension": ".py",
   "mimetype": "text/x-python",
   "name": "python",
   "nbconvert_exporter": "python",
   "pygments_lexer": "ipython3",
   "version": "3.8.1"
  },
  "toc": {
   "base_numbering": 1,
   "nav_menu": {},
   "number_sections": true,
   "sideBar": true,
   "skip_h1_title": false,
   "title_cell": "Table of Contents",
   "title_sidebar": "Contents",
   "toc_cell": false,
   "toc_position": {},
   "toc_section_display": true,
   "toc_window_display": false
  }
 },
 "nbformat": 4,
 "nbformat_minor": 4
}
