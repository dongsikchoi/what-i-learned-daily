{
 "cells": [
  {
   "cell_type": "markdown",
   "metadata": {},
   "source": [
    "### 선형회귀 / 로지스틱 회귀"
   ]
  },
  {
   "cell_type": "code",
   "execution_count": 1,
   "metadata": {},
   "outputs": [],
   "source": [
    "import numpy as np"
   ]
  },
  {
   "cell_type": "code",
   "execution_count": 2,
   "metadata": {},
   "outputs": [],
   "source": [
    "# 예제에서 사용할 x,y값 선언 \n",
    "x = [2,4,6,8]\n",
    "y = [81, 93, 91, 97]"
   ]
  },
  {
   "cell_type": "code",
   "execution_count": 3,
   "metadata": {},
   "outputs": [
    {
     "name": "stdout",
     "output_type": "stream",
     "text": [
      "x 평균 :  5.0\n",
      "y 평균 :  90.5\n"
     ]
    }
   ],
   "source": [
    "# 가장 정확한 회귀선을 생성하기 위해 \n",
    "# 최소제곱합 이용 \n",
    "\n",
    "mx = np.mean(x)\n",
    "my = np.mean(y)\n",
    "print(\"x 평균 : \",mx)\n",
    "print(\"y 평균 : \",my)"
   ]
  },
  {
   "cell_type": "code",
   "execution_count": 4,
   "metadata": {},
   "outputs": [],
   "source": [
    "# 기울기 공식에서 분모 \n",
    "divisor = sum([(mx - i)**2 for i in x])\n",
    "#(x - mean(x))^2의 합 "
   ]
  },
  {
   "cell_type": "code",
   "execution_count": 5,
   "metadata": {},
   "outputs": [],
   "source": [
    "# 기울기 공식의 분자\n",
    "def top(x, mx, y, my):\n",
    "    d = 0\n",
    "    for i in range(len(x)):\n",
    "        d +=(x[i]-mx)*(y[i]-my) # (x - mean(x))*(y - mean(y))의 합 \n",
    "    return d\n",
    "dividend=top(x,mx,y,my)"
   ]
  },
  {
   "cell_type": "code",
   "execution_count": 6,
   "metadata": {},
   "outputs": [
    {
     "name": "stdout",
     "output_type": "stream",
     "text": [
      "분모 : 20.0\n",
      "분자 : 46.0\n"
     ]
    }
   ],
   "source": [
    "print(\"분모 :\",divisor)\n",
    "print(\"분자 :\",dividend)"
   ]
  },
  {
   "cell_type": "code",
   "execution_count": 7,
   "metadata": {},
   "outputs": [],
   "source": [
    "a = dividend / divisor # 회귀선의 기울기\n",
    "b = my - (mx*a) # 회귀선의 y절편 "
   ]
  },
  {
   "cell_type": "code",
   "execution_count": 8,
   "metadata": {},
   "outputs": [
    {
     "name": "stdout",
     "output_type": "stream",
     "text": [
      "기울기 a =  2.3\n",
      " y절편 b =  79.0\n"
     ]
    }
   ],
   "source": [
    "print (\"기울기 a = \",a)\n",
    "print(\" y절편 b = \",b)"
   ]
  },
  {
   "cell_type": "code",
   "execution_count": null,
   "metadata": {},
   "outputs": [],
   "source": []
  }
 ],
 "metadata": {
  "kernelspec": {
   "display_name": "Python 3",
   "language": "python",
   "name": "python3"
  },
  "language_info": {
   "codemirror_mode": {
    "name": "ipython",
    "version": 3
   },
   "file_extension": ".py",
   "mimetype": "text/x-python",
   "name": "python",
   "nbconvert_exporter": "python",
   "pygments_lexer": "ipython3",
   "version": "3.8.1"
  }
 },
 "nbformat": 4,
 "nbformat_minor": 4
}
