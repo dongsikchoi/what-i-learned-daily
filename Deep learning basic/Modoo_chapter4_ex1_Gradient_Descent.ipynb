{
 "cells": [
  {
   "cell_type": "markdown",
   "metadata": {},
   "source": [
    "### 경사 하강법 (Gradient Descent)"
   ]
  },
  {
   "cell_type": "code",
   "execution_count": 27,
   "metadata": {},
   "outputs": [],
   "source": [
    "import tensorflow as tf\n",
    "#import tensorflow.compat.v1 as tf\n",
    "\n",
    "#tf.disable_v2_behavior()\n",
    "# tensorflow 1.x 버전 코드 "
   ]
  },
  {
   "cell_type": "code",
   "execution_count": 28,
   "metadata": {},
   "outputs": [],
   "source": [
    "# 예제에서 사용할 x,y값\n",
    "data = [[2,81],[4,93],[6,91],[8,97]]\n",
    "x_data =[x_row[0] for x_row in data]\n",
    "y_data = [y_row[1] for y_row in data]"
   ]
  },
  {
   "cell_type": "code",
   "execution_count": 29,
   "metadata": {},
   "outputs": [
    {
     "data": {
      "text/plain": [
       "[2, 4, 6, 8]"
      ]
     },
     "execution_count": 29,
     "metadata": {},
     "output_type": "execute_result"
    }
   ],
   "source": [
    "x_data"
   ]
  },
  {
   "cell_type": "code",
   "execution_count": 30,
   "metadata": {},
   "outputs": [
    {
     "data": {
      "text/plain": [
       "[81, 93, 91, 97]"
      ]
     },
     "execution_count": 30,
     "metadata": {},
     "output_type": "execute_result"
    }
   ],
   "source": [
    "y_data"
   ]
  },
  {
   "cell_type": "code",
   "execution_count": 31,
   "metadata": {},
   "outputs": [],
   "source": [
    "# 기울이 a와 절편 y는 임의의 값으로 결정 \n",
    "a = tf.Variable(tf.random.uniform([1],0,10,dtype=tf.float64,seed=0))\n",
    "# tensorflow 1.3 기준으로 작성한 모두의 딥러닝 1판의 경우 \n",
    "# tf.random_uniform으로 되어있으나 2.x에서는 tf.random.uniform으로 변경 \n",
    "# [1],0,10 = 0~10 사이에 하나를 임의로 결정하겠다는 의미\n",
    "b = tf.Variable(tf.random.uniform([1],0,100,dtype=tf.float64,seed=0))\n",
    "# [1],0,100 = 마찬가지로 0,100 사이에 하나를 임의로 결정하겠다는 의미"
   ]
  },
  {
   "cell_type": "code",
   "execution_count": 32,
   "metadata": {},
   "outputs": [
    {
     "data": {
      "text/plain": [
       "<tf.Variable 'Variable_2:0' shape=(1,) dtype=float64>"
      ]
     },
     "execution_count": 32,
     "metadata": {},
     "output_type": "execute_result"
    }
   ],
   "source": [
    "a"
   ]
  },
  {
   "cell_type": "code",
   "execution_count": 33,
   "metadata": {},
   "outputs": [
    {
     "data": {
      "text/plain": [
       "<tf.Variable 'Variable_3:0' shape=(1,) dtype=float64>"
      ]
     },
     "execution_count": 33,
     "metadata": {},
     "output_type": "execute_result"
    }
   ],
   "source": [
    "b"
   ]
  },
  {
   "cell_type": "code",
   "execution_count": 23,
   "metadata": {},
   "outputs": [],
   "source": [
    "# y = ax + b \n",
    "y = a * x_data + b "
   ]
  },
  {
   "cell_type": "code",
   "execution_count": 24,
   "metadata": {},
   "outputs": [],
   "source": [
    "# RMSE 함수 \n",
    "rmse = tf.sqrt(tf.reduce_mean(tf.square(y-y_data)))\n",
    "# reduce_mean = mean(x)\n",
    "# sqrt = 루트 \n",
    "# square = 제곱 "
   ]
  },
  {
   "cell_type": "code",
   "execution_count": 25,
   "metadata": {},
   "outputs": [],
   "source": [
    "# 학습률 \n",
    "learning_rate = 0.1"
   ]
  },
  {
   "cell_type": "code",
   "execution_count": 34,
   "metadata": {},
   "outputs": [],
   "source": [
    "# RMSE값을 최소로 하는 값 찾기 \n",
    "gradient_descent = tf.compat.v1.train.GradientDescentOptimizer(learning_rate).minimize(rmse)\n",
    "#gradient_descent = tf.keras.optimizers(learning_rate).minimize(rmse)\n",
    "#tf.compat.v1 = 이 부분만 tensorflow 1.x 코드를 사용하겠다는 의미 "
   ]
  },
  {
   "cell_type": "code",
   "execution_count": 36,
   "metadata": {},
   "outputs": [
    {
     "name": "stdout",
     "output_type": "stream",
     "text": [
      " Epoch: 0, RMSE = 30.2139, 기울기 a= 8.0690, y절편 b = 80.6901\n",
      " Epoch: 100, RMSE = 2.8860, 기울기 a= 8.0690, y절편 b = 80.6901\n",
      " Epoch: 200, RMSE = 2.8826, 기울기 a= 8.0690, y절편 b = 80.6901\n",
      " Epoch: 300, RMSE = 2.8815, 기울기 a= 8.0690, y절편 b = 80.6901\n",
      " Epoch: 400, RMSE = 2.8811, 기울기 a= 8.0690, y절편 b = 80.6901\n",
      " Epoch: 500, RMSE = 2.8810, 기울기 a= 8.0690, y절편 b = 80.6901\n",
      " Epoch: 600, RMSE = 2.8810, 기울기 a= 8.0690, y절편 b = 80.6901\n",
      " Epoch: 700, RMSE = 2.8810, 기울기 a= 8.0690, y절편 b = 80.6901\n",
      " Epoch: 800, RMSE = 2.8810, 기울기 a= 8.0690, y절편 b = 80.6901\n",
      " Epoch: 900, RMSE = 2.8810, 기울기 a= 8.0690, y절편 b = 80.6901\n",
      " Epoch: 1000, RMSE = 2.8810, 기울기 a= 8.0690, y절편 b = 80.6901\n",
      " Epoch: 1100, RMSE = 2.8810, 기울기 a= 8.0690, y절편 b = 80.6901\n",
      " Epoch: 1200, RMSE = 2.8810, 기울기 a= 8.0690, y절편 b = 80.6901\n",
      " Epoch: 1300, RMSE = 2.8810, 기울기 a= 8.0690, y절편 b = 80.6901\n",
      " Epoch: 1400, RMSE = 2.8810, 기울기 a= 8.0690, y절편 b = 80.6901\n",
      " Epoch: 1500, RMSE = 2.8810, 기울기 a= 8.0690, y절편 b = 80.6901\n",
      " Epoch: 1600, RMSE = 2.8810, 기울기 a= 8.0690, y절편 b = 80.6901\n",
      " Epoch: 1700, RMSE = 2.8810, 기울기 a= 8.0690, y절편 b = 80.6901\n",
      " Epoch: 1800, RMSE = 2.8810, 기울기 a= 8.0690, y절편 b = 80.6901\n",
      " Epoch: 1900, RMSE = 2.8810, 기울기 a= 8.0690, y절편 b = 80.6901\n",
      " Epoch: 2000, RMSE = 2.8810, 기울기 a= 8.0690, y절편 b = 80.6901\n"
     ]
    }
   ],
   "source": [
    "with tf.compat.v1.Session() as sess:\n",
    "    sess.run(tf.compat.v1.global_variables_initializer())\n",
    "    \n",
    "    for step in range(2001):\n",
    "        sess.run(gradient_descent)\n",
    "        \n",
    "        if step % 100 ==0:\n",
    "            print(\" Epoch: %.f, RMSE = %.04f, 기울기 a= %.4f, y절편 b = %.4f\"%\n",
    "                 (step,sess.run(rmse),sess.run(a),sess.run(b)))"
   ]
  }
 ],
 "metadata": {
  "kernelspec": {
   "display_name": "Python 3",
   "language": "python",
   "name": "python3"
  },
  "language_info": {
   "codemirror_mode": {
    "name": "ipython",
    "version": 3
   },
   "file_extension": ".py",
   "mimetype": "text/x-python",
   "name": "python",
   "nbconvert_exporter": "python",
   "pygments_lexer": "ipython3",
   "version": "3.8.1"
  }
 },
 "nbformat": 4,
 "nbformat_minor": 4
}
