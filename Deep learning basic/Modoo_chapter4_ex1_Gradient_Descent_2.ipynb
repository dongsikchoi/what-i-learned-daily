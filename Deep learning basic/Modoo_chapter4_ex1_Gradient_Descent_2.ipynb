{
 "cells": [
  {
   "cell_type": "code",
   "execution_count": 1,
   "metadata": {
    "ExecuteTime": {
     "end_time": "2021-01-18T05:16:12.633969Z",
     "start_time": "2021-01-18T05:16:11.897164Z"
    }
   },
   "outputs": [],
   "source": [
    "import numpy as np\n",
    "import pandas as pd\n",
    "import matplotlib.pyplot as plt"
   ]
  },
  {
   "cell_type": "code",
   "execution_count": 2,
   "metadata": {
    "ExecuteTime": {
     "end_time": "2021-01-18T05:16:58.987601Z",
     "start_time": "2021-01-18T05:16:58.979622Z"
    }
   },
   "outputs": [],
   "source": [
    "# 공부시간 X와 성적 Y\n",
    "# Study hours X and Grade Y \n",
    "data = [[2,81],[4,93],[6,91],[8,97]]\n",
    "x = [i[0] for i in data]\n",
    "y = [i[1] for i in data]"
   ]
  },
  {
   "cell_type": "code",
   "execution_count": 7,
   "metadata": {
    "ExecuteTime": {
     "end_time": "2021-01-18T05:20:17.895685Z",
     "start_time": "2021-01-18T05:20:17.668296Z"
    }
   },
   "outputs": [
    {
     "data": {
      "image/png": "[encoded data removed]",
      "text/plain": [
       "<Figure size 576x360 with 1 Axes>"
      ]
     },
     "metadata": {
      "needs_background": "light"
     },
     "output_type": "display_data"
    }
   ],
   "source": [
    "plt.figure(figsize =(8,5))\n",
    "plt.scatter(x,y)\n",
    "plt.xlabel('Study hours')\n",
    "plt.ylabel('Grade')\n",
    "plt.show()"
   ]
  },
  {
   "cell_type": "code",
   "execution_count": 8,
   "metadata": {
    "ExecuteTime": {
     "end_time": "2021-01-18T05:21:04.070218Z",
     "start_time": "2021-01-18T05:21:04.067227Z"
    }
   },
   "outputs": [],
   "source": [
    "# 리스트 형태인 x와 y값을 넘파이 배열로 \n",
    "# (인덱스를 부여하기 위함)\n",
    "# Convert x and y in the form of lists into numpy array to indexing\n",
    "x_data = np.array(x)\n",
    "y_data = np.array(y)"
   ]
  },
  {
   "cell_type": "code",
   "execution_count": 9,
   "metadata": {
    "ExecuteTime": {
     "end_time": "2021-01-18T05:21:16.033214Z",
     "start_time": "2021-01-18T05:21:16.020249Z"
    }
   },
   "outputs": [],
   "source": [
    "# 기울기 a와 절편 b값 초기화 \n",
    "# Initialize gradient a and intercept b \n",
    "a = 0\n",
    "b = 0 "
   ]
  },
  {
   "cell_type": "code",
   "execution_count": 10,
   "metadata": {
    "ExecuteTime": {
     "end_time": "2021-01-18T05:25:12.766907Z",
     "start_time": "2021-01-18T05:25:12.759926Z"
    }
   },
   "outputs": [],
   "source": [
    "# 학습률 \n",
    "# learning rate \n",
    "lr = 0.05 \n",
    "\n",
    "# number of iterations\n",
    "epochs = 2001 \n"
   ]
  },
  {
   "cell_type": "code",
   "execution_count": 12,
   "metadata": {
    "ExecuteTime": {
     "end_time": "2021-01-18T05:31:18.692259Z",
     "start_time": "2021-01-18T05:31:18.651370Z"
    }
   },
   "outputs": [
    {
     "name": "stdout",
     "output_type": "stream",
     "text": [
      "epoch=0,Gradient=2.3000, Intercept = 79.0000\n",
      "epoch=100,Gradient=2.3000, Intercept = 79.0000\n",
      "epoch=200,Gradient=2.3000, Intercept = 79.0000\n",
      "epoch=300,Gradient=2.3000, Intercept = 79.0000\n",
      "epoch=400,Gradient=2.3000, Intercept = 79.0000\n",
      "epoch=500,Gradient=2.3000, Intercept = 79.0000\n",
      "epoch=600,Gradient=2.3000, Intercept = 79.0000\n",
      "epoch=700,Gradient=2.3000, Intercept = 79.0000\n",
      "epoch=800,Gradient=2.3000, Intercept = 79.0000\n",
      "epoch=900,Gradient=2.3000, Intercept = 79.0000\n",
      "epoch=1000,Gradient=2.3000, Intercept = 79.0000\n",
      "epoch=1100,Gradient=2.3000, Intercept = 79.0000\n",
      "epoch=1200,Gradient=2.3000, Intercept = 79.0000\n",
      "epoch=1300,Gradient=2.3000, Intercept = 79.0000\n",
      "epoch=1400,Gradient=2.3000, Intercept = 79.0000\n",
      "epoch=1500,Gradient=2.3000, Intercept = 79.0000\n",
      "epoch=1600,Gradient=2.3000, Intercept = 79.0000\n",
      "epoch=1700,Gradient=2.3000, Intercept = 79.0000\n",
      "epoch=1800,Gradient=2.3000, Intercept = 79.0000\n",
      "epoch=1900,Gradient=2.3000, Intercept = 79.0000\n",
      "epoch=2000,Gradient=2.3000, Intercept = 79.0000\n"
     ]
    }
   ],
   "source": [
    "# 경사 하강법 시작 \n",
    "# Start Gradient Descent\n",
    "for i in range(epochs):\n",
    "    y_pred = a * x_data + b # Equation to get y value \n",
    "    error = y_data - y_pred # Equation to get error\n",
    "    a_diff = -(1/len(x_data))*sum(x_data*error) # Partial differentiation with a \n",
    "    b_diff = -(1/len(x_data))*sum(y_data - y_pred) # Partial differentiation with b \n",
    "    \n",
    "    a = a - lr * a_diff # Multiply learning rate to update value a(gradient)\n",
    "    b = b - lr * b_diff # Multiply learning rate to update value b(intercept)\n",
    "    \n",
    "    if i % 100 == 0:\n",
    "        print(\"epoch=%.f,Gradient=%.04f, Intercept = %.04f\" % (i,a,b))"
   ]
  },
  {
   "cell_type": "code",
   "execution_count": 14,
   "metadata": {
    "ExecuteTime": {
     "end_time": "2021-01-18T05:33:47.802770Z",
     "start_time": "2021-01-18T05:33:47.666136Z"
    }
   },
   "outputs": [
    {
     "data": {
      "image/png": "[encoded data removed]",
      "text/plain": [
       "<Figure size 432x288 with 1 Axes>"
      ]
     },
     "metadata": {
      "needs_background": "light"
     },
     "output_type": "display_data"
    }
   ],
   "source": [
    "# 앞서 구한 기울기와 절편을 이용해 그래프 그리기 \n",
    "# Draw graph using gradient and intercept previously calculated\n",
    "y_pred = a* x_data + b\n",
    "plt.scatter(x,y)\n",
    "plt.plot([min(x_data),max(x_data)],[min(y_pred),max(y_pred)])\n",
    "plt.xlabel('Study hours')\n",
    "plt.ylabel('Grade')\n",
    "plt.show()"
   ]
  }
 ],
 "metadata": {
  "kernelspec": {
   "display_name": "Python 3",
   "language": "python",
   "name": "python3"
  },
  "language_info": {
   "codemirror_mode": {
    "name": "ipython",
    "version": 3
   },
   "file_extension": ".py",
   "mimetype": "text/x-python",
   "name": "python",
   "nbconvert_exporter": "python",
   "pygments_lexer": "ipython3",
   "version": "3.7.7"
  },
  "toc": {
   "base_numbering": 1,
   "nav_menu": {},
   "number_sections": true,
   "sideBar": true,
   "skip_h1_title": false,
   "title_cell": "Table of Contents",
   "title_sidebar": "Contents",
   "toc_cell": false,
   "toc_position": {},
   "toc_section_display": true,
   "toc_window_display": false
  },
  "varInspector": {
   "cols": {
    "lenName": 16,
    "lenType": 16,
    "lenVar": 40
   },
   "kernels_config": {
    "python": {
     "delete_cmd_postfix": "",
     "delete_cmd_prefix": "del ",
     "library": "var_list.py",
     "varRefreshCmd": "print(var_dic_list())"
    },
    "r": {
     "delete_cmd_postfix": ") ",
     "delete_cmd_prefix": "rm(",
     "library": "var_list.r",
     "varRefreshCmd": "cat(var_dic_list()) "
    }
   },
   "types_to_exclude": [
    "module",
    "function",
    "builtin_function_or_method",
    "instance",
    "_Feature"
   ],
   "window_display": false
  }
 },
 "nbformat": 4,
 "nbformat_minor": 4
}
