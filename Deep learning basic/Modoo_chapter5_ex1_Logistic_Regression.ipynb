{
 "cells": [
  {
   "cell_type": "markdown",
   "metadata": {},
   "source": [
    "# Logistic Regression"
   ]
  },
  {
   "cell_type": "code",
   "execution_count": 27,
   "metadata": {
    "ExecuteTime": {
     "end_time": "2021-01-19T23:51:05.544411Z",
     "start_time": "2021-01-19T23:51:05.531107Z"
    }
   },
   "outputs": [],
   "source": [
    "import numpy as np\n",
    "import pandas as pd\n",
    "import matplotlib.pyplot as plt "
   ]
  },
  {
   "cell_type": "code",
   "execution_count": 37,
   "metadata": {
    "ExecuteTime": {
     "end_time": "2021-01-19T23:55:36.534381Z",
     "start_time": "2021-01-19T23:55:36.515289Z"
    }
   },
   "outputs": [],
   "source": [
    "# 공부 시간 X와 합격 여부 Y 리스트 생선 \n",
    "# Create lists that contain study hours X and pass or not Y \n",
    "data = [[2,0],[4,0],[6,0],[8,1],[10,1],[12,1],[14,1]]\n",
    "x_data =[i[0] for i in data]\n",
    "y_data = [i[1] for i in data]"
   ]
  },
  {
   "cell_type": "code",
   "execution_count": 38,
   "metadata": {
    "ExecuteTime": {
     "end_time": "2021-01-19T23:55:36.801893Z",
     "start_time": "2021-01-19T23:55:36.690192Z"
    }
   },
   "outputs": [
    {
     "data": {
      "text/plain": [
       "(-0.1, 1.1)"
      ]
     },
     "execution_count": 38,
     "metadata": {},
     "output_type": "execute_result"
    },
    {
     "data": {
      "image/png": "[encoded data removed]",
      "text/plain": [
       "<Figure size 432x288 with 1 Axes>"
      ]
     },
     "metadata": {
      "needs_background": "light"
     },
     "output_type": "display_data"
    }
   ],
   "source": [
    "# 그래프 생성 \n",
    "# Draw graph\n",
    "plt.scatter (x_data,y_data)\n",
    "# Set scale\n",
    "plt.xlim(0,15)\n",
    "plt.ylim(-.1,1.1)"
   ]
  },
  {
   "cell_type": "code",
   "execution_count": 39,
   "metadata": {
    "ExecuteTime": {
     "end_time": "2021-01-19T23:55:36.849234Z",
     "start_time": "2021-01-19T23:55:36.841255Z"
    }
   },
   "outputs": [],
   "source": [
    "# 기울기 a와 절편 b값 초기화\n",
    "# Initialize gradient a and intercept b \n",
    "a = 0\n",
    "b = 0"
   ]
  },
  {
   "cell_type": "code",
   "execution_count": 40,
   "metadata": {
    "ExecuteTime": {
     "end_time": "2021-01-19T23:55:37.023377Z",
     "start_time": "2021-01-19T23:55:37.017394Z"
    }
   },
   "outputs": [],
   "source": [
    "# 학습률 \n",
    "# Learning rate \n",
    "lr = 0.05"
   ]
  },
  {
   "cell_type": "code",
   "execution_count": 41,
   "metadata": {
    "ExecuteTime": {
     "end_time": "2021-01-19T23:55:37.544081Z",
     "start_time": "2021-01-19T23:55:37.530782Z"
    }
   },
   "outputs": [],
   "source": [
    "# 시그모이드 함수 정의 \n",
    "# Define sigmoid function\n",
    "def sigmoid(x):\n",
    "    return 1 / (1 + np.e**(-x))"
   ]
  },
  {
   "cell_type": "code",
   "execution_count": 45,
   "metadata": {
    "ExecuteTime": {
     "end_time": "2021-01-19T23:59:30.488355Z",
     "start_time": "2021-01-19T23:59:30.449195Z"
    }
   },
   "outputs": [
    {
     "name": "stdout",
     "output_type": "stream",
     "text": [
      "epoch = 0, Gradient = 1.9068, Intercept=-12.9513\n",
      "epoch = 0, Gradient = 1.9058, Intercept=-12.9515\n",
      "epoch = 0, Gradient = 1.8518, Intercept=-12.9605\n",
      "epoch = 0, Gradient = 1.9060, Intercept=-12.9537\n",
      "epoch = 0, Gradient = 1.9071, Intercept=-12.9536\n",
      "epoch = 0, Gradient = 1.9071, Intercept=-12.9536\n",
      "epoch = 0, Gradient = 1.9071, Intercept=-12.9536\n",
      "epoch = 1000, Gradient = 2.1840, Intercept=-14.9583\n",
      "epoch = 1000, Gradient = 2.1836, Intercept=-14.9584\n",
      "epoch = 1000, Gradient = 2.1431, Intercept=-14.9652\n",
      "epoch = 1000, Gradient = 2.1837, Intercept=-14.9601\n",
      "epoch = 1000, Gradient = 2.1842, Intercept=-14.9601\n",
      "epoch = 1000, Gradient = 2.1843, Intercept=-14.9601\n",
      "epoch = 1000, Gradient = 2.1843, Intercept=-14.9601\n",
      "epoch = 2000, Gradient = 2.3969, Intercept=-16.4872\n",
      "epoch = 2000, Gradient = 2.3967, Intercept=-16.4873\n",
      "epoch = 2000, Gradient = 2.3642, Intercept=-16.4927\n",
      "epoch = 2000, Gradient = 2.3968, Intercept=-16.4886\n",
      "epoch = 2000, Gradient = 2.3971, Intercept=-16.4886\n",
      "epoch = 2000, Gradient = 2.3971, Intercept=-16.4886\n",
      "epoch = 2000, Gradient = 2.3971, Intercept=-16.4886\n"
     ]
    }
   ],
   "source": [
    "# 경사 하강법 실행 \n",
    "# Run gradient descent method\n",
    "for i in range(2001):\n",
    "    for x_data,y_data in data:\n",
    "        a_diff = x_data * (sigmoid(a*x_data + b) - y_data) # Partial differentiation with a. Use sigmoid  \n",
    "        b_diff = sigmoid(a * x_data + b) - y_data # Partial differentiation with b \n",
    "        a = a - lr* a_diff # Multiply learning rate to update value a ( gradient )\n",
    "        b = b - lr * b_diff # Multiply learning rate to update value b ( Intercept)\n",
    "        if i % 1000 == 0 :\n",
    "            print(\"epoch = %.f, Gradient = %.04f, Intercept=%.04f\" % (i,a,b))\n",
    "    \n"
   ]
  },
  {
   "cell_type": "code",
   "execution_count": 46,
   "metadata": {
    "ExecuteTime": {
     "end_time": "2021-01-19T23:59:33.697847Z",
     "start_time": "2021-01-19T23:59:33.563210Z"
    }
   },
   "outputs": [
    {
     "data": {
      "image/png": "[encoded data removed]",
      "text/plain": [
       "<Figure size 432x288 with 1 Axes>"
      ]
     },
     "metadata": {
      "needs_background": "light"
     },
     "output_type": "display_data"
    }
   ],
   "source": [
    "# 앞에서 구한 기울기 a와 절편 b를 이용해 그래프 그림 \n",
    "# Draw graph using gradient a and intercept b previously obtained\n",
    "x_data = [i[0] for i in data]\n",
    "y_data = [i[1] for i in data]\n",
    "\n",
    "plt.scatter(x_data, y_data)\n",
    "plt.xlim(0, 15)\n",
    "plt.ylim(-.1, 1.1)\n",
    "x_range = (np.arange(0, 15, 0.1)) \n",
    "plt.plot(np.arange(0, 15, 0.1), np.array([sigmoid(a*x + b) for x in x_range]))\n",
    "plt.show()"
   ]
  },
  {
   "cell_type": "code",
   "execution_count": null,
   "metadata": {},
   "outputs": [],
   "source": []
  }
 ],
 "metadata": {
  "kernelspec": {
   "display_name": "Python 3",
   "language": "python",
   "name": "python3"
  },
  "language_info": {
   "codemirror_mode": {
    "name": "ipython",
    "version": 3
   },
   "file_extension": ".py",
   "mimetype": "text/x-python",
   "name": "python",
   "nbconvert_exporter": "python",
   "pygments_lexer": "ipython3",
   "version": "3.7.7"
  },
  "toc": {
   "base_numbering": 1,
   "nav_menu": {},
   "number_sections": true,
   "sideBar": true,
   "skip_h1_title": false,
   "title_cell": "Table of Contents",
   "title_sidebar": "Contents",
   "toc_cell": false,
   "toc_position": {},
   "toc_section_display": true,
   "toc_window_display": false
  },
  "varInspector": {
   "cols": {
    "lenName": 16,
    "lenType": 16,
    "lenVar": 40
   },
   "kernels_config": {
    "python": {
     "delete_cmd_postfix": "",
     "delete_cmd_prefix": "del ",
     "library": "var_list.py",
     "varRefreshCmd": "print(var_dic_list())"
    },
    "r": {
     "delete_cmd_postfix": ") ",
     "delete_cmd_prefix": "rm(",
     "library": "var_list.r",
     "varRefreshCmd": "cat(var_dic_list()) "
    }
   },
   "types_to_exclude": [
    "module",
    "function",
    "builtin_function_or_method",
    "instance",
    "_Feature"
   ],
   "window_display": false
  }
 },
 "nbformat": 4,
 "nbformat_minor": 4
}
