{
 "cells": [
  {
   "cell_type": "markdown",
   "metadata": {},
   "source": [
    "# Multilayer Perceptron"
   ]
  },
  {
   "cell_type": "code",
   "execution_count": 27,
   "metadata": {
    "ExecuteTime": {
     "end_time": "2021-01-19T23:51:05.544411Z",
     "start_time": "2021-01-19T23:51:05.531107Z"
    }
   },
   "outputs": [],
   "source": [
    "import numpy as np\n"
   ]
  },
  {
   "cell_type": "code",
   "execution_count": 14,
   "metadata": {
    "ExecuteTime": {
     "end_time": "2021-01-20T03:55:45.379031Z",
     "start_time": "2021-01-20T03:55:45.369058Z"
    }
   },
   "outputs": [],
   "source": [
    "# 가중치 , 편향 \n",
    "# Weight and Bias\n",
    "w11 = np.array([-2,-2])\n",
    "w12 = np.array([2,2])\n",
    "w2 = np.array([1,1])\n",
    "b1=3\n",
    "b2 = -1\n",
    "b3 = -1"
   ]
  },
  {
   "cell_type": "code",
   "execution_count": 15,
   "metadata": {
    "ExecuteTime": {
     "end_time": "2021-01-20T03:55:45.504871Z",
     "start_time": "2021-01-20T03:55:45.494899Z"
    }
   },
   "outputs": [],
   "source": [
    "# Perceptron\n",
    "def MLP(x,w,b):\n",
    "    y = np.sum(w*x)+b \n",
    "    if y<=0:\n",
    "        return 0\n",
    "    else:\n",
    "        return 1 \n",
    "    "
   ]
  },
  {
   "cell_type": "code",
   "execution_count": 16,
   "metadata": {
    "ExecuteTime": {
     "end_time": "2021-01-20T03:55:45.647129Z",
     "start_time": "2021-01-20T03:55:45.639150Z"
    }
   },
   "outputs": [],
   "source": [
    "# NAND GATE \n",
    "def NAND(x1,x2):\n",
    "    return MLP(np.array([x1,x2]),w11,b1)"
   ]
  },
  {
   "cell_type": "code",
   "execution_count": 17,
   "metadata": {
    "ExecuteTime": {
     "end_time": "2021-01-20T03:55:45.787881Z",
     "start_time": "2021-01-20T03:55:45.782895Z"
    }
   },
   "outputs": [],
   "source": [
    "# OR GATE \n",
    "def OR(x1,x2):\n",
    "    return MLP(np.array([x1,x2]),w12,b2)"
   ]
  },
  {
   "cell_type": "code",
   "execution_count": 18,
   "metadata": {
    "ExecuteTime": {
     "end_time": "2021-01-20T03:55:45.929883Z",
     "start_time": "2021-01-20T03:55:45.925894Z"
    }
   },
   "outputs": [],
   "source": [
    "def AND(x1,x2):\n",
    "    return MLP(np.array([x1,x2]),w2,b3)"
   ]
  },
  {
   "cell_type": "code",
   "execution_count": 19,
   "metadata": {
    "ExecuteTime": {
     "end_time": "2021-01-20T03:55:46.321089Z",
     "start_time": "2021-01-20T03:55:46.310784Z"
    }
   },
   "outputs": [],
   "source": [
    "def XOR(x1,x2):\n",
    "    return AND(NAND(x1,x2),OR(x1,x2))"
   ]
  },
  {
   "cell_type": "code",
   "execution_count": 20,
   "metadata": {
    "ExecuteTime": {
     "end_time": "2021-01-20T03:55:46.794417Z",
     "start_time": "2021-01-20T03:55:46.782449Z"
    }
   },
   "outputs": [
    {
     "name": "stdout",
     "output_type": "stream",
     "text": [
      "입력 값: (0, 0)출력 값: 0\n",
      "입력 값: (1, 0)출력 값: 1\n",
      "입력 값: (0, 1)출력 값: 1\n",
      "입력 값: (1, 1)출력 값: 0\n"
     ]
    }
   ],
   "source": [
    "if __name__=='__main__':\n",
    "    for x in [(0,0),(1,0),(0,1),(1,1)]:\n",
    "        y = XOR(x[0],x[1])\n",
    "        print(\"입력 값: \" + str(x) + \"출력 값: \"+str(y))"
   ]
  },
  {
   "cell_type": "code",
   "execution_count": null,
   "metadata": {},
   "outputs": [],
   "source": []
  }
 ],
 "metadata": {
  "kernelspec": {
   "display_name": "Python 3",
   "language": "python",
   "name": "python3"
  },
  "language_info": {
   "codemirror_mode": {
    "name": "ipython",
    "version": 3
   },
   "file_extension": ".py",
   "mimetype": "text/x-python",
   "name": "python",
   "nbconvert_exporter": "python",
   "pygments_lexer": "ipython3",
   "version": "3.7.7"
  },
  "toc": {
   "base_numbering": 1,
   "nav_menu": {},
   "number_sections": true,
   "sideBar": true,
   "skip_h1_title": false,
   "title_cell": "Table of Contents",
   "title_sidebar": "Contents",
   "toc_cell": false,
   "toc_position": {},
   "toc_section_display": true,
   "toc_window_display": false
  },
  "varInspector": {
   "cols": {
    "lenName": 16,
    "lenType": 16,
    "lenVar": 40
   },
   "kernels_config": {
    "python": {
     "delete_cmd_postfix": "",
     "delete_cmd_prefix": "del ",
     "library": "var_list.py",
     "varRefreshCmd": "print(var_dic_list())"
    },
    "r": {
     "delete_cmd_postfix": ") ",
     "delete_cmd_prefix": "rm(",
     "library": "var_list.r",
     "varRefreshCmd": "cat(var_dic_list()) "
    }
   },
   "types_to_exclude": [
    "module",
    "function",
    "builtin_function_or_method",
    "instance",
    "_Feature"
   ],
   "window_display": false
  }
 },
 "nbformat": 4,
 "nbformat_minor": 4
}
