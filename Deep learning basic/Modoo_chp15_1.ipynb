{
  "nbformat": 4,
  "nbformat_minor": 0,
  "metadata": {
    "colab": {
      "name": "Modoo_chp15_1",
      "provenance": [],
      "collapsed_sections": []
    },
    "kernelspec": {
      "name": "python3",
      "display_name": "Python 3"
    }
  },
  "cells": [
    {
      "cell_type": "code",
      "metadata": {
        "colab": {
          "base_uri": "https://localhost:8080/"
        },
        "id": "j900AommID47",
        "outputId": "cc5549f0-5a91-4c5a-9aad-86a23313ca93"
      },
      "source": [
        "from google.colab import drive\r\n",
        "drive.mount('/content/drive')"
      ],
      "execution_count": 1,
      "outputs": [
        {
          "output_type": "stream",
          "text": [
            "Drive already mounted at /content/drive; to attempt to forcibly remount, call drive.mount(\"/content/drive\", force_remount=True).\n"
          ],
          "name": "stdout"
        }
      ]
    },
    {
      "cell_type": "code",
      "metadata": {
        "id": "GaRQxT-hIR9x"
      },
      "source": [
        "from keras.models import Sequential\r\n",
        "from keras.layers import Dense\r\n",
        "from sklearn.model_selection import train_test_split\r\n",
        "import numpy\r\n",
        "import pandas as pd \r\n",
        "import tensorflow as tf \r\n"
      ],
      "execution_count": 2,
      "outputs": []
    },
    {
      "cell_type": "code",
      "metadata": {
        "id": "tEOlYUOtIppx"
      },
      "source": [
        "seed = 0 \r\n",
        "numpy.random.seed(seed)\r\n",
        "tf.random.set_seed(3)"
      ],
      "execution_count": 3,
      "outputs": []
    },
    {
      "cell_type": "code",
      "metadata": {
        "id": "y4IJG82RIs-B"
      },
      "source": [
        "df = pd.read_csv(\"/content/drive/MyDrive/housing.csv\",delim_whitespace=True,header=None)"
      ],
      "execution_count": 4,
      "outputs": []
    },
    {
      "cell_type": "code",
      "metadata": {
        "id": "0Ri8SPLLI_QD"
      },
      "source": [
        "dataset = df.values"
      ],
      "execution_count": 5,
      "outputs": []
    },
    {
      "cell_type": "code",
      "metadata": {
        "colab": {
          "base_uri": "https://localhost:8080/"
        },
        "id": "2YV2t-L2JXAc",
        "outputId": "f869230f-9c28-4ac8-bde3-0812e346dafc"
      },
      "source": [
        "dataset.shape"
      ],
      "execution_count": 6,
      "outputs": [
        {
          "output_type": "execute_result",
          "data": {
            "text/plain": [
              "(506, 14)"
            ]
          },
          "metadata": {
            "tags": []
          },
          "execution_count": 6
        }
      ]
    },
    {
      "cell_type": "code",
      "metadata": {
        "id": "HuSRXGS9JXZC"
      },
      "source": [
        ""
      ],
      "execution_count": 6,
      "outputs": []
    },
    {
      "cell_type": "code",
      "metadata": {
        "id": "uaB4RdK8JJ-x"
      },
      "source": [
        "X = dataset[:,0:13].astype(float)\r\n",
        "Y = dataset[:,13].astype(float)"
      ],
      "execution_count": 7,
      "outputs": []
    },
    {
      "cell_type": "code",
      "metadata": {
        "id": "GXHQVlTbJN-R"
      },
      "source": [
        "X_train,X_test,Y_train,Y_test = train_test_split(X,Y,test_size=0.3, random_state= seed)"
      ],
      "execution_count": 8,
      "outputs": []
    },
    {
      "cell_type": "code",
      "metadata": {
        "colab": {
          "base_uri": "https://localhost:8080/"
        },
        "id": "B-G-j7qMLFbi",
        "outputId": "cea50d5e-8760-4574-91e2-fdd0c40f290e"
      },
      "source": [
        "X_train.shape"
      ],
      "execution_count": 9,
      "outputs": [
        {
          "output_type": "execute_result",
          "data": {
            "text/plain": [
              "(354, 13)"
            ]
          },
          "metadata": {
            "tags": []
          },
          "execution_count": 9
        }
      ]
    },
    {
      "cell_type": "code",
      "metadata": {
        "colab": {
          "base_uri": "https://localhost:8080/"
        },
        "id": "odiUFza0LGXB",
        "outputId": "6ac943bb-a955-453a-efc1-c72c479b579c"
      },
      "source": [
        "X_test.shape"
      ],
      "execution_count": 10,
      "outputs": [
        {
          "output_type": "execute_result",
          "data": {
            "text/plain": [
              "(152, 13)"
            ]
          },
          "metadata": {
            "tags": []
          },
          "execution_count": 10
        }
      ]
    },
    {
      "cell_type": "code",
      "metadata": {
        "colab": {
          "base_uri": "https://localhost:8080/"
        },
        "id": "ayWKEaMRLHPB",
        "outputId": "75212bad-3fff-4dea-9bac-25b91136d428"
      },
      "source": [
        "Y_train.shape"
      ],
      "execution_count": 11,
      "outputs": [
        {
          "output_type": "execute_result",
          "data": {
            "text/plain": [
              "(354,)"
            ]
          },
          "metadata": {
            "tags": []
          },
          "execution_count": 11
        }
      ]
    },
    {
      "cell_type": "code",
      "metadata": {
        "colab": {
          "base_uri": "https://localhost:8080/"
        },
        "id": "Q_IjoczcLIMw",
        "outputId": "d5cfd5da-9d6e-4977-c7b2-b6a1410ab1cd"
      },
      "source": [
        "Y_train"
      ],
      "execution_count": 12,
      "outputs": [
        {
          "output_type": "execute_result",
          "data": {
            "text/plain": [
              "array([14.4, 24.4, 18.1, 22.5, 20.5, 15.2, 17.4, 13.6,  8.7, 18.2, 35.4,\n",
              "       31.7, 33. , 22.2, 20.4, 23.9, 25. , 12.7, 29.1, 12. , 17.7, 27. ,\n",
              "       20.6, 10.2, 17.5, 19.7, 29.8, 20.5, 14.9, 10.9, 19.5, 22.7, 19.5,\n",
              "       24.6, 25. , 24.5, 50. , 14.3, 11.8, 31. , 28.7, 16.2, 43.5, 25. ,\n",
              "       22. , 19.9, 22.1, 46. , 22.9, 20.2, 43.1, 34.6, 13.8, 24.3, 21.5,\n",
              "       24.4, 21.2, 23.8, 26.6, 25.1,  9.6, 19.4, 19.4,  9.5, 14. , 26.5,\n",
              "       13.8, 34.7, 16.3, 21.7, 17.5, 15.6, 20.9, 21.7, 12.7, 18.5, 23.7,\n",
              "       19.3, 12.7, 21.6, 23.2, 29.6, 21.2, 23.8, 17.1, 22. , 36.5, 18.8,\n",
              "       21.9, 23.1, 20.2, 17.4, 37. , 24.1, 36.2, 15.7, 32.2, 13.5, 17.9,\n",
              "       13.3, 11.7, 41.7, 18.4, 13.1, 25. , 21.2, 16. , 34.9, 25.2, 24.8,\n",
              "       21.5, 23.4, 18.9, 10.8, 21. , 27.5, 17.5, 13.5, 28.7, 14.8, 19.1,\n",
              "       28.6, 13.1, 19. , 11.3, 13.3, 22.4, 20.1, 18.2, 22.9, 20.6, 25. ,\n",
              "       12.8, 34.9, 23.7, 50. , 29. , 30.1, 22. , 15.6, 23.3, 30.1, 14.3,\n",
              "       22.8, 50. , 20.8,  6.3, 34.9, 32.4, 19.9, 20.3, 17.8, 23.1, 20.4,\n",
              "       23.2,  7. , 16.8, 46.7, 50. , 22.9, 23.9, 21.4, 21.7, 15.4, 15.3,\n",
              "       23.1, 23.9, 19.4, 11.9, 17.8, 31.5, 33.8, 20.8, 19.8, 22.4,  5. ,\n",
              "       24.5, 19.4, 15.1, 18.2, 19.3, 27.1, 20.7, 37.6, 11.7, 33.4, 30.1,\n",
              "       21.4, 45.4, 20.1, 20.8, 26.4, 10.4, 21.8, 32. , 21.7, 18.4, 37.9,\n",
              "       17.8, 28. , 28.2, 36. , 18.9, 15. , 22.5, 30.7, 20. , 19.1, 23.3,\n",
              "       26.6, 21.1, 19.7, 20. , 12.1,  7.2, 14.2, 17.3, 27.5, 22.2, 10.9,\n",
              "       19.2, 32. , 14.5, 24.7, 12.6, 24. , 24.1, 50. , 16.1, 43.8, 26.6,\n",
              "       36.1, 21.8, 29.9, 50. , 44. , 20.6, 19.6, 28.4, 19.1, 22.3, 20.9,\n",
              "       28.4, 14.4, 32.7, 13.8,  8.5, 22.5, 35.1, 31.6, 17.8, 15.6, 20.7,\n",
              "       39.8, 17.8, 19.6, 14.9, 22. , 48.8, 25. , 48.5, 23.9, 20.3, 15.2,\n",
              "       10.5, 19. , 16.4,  8.8, 22. , 24.8, 50. , 19.3, 22.7, 37.3, 31.6,\n",
              "        8.3, 23.1, 50. , 13.9, 16.1, 25.3, 19.5, 10.2, 19.9, 35.2, 13.4,\n",
              "       24.7, 11.5, 23.4, 16.7, 15.4, 18. , 28.5, 18.4, 32.5, 50. , 50. ,\n",
              "       19.6, 17.6, 42.3, 14.5, 13.2, 16.2, 29.6, 16.7, 13. , 22.3, 13.4,\n",
              "        5. , 19.5, 14.6, 22. ,  8.1, 24.6, 33.2, 20.6, 14.1, 14.1, 21.1,\n",
              "       30.3, 23.7, 21.4, 18.3,  8.5, 22.8, 22.8, 22.2, 13.9, 25. , 18.5,\n",
              "        7. , 22.6, 20.1, 30.8, 31.1, 23.8, 12.5, 23.6, 23.2, 24.2, 22.2,\n",
              "       27.9, 22.2, 33.1, 19.3, 18.9, 22.6, 50. , 24.8, 18.5, 36.4, 19.2,\n",
              "       16.6, 23.1])"
            ]
          },
          "metadata": {
            "tags": []
          },
          "execution_count": 12
        }
      ]
    },
    {
      "cell_type": "code",
      "metadata": {
        "colab": {
          "base_uri": "https://localhost:8080/"
        },
        "id": "2C4sodKPLI-R",
        "outputId": "1f2468a6-a19f-4e12-fb7d-7ff3f47cf67d"
      },
      "source": [
        "X_test"
      ],
      "execution_count": 13,
      "outputs": [
        {
          "output_type": "execute_result",
          "data": {
            "text/plain": [
              "array([[6.72400e-02, 0.00000e+00, 3.24000e+00, ..., 1.69000e+01,\n",
              "        3.75210e+02, 7.34000e+00],\n",
              "       [9.23230e+00, 0.00000e+00, 1.81000e+01, ..., 2.02000e+01,\n",
              "        3.66150e+02, 9.53000e+00],\n",
              "       [1.14250e-01, 0.00000e+00, 1.38900e+01, ..., 1.64000e+01,\n",
              "        3.93740e+02, 1.05000e+01],\n",
              "       ...,\n",
              "       [1.68118e+01, 0.00000e+00, 1.81000e+01, ..., 2.02000e+01,\n",
              "        3.96900e+02, 3.08100e+01],\n",
              "       [4.92980e-01, 0.00000e+00, 9.90000e+00, ..., 1.84000e+01,\n",
              "        3.96900e+02, 4.54000e+00],\n",
              "       [2.98500e-02, 0.00000e+00, 2.18000e+00, ..., 1.87000e+01,\n",
              "        3.94120e+02, 5.21000e+00]])"
            ]
          },
          "metadata": {
            "tags": []
          },
          "execution_count": 13
        }
      ]
    },
    {
      "cell_type": "code",
      "metadata": {
        "id": "HxSZxvmoKHqj"
      },
      "source": [
        "model = Sequential()\r\n",
        "model.add(Dense(30,input_dim=13,activation='relu'))\r\n",
        "model.add(Dense(6,activation='relu'))\r\n",
        "model.add(Dense(1))"
      ],
      "execution_count": 14,
      "outputs": []
    },
    {
      "cell_type": "code",
      "metadata": {
        "id": "aO6xaSv0KNfy"
      },
      "source": [
        "model.compile(loss='mse',\r\n",
        "              optimizer='adam')"
      ],
      "execution_count": 15,
      "outputs": []
    },
    {
      "cell_type": "code",
      "metadata": {
        "colab": {
          "base_uri": "https://localhost:8080/"
        },
        "id": "qHjI-wiSKRCB",
        "outputId": "d9e1cdfa-b29d-4326-9195-97ff5a4a7623"
      },
      "source": [
        "model.fit(X_train,Y_train,epochs=200,batch_size=10,verbose=0)"
      ],
      "execution_count": 16,
      "outputs": [
        {
          "output_type": "execute_result",
          "data": {
            "text/plain": [
              "<tensorflow.python.keras.callbacks.History at 0x7f127b3ce490>"
            ]
          },
          "metadata": {
            "tags": []
          },
          "execution_count": 16
        }
      ]
    },
    {
      "cell_type": "code",
      "metadata": {
        "id": "3GSRScwaKVEy"
      },
      "source": [
        "Y_prediction=model.predict(X_test).flatten()"
      ],
      "execution_count": 17,
      "outputs": []
    },
    {
      "cell_type": "code",
      "metadata": {
        "id": "0lRt5IqIMEDk"
      },
      "source": [
        "Y_prediction=Y_prediction.astype(float)"
      ],
      "execution_count": 18,
      "outputs": []
    },
    {
      "cell_type": "code",
      "metadata": {
        "colab": {
          "base_uri": "https://localhost:8080/"
        },
        "id": "ILcMJxTVMO2c",
        "outputId": "246162f0-433a-4297-fa67-2cbdb41dead5"
      },
      "source": [
        "Y_prediction"
      ],
      "execution_count": 19,
      "outputs": [
        {
          "output_type": "execute_result",
          "data": {
            "text/plain": [
              "array([6.34177065, 6.34177065, 6.34177065, 6.34177065, 6.34177065,\n",
              "       6.34177065, 6.34177065, 6.34177065, 6.34177065, 6.34177065,\n",
              "       6.28234959, 6.34177065, 6.34177065, 6.34177065, 6.34177065,\n",
              "       6.34177065, 6.34177065, 6.34177065, 6.34177065, 6.34177065,\n",
              "       6.34177065, 6.34177065, 6.34177065, 6.34177065, 6.34177065,\n",
              "       6.34177065, 6.34177065, 6.34177065, 6.34177065, 6.34177065,\n",
              "       6.34177065, 6.34177065, 6.34177065, 6.34177065, 6.34177065,\n",
              "       6.34177065, 6.34177065, 6.34177065, 6.34177065, 6.34177065,\n",
              "       6.34177065, 6.34177065, 6.34177065, 6.34177065, 6.34177065,\n",
              "       6.34177065, 6.34177065, 6.34177065, 6.34177065, 6.34177065,\n",
              "       6.34177065, 6.34177065, 6.34177065, 6.34177065, 6.34177065,\n",
              "       6.34177065, 6.34177065, 6.34177065, 6.32134342, 6.34177065,\n",
              "       6.34177065, 6.34177065, 6.34177065, 6.34177065, 6.34177065,\n",
              "       6.34177065, 6.34177065, 6.34177065, 6.34177065, 6.34177065,\n",
              "       6.34177065, 6.34177065, 6.34177065, 6.34177065, 6.34177065,\n",
              "       6.34177065, 6.34177065, 6.34177065, 6.34177065, 6.34177065,\n",
              "       6.34177065, 6.34177065, 6.34177065, 6.34177065, 6.34177065,\n",
              "       6.34177065, 6.34177065, 6.34177065, 6.34177065, 6.34177065,\n",
              "       6.34177065, 6.34177065, 6.34177065, 6.34177065, 6.34177065,\n",
              "       6.34177065, 6.34177065, 6.34177065, 6.34177065, 6.34177065,\n",
              "       6.34177065, 6.34177065, 6.34177065, 6.34177065, 6.34177065,\n",
              "       6.34177065, 6.34177065, 6.34177065, 6.34177065, 6.34177065,\n",
              "       6.34177065, 6.34177065, 6.34177065, 6.34177065, 6.34177065,\n",
              "       6.34177065, 6.34177065, 6.34177065, 6.34177065, 5.4046793 ,\n",
              "       6.34177065, 6.34177065, 6.34177065, 6.34177065, 6.34177065,\n",
              "       6.34177065, 6.34177065, 6.34177065, 6.34177065, 6.34177065,\n",
              "       6.34177065, 6.34177065, 6.34177065, 6.34177065, 6.34177065,\n",
              "       6.23612833, 6.34177065, 6.34177065, 6.34177065, 6.34177065,\n",
              "       6.34177065, 6.34177065, 6.34177065, 6.34177065, 6.34177065,\n",
              "       6.34177065, 6.34177065, 6.34177065, 6.34177065, 6.34177065,\n",
              "       6.34177065, 6.34177065])"
            ]
          },
          "metadata": {
            "tags": []
          },
          "execution_count": 19
        }
      ]
    },
    {
      "cell_type": "code",
      "metadata": {
        "colab": {
          "base_uri": "https://localhost:8080/"
        },
        "id": "b434gcDtKcqy",
        "outputId": "0ce3a355-2431-488f-e580-ea5aa38888ae"
      },
      "source": [
        "for i in range(10):\r\n",
        "  label=Y_test[i]\r\n",
        "  prediction = Y_prediction[i]\r\n",
        "  print(\"실제가격: {:.3f}, 예상가격: {:.3f}\".format(label, prediction))"
      ],
      "execution_count": 20,
      "outputs": [
        {
          "output_type": "stream",
          "text": [
            "실제가격: 22.600, 예상가격: 6.342\n",
            "실제가격: 50.000, 예상가격: 6.342\n",
            "실제가격: 23.000, 예상가격: 6.342\n",
            "실제가격: 8.300, 예상가격: 6.342\n",
            "실제가격: 21.200, 예상가격: 6.342\n",
            "실제가격: 19.900, 예상가격: 6.342\n",
            "실제가격: 20.600, 예상가격: 6.342\n",
            "실제가격: 18.700, 예상가격: 6.342\n",
            "실제가격: 16.100, 예상가격: 6.342\n",
            "실제가격: 18.600, 예상가격: 6.342\n"
          ],
          "name": "stdout"
        }
      ]
    },
    {
      "cell_type": "code",
      "metadata": {
        "colab": {
          "base_uri": "https://localhost:8080/"
        },
        "id": "_TNouFpUKj8R",
        "outputId": "e2a6a4c7-6c21-4d22-a24d-3afa143cde90"
      },
      "source": [
        "model.predict(X_test)"
      ],
      "execution_count": 21,
      "outputs": [
        {
          "output_type": "execute_result",
          "data": {
            "text/plain": [
              "array([[6.3417706],\n",
              "       [6.3417706],\n",
              "       [6.3417706],\n",
              "       [6.3417706],\n",
              "       [6.3417706],\n",
              "       [6.3417706],\n",
              "       [6.3417706],\n",
              "       [6.3417706],\n",
              "       [6.3417706],\n",
              "       [6.3417706],\n",
              "       [6.2823496],\n",
              "       [6.3417706],\n",
              "       [6.3417706],\n",
              "       [6.3417706],\n",
              "       [6.3417706],\n",
              "       [6.3417706],\n",
              "       [6.3417706],\n",
              "       [6.3417706],\n",
              "       [6.3417706],\n",
              "       [6.3417706],\n",
              "       [6.3417706],\n",
              "       [6.3417706],\n",
              "       [6.3417706],\n",
              "       [6.3417706],\n",
              "       [6.3417706],\n",
              "       [6.3417706],\n",
              "       [6.3417706],\n",
              "       [6.3417706],\n",
              "       [6.3417706],\n",
              "       [6.3417706],\n",
              "       [6.3417706],\n",
              "       [6.3417706],\n",
              "       [6.3417706],\n",
              "       [6.3417706],\n",
              "       [6.3417706],\n",
              "       [6.3417706],\n",
              "       [6.3417706],\n",
              "       [6.3417706],\n",
              "       [6.3417706],\n",
              "       [6.3417706],\n",
              "       [6.3417706],\n",
              "       [6.3417706],\n",
              "       [6.3417706],\n",
              "       [6.3417706],\n",
              "       [6.3417706],\n",
              "       [6.3417706],\n",
              "       [6.3417706],\n",
              "       [6.3417706],\n",
              "       [6.3417706],\n",
              "       [6.3417706],\n",
              "       [6.3417706],\n",
              "       [6.3417706],\n",
              "       [6.3417706],\n",
              "       [6.3417706],\n",
              "       [6.3417706],\n",
              "       [6.3417706],\n",
              "       [6.3417706],\n",
              "       [6.3417706],\n",
              "       [6.3213434],\n",
              "       [6.3417706],\n",
              "       [6.3417706],\n",
              "       [6.3417706],\n",
              "       [6.3417706],\n",
              "       [6.3417706],\n",
              "       [6.3417706],\n",
              "       [6.3417706],\n",
              "       [6.3417706],\n",
              "       [6.3417706],\n",
              "       [6.3417706],\n",
              "       [6.3417706],\n",
              "       [6.3417706],\n",
              "       [6.3417706],\n",
              "       [6.3417706],\n",
              "       [6.3417706],\n",
              "       [6.3417706],\n",
              "       [6.3417706],\n",
              "       [6.3417706],\n",
              "       [6.3417706],\n",
              "       [6.3417706],\n",
              "       [6.3417706],\n",
              "       [6.3417706],\n",
              "       [6.3417706],\n",
              "       [6.3417706],\n",
              "       [6.3417706],\n",
              "       [6.3417706],\n",
              "       [6.3417706],\n",
              "       [6.3417706],\n",
              "       [6.3417706],\n",
              "       [6.3417706],\n",
              "       [6.3417706],\n",
              "       [6.3417706],\n",
              "       [6.3417706],\n",
              "       [6.3417706],\n",
              "       [6.3417706],\n",
              "       [6.3417706],\n",
              "       [6.3417706],\n",
              "       [6.3417706],\n",
              "       [6.3417706],\n",
              "       [6.3417706],\n",
              "       [6.3417706],\n",
              "       [6.3417706],\n",
              "       [6.3417706],\n",
              "       [6.3417706],\n",
              "       [6.3417706],\n",
              "       [6.3417706],\n",
              "       [6.3417706],\n",
              "       [6.3417706],\n",
              "       [6.3417706],\n",
              "       [6.3417706],\n",
              "       [6.3417706],\n",
              "       [6.3417706],\n",
              "       [6.3417706],\n",
              "       [6.3417706],\n",
              "       [6.3417706],\n",
              "       [6.3417706],\n",
              "       [6.3417706],\n",
              "       [6.3417706],\n",
              "       [6.3417706],\n",
              "       [6.3417706],\n",
              "       [5.4046793],\n",
              "       [6.3417706],\n",
              "       [6.3417706],\n",
              "       [6.3417706],\n",
              "       [6.3417706],\n",
              "       [6.3417706],\n",
              "       [6.3417706],\n",
              "       [6.3417706],\n",
              "       [6.3417706],\n",
              "       [6.3417706],\n",
              "       [6.3417706],\n",
              "       [6.3417706],\n",
              "       [6.3417706],\n",
              "       [6.3417706],\n",
              "       [6.3417706],\n",
              "       [6.3417706],\n",
              "       [6.2361283],\n",
              "       [6.3417706],\n",
              "       [6.3417706],\n",
              "       [6.3417706],\n",
              "       [6.3417706],\n",
              "       [6.3417706],\n",
              "       [6.3417706],\n",
              "       [6.3417706],\n",
              "       [6.3417706],\n",
              "       [6.3417706],\n",
              "       [6.3417706],\n",
              "       [6.3417706],\n",
              "       [6.3417706],\n",
              "       [6.3417706],\n",
              "       [6.3417706],\n",
              "       [6.3417706],\n",
              "       [6.3417706]], dtype=float32)"
            ]
          },
          "metadata": {
            "tags": []
          },
          "execution_count": 21
        }
      ]
    },
    {
      "cell_type": "code",
      "metadata": {
        "id": "GCxxg8vWLaSh"
      },
      "source": [
        ""
      ],
      "execution_count": 21,
      "outputs": []
    },
    {
      "cell_type": "code",
      "metadata": {
        "id": "l21BVhuVLWUA"
      },
      "source": [
        ""
      ],
      "execution_count": 21,
      "outputs": []
    },
    {
      "cell_type": "code",
      "metadata": {
        "id": "vaT9TOakKiei"
      },
      "source": [
        ""
      ],
      "execution_count": 21,
      "outputs": []
    },
    {
      "cell_type": "code",
      "metadata": {
        "id": "6918kcBgIolB"
      },
      "source": [
        ""
      ],
      "execution_count": 21,
      "outputs": []
    }
  ]
}