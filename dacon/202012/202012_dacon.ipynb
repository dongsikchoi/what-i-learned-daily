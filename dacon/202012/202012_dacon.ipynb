{
 "cells": [
  {
   "cell_type": "code",
   "execution_count": 4,
   "metadata": {
    "ExecuteTime": {
     "end_time": "2020-12-23T05:46:32.910248Z",
     "start_time": "2020-12-23T05:46:32.892869Z"
    }
   },
   "outputs": [],
   "source": [
    "import pandas as pd\n",
    "import numpy as np\n",
    "import warnings\n",
    "warnings.filterwarnings(action='ignore')\n",
    "import torch\n",
    "import torch.nn as nn\n",
    "import torch.nn.functional as F\n",
    "import torchvision\n",
    "import torchvision.transforms as transforms\n",
    "from torch.utils.data import Dataset,DataLoader\n",
    "import torch.optim as optim\n",
    "#torch.manual_seed(1015)\n",
    "# define 'device' to upload tensor in gpu\n",
    "device = torch.device(\"cuda:0\" if torch.cuda.is_available() else \"cpu\")"
   ]
  },
  {
   "cell_type": "code",
   "execution_count": 5,
   "metadata": {
    "ExecuteTime": {
     "end_time": "2020-12-23T05:46:33.458712Z",
     "start_time": "2020-12-23T05:46:33.400867Z"
    },
    "scrolled": true
   },
   "outputs": [],
   "source": [
    "train = pd.read_csv(\"dacon_12/train.csv\",encoding=\"euc-kr\")\n",
    "train['DateTime']=pd.to_datetime(train.DateTime)\n",
    "train['date']=train.DateTime.dt.date\n",
    "train=train.groupby('date').sum().reset_index()"
   ]
  },
  {
   "cell_type": "code",
   "execution_count": 6,
   "metadata": {
    "ExecuteTime": {
     "end_time": "2020-12-23T05:46:34.393230Z",
     "start_time": "2020-12-23T05:46:33.872226Z"
    }
   },
   "outputs": [],
   "source": [
    "# 스케일링 \n",
    "mini = train.iloc[:,1:].min()\n",
    "size=train.iloc[:,1:].max()-train.iloc[:,1:].min()\n",
    "train.iloc[:,1:]=(train.iloc[:,1:] - mini) / size\n",
    "\n",
    "input_window = 30\n",
    "output_window = 7\n",
    "\n",
    "window_x = np.zeros((train.shape[0] - (input_window + output_window), input_window, 4))\n",
    "window_y = np.zeros((train.shape[0] - (input_window + output_window), output_window, 4))\n",
    "\n",
    "for start in range(train.shape[0] - (input_window + output_window)):\n",
    "    end = start + input_window    \n",
    "    window_x[start,:, :] = train.iloc[start : end                , 1: ].values\n",
    "    window_y[start,:, :] = train.iloc[end   : end + output_window, 1: ].values"
   ]
  },
  {
   "cell_type": "code",
   "execution_count": 7,
   "metadata": {
    "ExecuteTime": {
     "end_time": "2020-12-23T05:46:37.966234Z",
     "start_time": "2020-12-23T05:46:34.453834Z"
    }
   },
   "outputs": [],
   "source": [
    "class LSTM(nn.Module):\n",
    "    def __init__(self, input_size, hidden_size):\n",
    "        super(LSTM, self).__init__()\n",
    "        self.hidden_size = hidden_size\n",
    "        self.lstm = nn.LSTM(input_size = input_size,\n",
    "                            hidden_size = hidden_size,\n",
    "                            batch_first=True)\n",
    "        self.hidden_lstm = nn.LSTM(input_size = hidden_size,\n",
    "                                   hidden_size = hidden_size,\n",
    "                                   batch_first=True)\n",
    "        \n",
    "        self.time_fc = nn.Linear(hidden_size, 4)\n",
    "    \n",
    "    def forward(self, x_time):\n",
    "    \n",
    "        out_time, _ = self.lstm(x_time)\n",
    "        out_time, _ = self.hidden_lstm(out_time)\n",
    "        out_time, _ = self.hidden_lstm(out_time)\n",
    "        out_time, _ = self.hidden_lstm(out_time)\n",
    "        \n",
    "        \n",
    "        out_time = self.time_fc(out_time[:,-7:, :])\n",
    "        \n",
    "        return out_time.view(-1,7,4)\n",
    "    \n",
    "model = LSTM(input_size = 4, hidden_size = 30).to(device)"
   ]
  },
  {
   "cell_type": "code",
   "execution_count": 8,
   "metadata": {
    "ExecuteTime": {
     "end_time": "2020-12-23T05:47:01.396320Z",
     "start_time": "2020-12-23T05:46:38.015108Z"
    }
   },
   "outputs": [
    {
     "name": "stdout",
     "output_type": "stream",
     "text": [
      "10 Epochs train MSE: 0.02840\n",
      "20 Epochs train MSE: 0.01277\n",
      "30 Epochs train MSE: 0.01269\n",
      "40 Epochs train MSE: 0.00992\n",
      "50 Epochs train MSE: 0.00828\n",
      "60 Epochs train MSE: 0.00808\n",
      "70 Epochs train MSE: 0.00802\n",
      "80 Epochs train MSE: 0.00795\n",
      "90 Epochs train MSE: 0.00790\n",
      "100 Epochs train MSE: 0.00783\n",
      "110 Epochs train MSE: 0.00774\n",
      "120 Epochs train MSE: 0.00759\n",
      "130 Epochs train MSE: 0.00730\n",
      "140 Epochs train MSE: 0.00664\n",
      "150 Epochs train MSE: 0.00638\n",
      "160 Epochs train MSE: 0.00607\n",
      "170 Epochs train MSE: 0.00580\n",
      "180 Epochs train MSE: 0.00563\n",
      "190 Epochs train MSE: 0.00552\n",
      "200 Epochs train MSE: 0.00544\n",
      "210 Epochs train MSE: 0.00539\n",
      "220 Epochs train MSE: 0.00529\n",
      "230 Epochs train MSE: 0.00514\n",
      "240 Epochs train MSE: 0.00579\n",
      "250 Epochs train MSE: 0.00537\n",
      "260 Epochs train MSE: 0.00498\n",
      "270 Epochs train MSE: 0.00471\n",
      "280 Epochs train MSE: 0.00458\n",
      "290 Epochs train MSE: 0.00461\n",
      "300 Epochs train MSE: 0.00411\n",
      "310 Epochs train MSE: 0.00487\n",
      "320 Epochs train MSE: 0.00409\n",
      "330 Epochs train MSE: 0.00359\n",
      "340 Epochs train MSE: 0.00349\n",
      "350 Epochs train MSE: 0.00332\n",
      "360 Epochs train MSE: 0.00300\n",
      "370 Epochs train MSE: 0.00309\n",
      "380 Epochs train MSE: 0.00277\n",
      "390 Epochs train MSE: 0.00259\n",
      "400 Epochs train MSE: 0.00242\n",
      "410 Epochs train MSE: 0.00224\n",
      "420 Epochs train MSE: 0.00224\n",
      "430 Epochs train MSE: 0.00231\n",
      "440 Epochs train MSE: 0.00195\n",
      "450 Epochs train MSE: 0.00180\n",
      "460 Epochs train MSE: 0.00174\n",
      "470 Epochs train MSE: 0.00165\n",
      "480 Epochs train MSE: 0.00179\n",
      "490 Epochs train MSE: 0.00166\n"
     ]
    }
   ],
   "source": [
    "window_x = torch.tensor(window_x).float().to(device)\n",
    "window_y = torch.tensor(window_y).float().to(device)\n",
    "\n",
    "# Train model\n",
    "optimizer = torch.optim.Adam(model.parameters(), lr = 1e-2)\n",
    "criterion = nn.MSELoss(size_average = True)\n",
    "num_epochs  = 500\n",
    "train_error = []\n",
    "for t in range(num_epochs):\n",
    "    train_pred = model(window_x)\n",
    "    loss = criterion(train_pred, window_y) ### trend\n",
    "    train_error.append(loss)\n",
    "    \n",
    "    optimizer.zero_grad()\n",
    "    loss.backward()\n",
    "    optimizer.step()\n",
    "    if t % 10 == 0 and t !=0:\n",
    "        print(f\"{t} Epochs train MSE: {loss.item():1.5f}\")"
   ]
  },
  {
   "cell_type": "code",
   "execution_count": 11,
   "metadata": {
    "ExecuteTime": {
     "end_time": "2020-12-23T05:53:16.258404Z",
     "start_time": "2020-12-23T05:53:16.155681Z"
    }
   },
   "outputs": [
    {
     "data": {
      "text/html": [
       "<div>\n",
       "<style scoped>\n",
       "    .dataframe tbody tr th:only-of-type {\n",
       "        vertical-align: middle;\n",
       "    }\n",
       "\n",
       "    .dataframe tbody tr th {\n",
       "        vertical-align: top;\n",
       "    }\n",
       "\n",
       "    .dataframe thead th {\n",
       "        text-align: right;\n",
       "    }\n",
       "</style>\n",
       "<table border=\"1\" class=\"dataframe\">\n",
       "  <thead>\n",
       "    <tr style=\"text-align: right;\">\n",
       "      <th></th>\n",
       "      <th>DateTime</th>\n",
       "      <th>사용자</th>\n",
       "      <th>세션</th>\n",
       "      <th>신규방문자</th>\n",
       "      <th>페이지뷰</th>\n",
       "    </tr>\n",
       "  </thead>\n",
       "  <tbody>\n",
       "    <tr>\n",
       "      <th>0</th>\n",
       "      <td>2020-11-09</td>\n",
       "      <td>1970</td>\n",
       "      <td>1934</td>\n",
       "      <td>417</td>\n",
       "      <td>45451</td>\n",
       "    </tr>\n",
       "    <tr>\n",
       "      <th>1</th>\n",
       "      <td>2020-11-10</td>\n",
       "      <td>4852</td>\n",
       "      <td>4910</td>\n",
       "      <td>1296</td>\n",
       "      <td>127442</td>\n",
       "    </tr>\n",
       "    <tr>\n",
       "      <th>2</th>\n",
       "      <td>2020-11-11</td>\n",
       "      <td>5281</td>\n",
       "      <td>5394</td>\n",
       "      <td>1419</td>\n",
       "      <td>143775</td>\n",
       "    </tr>\n",
       "    <tr>\n",
       "      <th>3</th>\n",
       "      <td>2020-11-12</td>\n",
       "      <td>4470</td>\n",
       "      <td>4483</td>\n",
       "      <td>1097</td>\n",
       "      <td>118084</td>\n",
       "    </tr>\n",
       "    <tr>\n",
       "      <th>4</th>\n",
       "      <td>2020-11-13</td>\n",
       "      <td>4317</td>\n",
       "      <td>4271</td>\n",
       "      <td>1075</td>\n",
       "      <td>108960</td>\n",
       "    </tr>\n",
       "    <tr>\n",
       "      <th>...</th>\n",
       "      <td>...</td>\n",
       "      <td>...</td>\n",
       "      <td>...</td>\n",
       "      <td>...</td>\n",
       "      <td>...</td>\n",
       "    </tr>\n",
       "    <tr>\n",
       "      <th>56</th>\n",
       "      <td>2021-01-04</td>\n",
       "      <td>2905</td>\n",
       "      <td>2815</td>\n",
       "      <td>701</td>\n",
       "      <td>72509</td>\n",
       "    </tr>\n",
       "    <tr>\n",
       "      <th>57</th>\n",
       "      <td>2021-01-05</td>\n",
       "      <td>2719</td>\n",
       "      <td>2622</td>\n",
       "      <td>698</td>\n",
       "      <td>65416</td>\n",
       "    </tr>\n",
       "    <tr>\n",
       "      <th>58</th>\n",
       "      <td>2021-01-06</td>\n",
       "      <td>2320</td>\n",
       "      <td>2249</td>\n",
       "      <td>592</td>\n",
       "      <td>54456</td>\n",
       "    </tr>\n",
       "    <tr>\n",
       "      <th>59</th>\n",
       "      <td>2021-01-07</td>\n",
       "      <td>1781</td>\n",
       "      <td>1780</td>\n",
       "      <td>414</td>\n",
       "      <td>42581</td>\n",
       "    </tr>\n",
       "    <tr>\n",
       "      <th>60</th>\n",
       "      <td>2021-01-08</td>\n",
       "      <td>1390</td>\n",
       "      <td>1438</td>\n",
       "      <td>288</td>\n",
       "      <td>34884</td>\n",
       "    </tr>\n",
       "  </tbody>\n",
       "</table>\n",
       "<p>61 rows × 5 columns</p>\n",
       "</div>"
      ],
      "text/plain": [
       "      DateTime   사용자    세션  신규방문자    페이지뷰\n",
       "0   2020-11-09  1970  1934    417   45451\n",
       "1   2020-11-10  4852  4910   1296  127442\n",
       "2   2020-11-11  5281  5394   1419  143775\n",
       "3   2020-11-12  4470  4483   1097  118084\n",
       "4   2020-11-13  4317  4271   1075  108960\n",
       "..         ...   ...   ...    ...     ...\n",
       "56  2021-01-04  2905  2815    701   72509\n",
       "57  2021-01-05  2719  2622    698   65416\n",
       "58  2021-01-06  2320  2249    592   54456\n",
       "59  2021-01-07  1781  1780    414   42581\n",
       "60  2021-01-08  1390  1438    288   34884\n",
       "\n",
       "[61 rows x 5 columns]"
      ]
     },
     "execution_count": 11,
     "metadata": {},
     "output_type": "execute_result"
    }
   ],
   "source": [
    "submission = pd.read_csv(\"dacon_12/submission.csv\", encoding = 'euc-kr')\n",
    "last_month = torch.tensor(window_x[-1,:,:][np.newaxis,...]).float().to(device)\n",
    "for start in range((len(submission) - output_window)//7 + 2):\n",
    "    start = start * 7\n",
    "    next_week = model(last_month)\n",
    "    last_month = torch.cat([last_month[-7:], next_week], dim = 1)\n",
    "    \n",
    "    pred_week = next_week.cpu().detach().numpy().reshape(output_window,4)\n",
    "    pred_week = pred_week * size.values + mini.values\n",
    "    pred_week = pred_week.astype(int)\n",
    "    \n",
    "    if start/7 == (len(submission) - output_window)//7 + 1:\n",
    "        submission.iloc[start :, 1:] = pred_week[-submission.iloc[start :, 1:].shape[0]:,:]\n",
    "    else:\n",
    "        submission.iloc[start : start + output_window, 1:] = pred_week\n",
    "submission"
   ]
  },
  {
   "cell_type": "code",
   "execution_count": 12,
   "metadata": {
    "ExecuteTime": {
     "end_time": "2020-12-23T05:56:01.642158Z",
     "start_time": "2020-12-23T05:56:01.621215Z"
    }
   },
   "outputs": [],
   "source": [
    "submission.to_csv('submission_1223_1.csv', index = False, encoding = 'euc-kr')"
   ]
  }
 ],
 "metadata": {
  "kernelspec": {
   "display_name": "Python 3",
   "language": "python",
   "name": "python3"
  },
  "language_info": {
   "codemirror_mode": {
    "name": "ipython",
    "version": 3
   },
   "file_extension": ".py",
   "mimetype": "text/x-python",
   "name": "python",
   "nbconvert_exporter": "python",
   "pygments_lexer": "ipython3",
   "version": "3.7.7"
  },
  "toc": {
   "base_numbering": 1,
   "nav_menu": {},
   "number_sections": true,
   "sideBar": true,
   "skip_h1_title": false,
   "title_cell": "Table of Contents",
   "title_sidebar": "Contents",
   "toc_cell": false,
   "toc_position": {},
   "toc_section_display": true,
   "toc_window_display": false
  },
  "varInspector": {
   "cols": {
    "lenName": 16,
    "lenType": 16,
    "lenVar": 40
   },
   "kernels_config": {
    "python": {
     "delete_cmd_postfix": "",
     "delete_cmd_prefix": "del ",
     "library": "var_list.py",
     "varRefreshCmd": "print(var_dic_list())"
    },
    "r": {
     "delete_cmd_postfix": ") ",
     "delete_cmd_prefix": "rm(",
     "library": "var_list.r",
     "varRefreshCmd": "cat(var_dic_list()) "
    }
   },
   "types_to_exclude": [
    "module",
    "function",
    "builtin_function_or_method",
    "instance",
    "_Feature"
   ],
   "window_display": false
  }
 },
 "nbformat": 4,
 "nbformat_minor": 4
}
