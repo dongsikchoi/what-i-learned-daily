{
  "nbformat": 4,
  "nbformat_minor": 0,
  "metadata": {
    "colab": {
      "name": "Genetic Algorithm_example.ipynb",
      "provenance": []
    },
    "kernelspec": {
      "name": "python3",
      "display_name": "Python 3"
    }
  },
  "cells": [
    {
      "cell_type": "markdown",
      "metadata": {
        "id": "55tsF0_rtpSI"
      },
      "source": [
        "## Genetic Altorithm Example"
      ]
    },
    {
      "cell_type": "markdown",
      "metadata": {
        "id": "7jZl4DuTuX-4"
      },
      "source": [
        "### Example from Towardsdatascience.com, Joos Korstanje <Genetic Algorithms in python using the DEAP library"
      ]
    },
    {
      "cell_type": "markdown",
      "metadata": {
        "id": "hOwLx1Abt8X6"
      },
      "source": [
        "The goal is to optimize weekly meal plan"
      ]
    },
    {
      "cell_type": "code",
      "metadata": {
        "colab": {
          "base_uri": "https://localhost:8080/"
        },
        "id": "mLE8avm8vdiw",
        "outputId": "72704de3-b8d8-46f3-e81b-3fac295dcd8d"
      },
      "source": [
        "pip install deap"
      ],
      "execution_count": 11,
      "outputs": [
        {
          "output_type": "stream",
          "text": [
            "Collecting deap\n",
            "\u001b[?25l  Downloading https://files.pythonhosted.org/packages/99/d1/803c7a387d8a7e6866160b1541307f88d534da4291572fb32f69d2548afb/deap-1.3.1-cp37-cp37m-manylinux2010_x86_64.whl (157kB)\n",
            "\r\u001b[K     |██                              | 10kB 22.1MB/s eta 0:00:01\r\u001b[K     |████▏                           | 20kB 14.0MB/s eta 0:00:01\r\u001b[K     |██████▏                         | 30kB 15.0MB/s eta 0:00:01\r\u001b[K     |████████▎                       | 40kB 16.0MB/s eta 0:00:01\r\u001b[K     |██████████▍                     | 51kB 15.3MB/s eta 0:00:01\r\u001b[K     |████████████▍                   | 61kB 17.0MB/s eta 0:00:01\r\u001b[K     |██████████████▌                 | 71kB 12.5MB/s eta 0:00:01\r\u001b[K     |████████████████▋               | 81kB 13.4MB/s eta 0:00:01\r\u001b[K     |██████████████████▋             | 92kB 12.4MB/s eta 0:00:01\r\u001b[K     |████████████████████▊           | 102kB 11.8MB/s eta 0:00:01\r\u001b[K     |██████████████████████▉         | 112kB 11.8MB/s eta 0:00:01\r\u001b[K     |████████████████████████▉       | 122kB 11.8MB/s eta 0:00:01\r\u001b[K     |███████████████████████████     | 133kB 11.8MB/s eta 0:00:01\r\u001b[K     |█████████████████████████████   | 143kB 11.8MB/s eta 0:00:01\r\u001b[K     |███████████████████████████████ | 153kB 11.8MB/s eta 0:00:01\r\u001b[K     |████████████████████████████████| 163kB 11.8MB/s \n",
            "\u001b[?25hRequirement already satisfied: numpy in /usr/local/lib/python3.7/dist-packages (from deap) (1.19.5)\n",
            "Installing collected packages: deap\n",
            "Successfully installed deap-1.3.1\n"
          ],
          "name": "stdout"
        }
      ]
    },
    {
      "cell_type": "code",
      "metadata": {
        "id": "42y22jxtvcC5"
      },
      "source": [
        "import pandas as pd\r\n",
        "import numpy as np\r\n",
        "import random\r\n",
        "from deap import base\r\n",
        "from deap import creator\r\n",
        "from deap import tools"
      ],
      "execution_count": 36,
      "outputs": []
    },
    {
      "cell_type": "code",
      "metadata": {
        "id": "Mek4zUaitu6X"
      },
      "source": [
        "# Goal percentage \r\n",
        "total_cal = 2500 * 7\r\n",
        "percentage_prot = 0.3  # protein\r\n",
        "percentage_carb = 0.5 # carbohydrate\r\n",
        "percentage_fat = 0.2 \r\n"
      ],
      "execution_count": 37,
      "outputs": []
    },
    {
      "cell_type": "code",
      "metadata": {
        "id": "xFZBbXdsuI71"
      },
      "source": [
        "# Compute total calories per week\r\n",
        "cal_prot = round(percentage_prot * total_cal)\r\n",
        "cal_carb = round(percentage_carb * total_cal)\r\n",
        "cal_fat = round(percentage_fat * total_cal)\r\n"
      ],
      "execution_count": 38,
      "outputs": []
    },
    {
      "cell_type": "code",
      "metadata": {
        "colab": {
          "base_uri": "https://localhost:8080/"
        },
        "id": "lxF-D6jauoyg",
        "outputId": "6f1b2bd8-0dd9-4f7b-fe25-8539fdc4ed24"
      },
      "source": [
        "cal_prot"
      ],
      "execution_count": 4,
      "outputs": [
        {
          "output_type": "execute_result",
          "data": {
            "text/plain": [
              "5250"
            ]
          },
          "metadata": {
            "tags": []
          },
          "execution_count": 4
        }
      ]
    },
    {
      "cell_type": "code",
      "metadata": {
        "colab": {
          "base_uri": "https://localhost:8080/"
        },
        "id": "BMKSb2L6uu-z",
        "outputId": "05211794-e563-4181-f91b-b0b25b01bbf0"
      },
      "source": [
        "cal_carb"
      ],
      "execution_count": 5,
      "outputs": [
        {
          "output_type": "execute_result",
          "data": {
            "text/plain": [
              "8750"
            ]
          },
          "metadata": {
            "tags": []
          },
          "execution_count": 5
        }
      ]
    },
    {
      "cell_type": "code",
      "metadata": {
        "colab": {
          "base_uri": "https://localhost:8080/"
        },
        "id": "Gpxc8KRUuvpD",
        "outputId": "b159f71e-df8a-49b9-d1ce-3d8113f2eec3"
      },
      "source": [
        "cal_fat"
      ],
      "execution_count": 6,
      "outputs": [
        {
          "output_type": "execute_result",
          "data": {
            "text/plain": [
              "3500"
            ]
          },
          "metadata": {
            "tags": []
          },
          "execution_count": 6
        }
      ]
    },
    {
      "cell_type": "code",
      "metadata": {
        "id": "fra01mJQuwIj"
      },
      "source": [
        "# Fixed information : calories per gram \r\n",
        "prot_cal_p_gram = 4\r\n",
        "carb_cal_p_gram = 4 \r\n",
        "fat_cal_p_gram = 9 "
      ],
      "execution_count": 39,
      "outputs": []
    },
    {
      "cell_type": "code",
      "metadata": {
        "colab": {
          "base_uri": "https://localhost:8080/"
        },
        "id": "kYZpM9kyvBHd",
        "outputId": "c06f1757-d24c-48d8-e501-faf39cb27cb1"
      },
      "source": [
        "# Goal grams \r\n",
        "gram_prot = cal_prot / prot_cal_p_gram\r\n",
        "gram_carb = cal_carb / carb_cal_p_gram\r\n",
        "gram_fat = cal_fat / fat_cal_p_gram\r\n",
        "print(gram_prot,gram_carb,gram_fat)"
      ],
      "execution_count": 40,
      "outputs": [
        {
          "output_type": "stream",
          "text": [
            "1312.5 2187.5 388.8888888888889\n"
          ],
          "name": "stdout"
        }
      ]
    },
    {
      "cell_type": "code",
      "metadata": {
        "colab": {
          "base_uri": "https://localhost:8080/",
          "height": 700
        },
        "id": "4E4FJ1MhvMCZ",
        "outputId": "9bc515d1-6562-4601-e2c6-58d4a253219b"
      },
      "source": [
        "# per week: min, max, cal unit, prot g,  fat g, carb g\r\n",
        "products_table = pd.DataFrame.from_records([\r\n",
        "    ['Banana 1u', 0, 4, 89, 1, 0, 23],\r\n",
        "    ['Mandarin 1u', 0, 4, 40, 1, 0, 10],\r\n",
        "    ['Ananas 100g', 0, 7, 50, 1, 0, 13],\r\n",
        "    ['Grapes 100g', 0, 7, 76, 1, 0, 17],\r\n",
        "    ['Chocolate 1 bar', 0, 4, 230, 3, 13, 25],\r\n",
        "    \r\n",
        "    ['Hard Cheese 100g', 0, 8, 350, 28, 26, 2],\r\n",
        "    ['Soft Cheese 100g', 0, 8, 374, 18, 33, 1],\r\n",
        "    ['Pesto 100g', 0, 8, 303, 3, 30, 4],\r\n",
        "    ['Hoummous 100g', 0, 8, 306, 7, 25, 11],\r\n",
        "    ['Aubergine Paste 100g', 0, 4, 228, 1, 20, 8],\r\n",
        "    \r\n",
        "    ['Protein Shake', 0, 5, 160, 30, 3, 5],\r\n",
        "    ['Veggie Burger 1', 0, 5, 220, 21, 12, 3],\r\n",
        "    ['Veggie Burger 2', 0, 12, 165, 16, 9, 2],\r\n",
        "    ['Boiled Egg', 0, 8, 155, 13, 11, 1],\r\n",
        "    ['Backed Egg', 0, 16, 196, 14, 15, 1],\r\n",
        "    \r\n",
        "    ['Baguette Bread Half', 0, 3, 274, 10, 0, 52],\r\n",
        "    ['Square Bread 1 slice', 0, 3, 97, 3, 1, 17],\r\n",
        "    ['Cheese Pizza 1u', 0, 3, 903, 36, 47, 81],\r\n",
        "    ['Veggie Pizza 1u', 0, 3, 766, 26, 35, 85],\r\n",
        "    \r\n",
        "    ['Soy Milk 200ml', 0, 1, 115, 8, 4, 11],\r\n",
        "    ['Soy Chocolate Milk 250ml', 0, 3, 160, 7, 6,20],\r\n",
        "    \r\n",
        "])\r\n",
        "products_table.columns = ['Name', 'Min', 'Max', 'Calories', 'Gram_Prot', 'Gram_Fat', 'Gram_Carb']\r\n",
        "\r\n",
        "products_table"
      ],
      "execution_count": 41,
      "outputs": [
        {
          "output_type": "execute_result",
          "data": {
            "text/html": [
              "<div>\n",
              "<style scoped>\n",
              "    .dataframe tbody tr th:only-of-type {\n",
              "        vertical-align: middle;\n",
              "    }\n",
              "\n",
              "    .dataframe tbody tr th {\n",
              "        vertical-align: top;\n",
              "    }\n",
              "\n",
              "    .dataframe thead th {\n",
              "        text-align: right;\n",
              "    }\n",
              "</style>\n",
              "<table border=\"1\" class=\"dataframe\">\n",
              "  <thead>\n",
              "    <tr style=\"text-align: right;\">\n",
              "      <th></th>\n",
              "      <th>Name</th>\n",
              "      <th>Min</th>\n",
              "      <th>Max</th>\n",
              "      <th>Calories</th>\n",
              "      <th>Gram_Prot</th>\n",
              "      <th>Gram_Fat</th>\n",
              "      <th>Gram_Carb</th>\n",
              "    </tr>\n",
              "  </thead>\n",
              "  <tbody>\n",
              "    <tr>\n",
              "      <th>0</th>\n",
              "      <td>Banana 1u</td>\n",
              "      <td>0</td>\n",
              "      <td>4</td>\n",
              "      <td>89</td>\n",
              "      <td>1</td>\n",
              "      <td>0</td>\n",
              "      <td>23</td>\n",
              "    </tr>\n",
              "    <tr>\n",
              "      <th>1</th>\n",
              "      <td>Mandarin 1u</td>\n",
              "      <td>0</td>\n",
              "      <td>4</td>\n",
              "      <td>40</td>\n",
              "      <td>1</td>\n",
              "      <td>0</td>\n",
              "      <td>10</td>\n",
              "    </tr>\n",
              "    <tr>\n",
              "      <th>2</th>\n",
              "      <td>Ananas 100g</td>\n",
              "      <td>0</td>\n",
              "      <td>7</td>\n",
              "      <td>50</td>\n",
              "      <td>1</td>\n",
              "      <td>0</td>\n",
              "      <td>13</td>\n",
              "    </tr>\n",
              "    <tr>\n",
              "      <th>3</th>\n",
              "      <td>Grapes 100g</td>\n",
              "      <td>0</td>\n",
              "      <td>7</td>\n",
              "      <td>76</td>\n",
              "      <td>1</td>\n",
              "      <td>0</td>\n",
              "      <td>17</td>\n",
              "    </tr>\n",
              "    <tr>\n",
              "      <th>4</th>\n",
              "      <td>Chocolate 1 bar</td>\n",
              "      <td>0</td>\n",
              "      <td>4</td>\n",
              "      <td>230</td>\n",
              "      <td>3</td>\n",
              "      <td>13</td>\n",
              "      <td>25</td>\n",
              "    </tr>\n",
              "    <tr>\n",
              "      <th>5</th>\n",
              "      <td>Hard Cheese 100g</td>\n",
              "      <td>0</td>\n",
              "      <td>8</td>\n",
              "      <td>350</td>\n",
              "      <td>28</td>\n",
              "      <td>26</td>\n",
              "      <td>2</td>\n",
              "    </tr>\n",
              "    <tr>\n",
              "      <th>6</th>\n",
              "      <td>Soft Cheese 100g</td>\n",
              "      <td>0</td>\n",
              "      <td>8</td>\n",
              "      <td>374</td>\n",
              "      <td>18</td>\n",
              "      <td>33</td>\n",
              "      <td>1</td>\n",
              "    </tr>\n",
              "    <tr>\n",
              "      <th>7</th>\n",
              "      <td>Pesto 100g</td>\n",
              "      <td>0</td>\n",
              "      <td>8</td>\n",
              "      <td>303</td>\n",
              "      <td>3</td>\n",
              "      <td>30</td>\n",
              "      <td>4</td>\n",
              "    </tr>\n",
              "    <tr>\n",
              "      <th>8</th>\n",
              "      <td>Hoummous 100g</td>\n",
              "      <td>0</td>\n",
              "      <td>8</td>\n",
              "      <td>306</td>\n",
              "      <td>7</td>\n",
              "      <td>25</td>\n",
              "      <td>11</td>\n",
              "    </tr>\n",
              "    <tr>\n",
              "      <th>9</th>\n",
              "      <td>Aubergine Paste 100g</td>\n",
              "      <td>0</td>\n",
              "      <td>4</td>\n",
              "      <td>228</td>\n",
              "      <td>1</td>\n",
              "      <td>20</td>\n",
              "      <td>8</td>\n",
              "    </tr>\n",
              "    <tr>\n",
              "      <th>10</th>\n",
              "      <td>Protein Shake</td>\n",
              "      <td>0</td>\n",
              "      <td>5</td>\n",
              "      <td>160</td>\n",
              "      <td>30</td>\n",
              "      <td>3</td>\n",
              "      <td>5</td>\n",
              "    </tr>\n",
              "    <tr>\n",
              "      <th>11</th>\n",
              "      <td>Veggie Burger 1</td>\n",
              "      <td>0</td>\n",
              "      <td>5</td>\n",
              "      <td>220</td>\n",
              "      <td>21</td>\n",
              "      <td>12</td>\n",
              "      <td>3</td>\n",
              "    </tr>\n",
              "    <tr>\n",
              "      <th>12</th>\n",
              "      <td>Veggie Burger 2</td>\n",
              "      <td>0</td>\n",
              "      <td>12</td>\n",
              "      <td>165</td>\n",
              "      <td>16</td>\n",
              "      <td>9</td>\n",
              "      <td>2</td>\n",
              "    </tr>\n",
              "    <tr>\n",
              "      <th>13</th>\n",
              "      <td>Boiled Egg</td>\n",
              "      <td>0</td>\n",
              "      <td>8</td>\n",
              "      <td>155</td>\n",
              "      <td>13</td>\n",
              "      <td>11</td>\n",
              "      <td>1</td>\n",
              "    </tr>\n",
              "    <tr>\n",
              "      <th>14</th>\n",
              "      <td>Backed Egg</td>\n",
              "      <td>0</td>\n",
              "      <td>16</td>\n",
              "      <td>196</td>\n",
              "      <td>14</td>\n",
              "      <td>15</td>\n",
              "      <td>1</td>\n",
              "    </tr>\n",
              "    <tr>\n",
              "      <th>15</th>\n",
              "      <td>Baguette Bread Half</td>\n",
              "      <td>0</td>\n",
              "      <td>3</td>\n",
              "      <td>274</td>\n",
              "      <td>10</td>\n",
              "      <td>0</td>\n",
              "      <td>52</td>\n",
              "    </tr>\n",
              "    <tr>\n",
              "      <th>16</th>\n",
              "      <td>Square Bread 1 slice</td>\n",
              "      <td>0</td>\n",
              "      <td>3</td>\n",
              "      <td>97</td>\n",
              "      <td>3</td>\n",
              "      <td>1</td>\n",
              "      <td>17</td>\n",
              "    </tr>\n",
              "    <tr>\n",
              "      <th>17</th>\n",
              "      <td>Cheese Pizza 1u</td>\n",
              "      <td>0</td>\n",
              "      <td>3</td>\n",
              "      <td>903</td>\n",
              "      <td>36</td>\n",
              "      <td>47</td>\n",
              "      <td>81</td>\n",
              "    </tr>\n",
              "    <tr>\n",
              "      <th>18</th>\n",
              "      <td>Veggie Pizza 1u</td>\n",
              "      <td>0</td>\n",
              "      <td>3</td>\n",
              "      <td>766</td>\n",
              "      <td>26</td>\n",
              "      <td>35</td>\n",
              "      <td>85</td>\n",
              "    </tr>\n",
              "    <tr>\n",
              "      <th>19</th>\n",
              "      <td>Soy Milk 200ml</td>\n",
              "      <td>0</td>\n",
              "      <td>1</td>\n",
              "      <td>115</td>\n",
              "      <td>8</td>\n",
              "      <td>4</td>\n",
              "      <td>11</td>\n",
              "    </tr>\n",
              "    <tr>\n",
              "      <th>20</th>\n",
              "      <td>Soy Chocolate Milk 250ml</td>\n",
              "      <td>0</td>\n",
              "      <td>3</td>\n",
              "      <td>160</td>\n",
              "      <td>7</td>\n",
              "      <td>6</td>\n",
              "      <td>20</td>\n",
              "    </tr>\n",
              "  </tbody>\n",
              "</table>\n",
              "</div>"
            ],
            "text/plain": [
              "                        Name  Min  Max  ...  Gram_Prot  Gram_Fat  Gram_Carb\n",
              "0                  Banana 1u    0    4  ...          1         0         23\n",
              "1                Mandarin 1u    0    4  ...          1         0         10\n",
              "2                Ananas 100g    0    7  ...          1         0         13\n",
              "3                Grapes 100g    0    7  ...          1         0         17\n",
              "4            Chocolate 1 bar    0    4  ...          3        13         25\n",
              "5           Hard Cheese 100g    0    8  ...         28        26          2\n",
              "6           Soft Cheese 100g    0    8  ...         18        33          1\n",
              "7                 Pesto 100g    0    8  ...          3        30          4\n",
              "8              Hoummous 100g    0    8  ...          7        25         11\n",
              "9       Aubergine Paste 100g    0    4  ...          1        20          8\n",
              "10             Protein Shake    0    5  ...         30         3          5\n",
              "11           Veggie Burger 1    0    5  ...         21        12          3\n",
              "12           Veggie Burger 2    0   12  ...         16         9          2\n",
              "13                Boiled Egg    0    8  ...         13        11          1\n",
              "14                Backed Egg    0   16  ...         14        15          1\n",
              "15       Baguette Bread Half    0    3  ...         10         0         52\n",
              "16      Square Bread 1 slice    0    3  ...          3         1         17\n",
              "17           Cheese Pizza 1u    0    3  ...         36        47         81\n",
              "18           Veggie Pizza 1u    0    3  ...         26        35         85\n",
              "19            Soy Milk 200ml    0    1  ...          8         4         11\n",
              "20  Soy Chocolate Milk 250ml    0    3  ...          7         6         20\n",
              "\n",
              "[21 rows x 7 columns]"
            ]
          },
          "metadata": {
            "tags": []
          },
          "execution_count": 41
        }
      ]
    },
    {
      "cell_type": "code",
      "metadata": {
        "id": "f466WuWsx10e"
      },
      "source": [
        "cal_data = products_table[['Gram_Prot', 'Gram_Fat', 'Gram_Carb']]\r\n",
        "\r\n",
        "prot_data = list(cal_data['Gram_Prot'])\r\n",
        "fat_data = list(cal_data['Gram_Fat'])\r\n",
        "carb_data = list(cal_data['Gram_Carb'])"
      ],
      "execution_count": 42,
      "outputs": []
    },
    {
      "cell_type": "code",
      "metadata": {
        "id": "LQwhkF81vXlI"
      },
      "source": [
        "# DEAP toolbox set up \r\n",
        "def n_per_product():\r\n",
        "  return random.choices ( range(0,10), k = 21 )"
      ],
      "execution_count": 43,
      "outputs": []
    },
    {
      "cell_type": "code",
      "metadata": {
        "id": "yf651GykwBOt"
      },
      "source": [
        "def evaluate(individual):\r\n",
        "  individual = individual[0]\r\n",
        "  tot_prot = sum(x*y for x,y in zip(prot_data,individual))\r\n",
        "  tot_fat = sum(x*y for x,y in zip(fat_data,individual))\r\n",
        "  tot_carb = sum(x*y for x,y in zip(carb_data,individual))\r\n",
        "  cals = prot_cal_p_gram * tot_prot + carb_cal_p_gram * tot_carb + fat_cal_p_gram * tot_fat\r\n",
        "  return abs(cals - total_cal), \\\r\n",
        "            abs(tot_prot - gram_prot), \\\r\n",
        "            abs(tot_fat - gram_fat), \\\r\n",
        "            abs(tot_carb - gram_carb), \\"
      ],
      "execution_count": 44,
      "outputs": []
    },
    {
      "cell_type": "code",
      "metadata": {
        "colab": {
          "base_uri": "https://localhost:8080/"
        },
        "id": "w-ZvNjglwckb",
        "outputId": "d185a4c8-d900-44ab-d78f-9248581ac9e9"
      },
      "source": [
        "creator.create(\"FitnessMin\",base.Fitness, weights = (-1.0,))\r\n",
        "creator.create(\"Individual\",list,fitness=creator.FitnessMin)"
      ],
      "execution_count": 45,
      "outputs": [
        {
          "output_type": "stream",
          "text": [
            "/usr/local/lib/python3.7/dist-packages/deap/creator.py:141: RuntimeWarning: A class named 'FitnessMin' has already been created and it will be overwritten. Consider deleting previous creation of that class or rename it.\n",
            "  RuntimeWarning)\n",
            "/usr/local/lib/python3.7/dist-packages/deap/creator.py:141: RuntimeWarning: A class named 'Individual' has already been created and it will be overwritten. Consider deleting previous creation of that class or rename it.\n",
            "  RuntimeWarning)\n"
          ],
          "name": "stderr"
        }
      ]
    },
    {
      "cell_type": "code",
      "metadata": {
        "id": "lxe0URG5wmQA"
      },
      "source": [
        "toolbox = base.Toolbox()\r\n"
      ],
      "execution_count": 46,
      "outputs": []
    },
    {
      "cell_type": "code",
      "metadata": {
        "id": "82gbt_CJwn05"
      },
      "source": [
        "toolbox.register(\"n_per_product\",n_per_product)"
      ],
      "execution_count": 47,
      "outputs": []
    },
    {
      "cell_type": "code",
      "metadata": {
        "id": "2qH9bP1Jwq_i"
      },
      "source": [
        "toolbox.register(\"individual\",tools.initRepeat,creator.Individual,toolbox.n_per_product,n=1)\r\n",
        "toolbox.register(\"population\",tools.initRepeat,list,toolbox.individual)\r\n",
        "toolbox.register(\"evaluate\",evaluate)\r\n",
        "toolbox.register(\"mate\",tools.cxTwoPoint)\r\n",
        "toolbox.register(\"mutate\",tools.mutFlipBit,indpb=0.05)\r\n",
        "toolbox.register(\"select\",tools.selTournament,tournsize=3)\r\n"
      ],
      "execution_count": 48,
      "outputs": []
    },
    {
      "cell_type": "code",
      "metadata": {
        "id": "3g4q5Sf9xK-b"
      },
      "source": [
        "# optimization\r\n",
        "# this is the definition of the total genetic algorithm is executed, it is almost literally copied from the deap library\r\n",
        "def main():\r\n",
        "    pop = toolbox.population(n=300)\r\n",
        "    \r\n",
        "    # Evaluate the entire population\r\n",
        "    fitnesses = list(map(toolbox.evaluate, pop))\r\n",
        "    for ind, fit in zip(pop, fitnesses):\r\n",
        "        ind.fitness.values = fit\r\n",
        "\r\n",
        "    # CXPB  is the probability with which two individuals\r\n",
        "    #       are crossed\r\n",
        "    #\r\n",
        "    # MUTPB is the probability for mutating an individual\r\n",
        "    CXPB, MUTPB = 0.5, 0.2\r\n",
        "    \r\n",
        "    # Extracting all the fitnesses of \r\n",
        "    fits = [ind.fitness.values[0] for ind in pop]\r\n",
        "    \r\n",
        "    # Variable keeping track of the number of generations\r\n",
        "    g = 0\r\n",
        "    \r\n",
        "    # Begin the evolution\r\n",
        "    while g < 5000:\r\n",
        "        # A new generation\r\n",
        "        g = g + 1\r\n",
        "        #print(\"-- Generation %i --\" % g)\r\n",
        "        \r\n",
        "        # Select the next generation individuals\r\n",
        "        offspring = toolbox.select(pop, len(pop))\r\n",
        "        # Clone the selected individuals\r\n",
        "        offspring = list(map(toolbox.clone, offspring))\r\n",
        "        \r\n",
        "        # Apply crossover and mutation on the offspring\r\n",
        "        for child1, child2 in zip(offspring[::2], offspring[1::2]):\r\n",
        "            if random.random() < CXPB:\r\n",
        "                toolbox.mate(child1[0], child2[0])\r\n",
        "                del child1.fitness.values\r\n",
        "                del child2.fitness.values\r\n",
        "\r\n",
        "        for mutant in offspring:\r\n",
        "            if random.random() < MUTPB:\r\n",
        "                toolbox.mutate(mutant[0])\r\n",
        "                del mutant.fitness.values\r\n",
        "            \r\n",
        "        # Evaluate the individuals with an invalid fitness\r\n",
        "        invalid_ind = [ind for ind in offspring if not ind.fitness.valid]\r\n",
        "        fitnesses = map(toolbox.evaluate, invalid_ind)\r\n",
        "        for ind, fit in zip(invalid_ind, fitnesses):\r\n",
        "            ind.fitness.values = fit\r\n",
        "            \r\n",
        "        pop[:] = offspring\r\n",
        "        \r\n",
        "        # Gather all the fitnesses in one list and print the stats\r\n",
        "        fits = [ind.fitness.values[0] for ind in pop]\r\n",
        "        \r\n",
        "        length = len(pop)\r\n",
        "        mean = sum(fits) / length\r\n",
        "        sum2 = sum(x*x for x in fits)\r\n",
        "        std = abs(sum2 / length - mean**2)**0.5\r\n",
        "        \r\n",
        "        #print(min(fits), max(fits), mean, std)\r\n",
        "    \r\n",
        "    best = pop[np.argmin([toolbox.evaluate(x) for x in pop])]\r\n",
        "    return best"
      ],
      "execution_count": 49,
      "outputs": []
    },
    {
      "cell_type": "code",
      "metadata": {
        "id": "Op5RltrYxZ96"
      },
      "source": [
        "best_solution = main()"
      ],
      "execution_count": 50,
      "outputs": []
    },
    {
      "cell_type": "code",
      "metadata": {
        "colab": {
          "base_uri": "https://localhost:8080/",
          "height": 204
        },
        "id": "C-Pt7Sew0g5-",
        "outputId": "6a7c8196-6b1d-4956-ea45-5f86f751155a"
      },
      "source": [
        "products_table['univariate_choice'] = pd.Series(best_solution[0])\r\n",
        "products_table.head()"
      ],
      "execution_count": 58,
      "outputs": [
        {
          "output_type": "execute_result",
          "data": {
            "text/html": [
              "<div>\n",
              "<style scoped>\n",
              "    .dataframe tbody tr th:only-of-type {\n",
              "        vertical-align: middle;\n",
              "    }\n",
              "\n",
              "    .dataframe tbody tr th {\n",
              "        vertical-align: top;\n",
              "    }\n",
              "\n",
              "    .dataframe thead th {\n",
              "        text-align: right;\n",
              "    }\n",
              "</style>\n",
              "<table border=\"1\" class=\"dataframe\">\n",
              "  <thead>\n",
              "    <tr style=\"text-align: right;\">\n",
              "      <th></th>\n",
              "      <th>Name</th>\n",
              "      <th>Min</th>\n",
              "      <th>Max</th>\n",
              "      <th>Calories</th>\n",
              "      <th>Gram_Prot</th>\n",
              "      <th>Gram_Fat</th>\n",
              "      <th>Gram_Carb</th>\n",
              "      <th>multivariate_choice</th>\n",
              "      <th>univariate_choice</th>\n",
              "    </tr>\n",
              "  </thead>\n",
              "  <tbody>\n",
              "    <tr>\n",
              "      <th>0</th>\n",
              "      <td>Banana 1u</td>\n",
              "      <td>0</td>\n",
              "      <td>4</td>\n",
              "      <td>89</td>\n",
              "      <td>1</td>\n",
              "      <td>0</td>\n",
              "      <td>23</td>\n",
              "      <td>1</td>\n",
              "      <td>1</td>\n",
              "    </tr>\n",
              "    <tr>\n",
              "      <th>1</th>\n",
              "      <td>Mandarin 1u</td>\n",
              "      <td>0</td>\n",
              "      <td>4</td>\n",
              "      <td>40</td>\n",
              "      <td>1</td>\n",
              "      <td>0</td>\n",
              "      <td>10</td>\n",
              "      <td>3</td>\n",
              "      <td>3</td>\n",
              "    </tr>\n",
              "    <tr>\n",
              "      <th>2</th>\n",
              "      <td>Ananas 100g</td>\n",
              "      <td>0</td>\n",
              "      <td>7</td>\n",
              "      <td>50</td>\n",
              "      <td>1</td>\n",
              "      <td>0</td>\n",
              "      <td>13</td>\n",
              "      <td>0</td>\n",
              "      <td>0</td>\n",
              "    </tr>\n",
              "    <tr>\n",
              "      <th>3</th>\n",
              "      <td>Grapes 100g</td>\n",
              "      <td>0</td>\n",
              "      <td>7</td>\n",
              "      <td>76</td>\n",
              "      <td>1</td>\n",
              "      <td>0</td>\n",
              "      <td>17</td>\n",
              "      <td>1</td>\n",
              "      <td>1</td>\n",
              "    </tr>\n",
              "    <tr>\n",
              "      <th>4</th>\n",
              "      <td>Chocolate 1 bar</td>\n",
              "      <td>0</td>\n",
              "      <td>4</td>\n",
              "      <td>230</td>\n",
              "      <td>3</td>\n",
              "      <td>13</td>\n",
              "      <td>25</td>\n",
              "      <td>7</td>\n",
              "      <td>7</td>\n",
              "    </tr>\n",
              "  </tbody>\n",
              "</table>\n",
              "</div>"
            ],
            "text/plain": [
              "              Name  Min  Max  ...  Gram_Carb  multivariate_choice  univariate_choice\n",
              "0        Banana 1u    0    4  ...         23                    1                  1\n",
              "1      Mandarin 1u    0    4  ...         10                    3                  3\n",
              "2      Ananas 100g    0    7  ...         13                    0                  0\n",
              "3      Grapes 100g    0    7  ...         17                    1                  1\n",
              "4  Chocolate 1 bar    0    4  ...         25                    7                  7\n",
              "\n",
              "[5 rows x 9 columns]"
            ]
          },
          "metadata": {
            "tags": []
          },
          "execution_count": 58
        }
      ]
    },
    {
      "cell_type": "code",
      "metadata": {
        "id": "2SfWF9ENxc_U"
      },
      "source": [
        "products_table['multivariate_choice'] = pd.Series(best_solution[0])"
      ],
      "execution_count": 51,
      "outputs": []
    },
    {
      "cell_type": "code",
      "metadata": {
        "id": "IShHeAvl0kob"
      },
      "source": [
        "# in this second version, we optimize for the four components of the shopping list: calories, protein, fat and carbs\r\n",
        "# if we need to make everything as important, we should add a weight to them\r\n",
        "# we know that there are 30% protein calories, 20% fat and 50% carbs.\r\n",
        "weights = (-1., -1. / 0.3, -1. / 0.2, -1./0.5)"
      ],
      "execution_count": 59,
      "outputs": []
    },
    {
      "cell_type": "code",
      "metadata": {
        "colab": {
          "base_uri": "https://localhost:8080/"
        },
        "id": "aaSH700R0luZ",
        "outputId": "a380387d-e5d2-4074-906f-14f659ab085c"
      },
      "source": [
        "creator.create(\"FitnessMin\", base.Fitness, weights=weights)\r\n",
        "creator.create(\"Individual\", list, fitness=creator.FitnessMin)"
      ],
      "execution_count": 60,
      "outputs": [
        {
          "output_type": "stream",
          "text": [
            "/usr/local/lib/python3.7/dist-packages/deap/creator.py:141: RuntimeWarning: A class named 'FitnessMin' has already been created and it will be overwritten. Consider deleting previous creation of that class or rename it.\n",
            "  RuntimeWarning)\n",
            "/usr/local/lib/python3.7/dist-packages/deap/creator.py:141: RuntimeWarning: A class named 'Individual' has already been created and it will be overwritten. Consider deleting previous creation of that class or rename it.\n",
            "  RuntimeWarning)\n"
          ],
          "name": "stderr"
        }
      ]
    },
    {
      "cell_type": "code",
      "metadata": {
        "id": "M3tSplLO0tUs"
      },
      "source": [
        "def evaluate(individual):\r\n",
        "    individual = individual[0]\r\n",
        "    tot_prot = sum(x*y for x,y in zip(prot_data,individual))\r\n",
        "    tot_fat = sum(x*y for x,y in zip(fat_data,individual))\r\n",
        "    tot_carb = sum(x*y for x,y in zip(carb_data,individual))\r\n",
        "    cals = prot_cal_p_gram * tot_prot + carb_cal_p_gram * tot_carb + fat_cal_p_gram * tot_fat\r\n",
        "    \r\n",
        "    \r\n",
        "    return abs(cals - total_cal), \\\r\n",
        "            abs(tot_prot - gram_prot), \\\r\n",
        "            abs(tot_fat - gram_fat), \\\r\n",
        "            abs(tot_carb - gram_carb), \\"
      ],
      "execution_count": 62,
      "outputs": []
    },
    {
      "cell_type": "code",
      "metadata": {
        "id": "4R3bgEsu0tqN"
      },
      "source": [
        "# this is the setup of the deap library: registering the different function into the toolbox\r\n",
        "toolbox = base.Toolbox()\r\n",
        "\r\n",
        "toolbox.register(\"n_per_product\", n_per_product)\r\n",
        "\r\n",
        "toolbox.register(\"individual\", tools.initRepeat, creator.Individual, toolbox.n_per_product, n=1)\r\n",
        "toolbox.register(\"population\", tools.initRepeat, list, toolbox.individual)\r\n",
        "\r\n",
        "toolbox.register(\"evaluate\", evaluate)\r\n",
        "toolbox.register(\"mate\", tools.cxTwoPoint)\r\n",
        "toolbox.register(\"mutate\", tools.mutFlipBit, indpb=0.05)\r\n",
        "toolbox.register(\"select\", tools.selTournament, tournsize=3)\r\n",
        "\r\n",
        "toolbox.register(\"evaluate\", evaluate)\r\n",
        "toolbox.register(\"mate\", tools.cxTwoPoint)\r\n",
        "toolbox.register(\"mutate\", tools.mutFlipBit, indpb=0.05)\r\n",
        "toolbox.register(\"select\", tools.selTournament, tournsize=3)"
      ],
      "execution_count": 63,
      "outputs": []
    },
    {
      "cell_type": "code",
      "metadata": {
        "id": "haj3qXLB0xG3"
      },
      "source": [
        "def main():\r\n",
        "    pop = toolbox.population(n=300)\r\n",
        "    \r\n",
        "    # Evaluate the entire population\r\n",
        "    fitnesses = list(map(toolbox.evaluate, pop))\r\n",
        "    for ind, fit in zip(pop, fitnesses):\r\n",
        "        ind.fitness.values = fit\r\n",
        "\r\n",
        "    # CXPB  is the probability with which two individuals\r\n",
        "    #       are crossed\r\n",
        "    #\r\n",
        "    # MUTPB is the probability for mutating an individual\r\n",
        "    CXPB, MUTPB = 0.5, 0.2\r\n",
        "    \r\n",
        "    # Extracting all the fitnesses of \r\n",
        "    fits = [ind.fitness.values[0] for ind in pop]\r\n",
        "    \r\n",
        "    # Variable keeping track of the number of generations\r\n",
        "    g = 0\r\n",
        "    \r\n",
        "    # Begin the evolution\r\n",
        "    while g < 5000:\r\n",
        "        # A new generation\r\n",
        "        g = g + 1\r\n",
        "        #print(\"-- Generation %i --\" % g)\r\n",
        "        \r\n",
        "        # Select the next generation individuals\r\n",
        "        offspring = toolbox.select(pop, len(pop))\r\n",
        "        # Clone the selected individuals\r\n",
        "        offspring = list(map(toolbox.clone, offspring))\r\n",
        "        \r\n",
        "        # Apply crossover and mutation on the offspring\r\n",
        "        for child1, child2 in zip(offspring[::2], offspring[1::2]):\r\n",
        "            if random.random() < CXPB:\r\n",
        "                toolbox.mate(child1[0], child2[0])\r\n",
        "                del child1.fitness.values\r\n",
        "                del child2.fitness.values\r\n",
        "\r\n",
        "        for mutant in offspring:\r\n",
        "            if random.random() < MUTPB:\r\n",
        "                toolbox.mutate(mutant[0])\r\n",
        "                del mutant.fitness.values\r\n",
        "            \r\n",
        "                \r\n",
        "        # Evaluate the individuals with an invalid fitness\r\n",
        "        invalid_ind = [ind for ind in offspring if not ind.fitness.valid]\r\n",
        "        fitnesses = map(toolbox.evaluate, invalid_ind)\r\n",
        "        for ind, fit in zip(invalid_ind, fitnesses):\r\n",
        "            ind.fitness.values = fit\r\n",
        "            \r\n",
        "        pop[:] = offspring\r\n",
        "        \r\n",
        "        \r\n",
        "        # Gather all the fitnesses in one list and print the stats\r\n",
        "        fits = [ind.fitness.values[0] for ind in pop]\r\n",
        "        \r\n",
        "        length = len(pop)\r\n",
        "        mean = sum(fits) / length\r\n",
        "        sum2 = sum(x*x for x in fits)\r\n",
        "        std = abs(sum2 / length - mean**2)**0.5\r\n",
        "        \r\n",
        "        #print(min(fits), max(fits), mean, std)\r\n",
        "    \r\n",
        "    \r\n",
        "    best = pop[np.argmin([sum(toolbox.evaluate(x)) for x in pop])]\r\n",
        "    return best"
      ],
      "execution_count": 64,
      "outputs": []
    },
    {
      "cell_type": "code",
      "metadata": {
        "id": "S7HHRfFm06zD"
      },
      "source": [
        "best_solution = main()"
      ],
      "execution_count": 65,
      "outputs": []
    },
    {
      "cell_type": "code",
      "metadata": {
        "id": "pgk7skgS08Lj"
      },
      "source": [
        "products_table['multivariate_choice'] = pd.Series(best_solution[0])"
      ],
      "execution_count": 66,
      "outputs": []
    },
    {
      "cell_type": "code",
      "metadata": {
        "id": "7kvjpRGs09Gc"
      },
      "source": [
        "products_table['univariate_gr_prot'] = products_table['univariate_choice'] * products_table['Gram_Prot']\r\n",
        "products_table['univariate_gr_fat'] = products_table['univariate_choice'] * products_table['Gram_Fat']\r\n",
        "products_table['univariate_gr_carb'] = products_table['univariate_choice'] * products_table['Gram_Carb']\r\n",
        "products_table['univariate_cal'] = products_table['univariate_choice'] * products_table['Calories']\r\n",
        "\r\n",
        "products_table['multivariate_gr_prot'] = products_table['multivariate_choice'] * products_table['Gram_Prot']\r\n",
        "products_table['multivariate_gr_fat'] = products_table['multivariate_choice'] * products_table['Gram_Fat']\r\n",
        "products_table['multivariate_gr_carb'] = products_table['multivariate_choice'] * products_table['Gram_Carb']\r\n",
        "products_table['multivariate_cal'] = products_table['multivariate_choice'] * products_table['Calories']"
      ],
      "execution_count": 67,
      "outputs": []
    },
    {
      "cell_type": "code",
      "metadata": {
        "colab": {
          "base_uri": "https://localhost:8080/",
          "height": 173
        },
        "id": "JB2UYQFq0-Yd",
        "outputId": "a3ea635c-cd32-4720-8f03-3e1b623c551f"
      },
      "source": [
        "summary = pd.DataFrame.from_records(\r\n",
        "[\r\n",
        "    [products_table['univariate_gr_prot'].sum(), products_table['multivariate_gr_prot'].sum(), gram_prot],\r\n",
        "    [products_table['univariate_gr_fat'].sum(), products_table['multivariate_gr_fat'].sum(), gram_fat],\r\n",
        "    [products_table['univariate_gr_carb'].sum(), products_table['multivariate_gr_carb'].sum(), gram_carb],\r\n",
        "    [products_table['univariate_cal'].sum(), products_table['multivariate_cal'].sum(), sum((cal_prot, cal_carb, cal_fat))]\r\n",
        "])\r\n",
        "summary.columns = ['univariate', 'multivariate', 'goal']\r\n",
        "summary.index = ['prot', 'fat', 'carb', 'cal']\r\n",
        "summary[\"univ_error\"] = (summary[\"goal\"] - summary[\"univariate\"]).apply(abs)\r\n",
        "summary[\"multiv_error\"] = (summary[\"goal\"] - summary[\"multivariate\"]).apply(abs)\r\n",
        "summary"
      ],
      "execution_count": 68,
      "outputs": [
        {
          "output_type": "execute_result",
          "data": {
            "text/html": [
              "<div>\n",
              "<style scoped>\n",
              "    .dataframe tbody tr th:only-of-type {\n",
              "        vertical-align: middle;\n",
              "    }\n",
              "\n",
              "    .dataframe tbody tr th {\n",
              "        vertical-align: top;\n",
              "    }\n",
              "\n",
              "    .dataframe thead th {\n",
              "        text-align: right;\n",
              "    }\n",
              "</style>\n",
              "<table border=\"1\" class=\"dataframe\">\n",
              "  <thead>\n",
              "    <tr style=\"text-align: right;\">\n",
              "      <th></th>\n",
              "      <th>univariate</th>\n",
              "      <th>multivariate</th>\n",
              "      <th>goal</th>\n",
              "      <th>univ_error</th>\n",
              "      <th>multiv_error</th>\n",
              "    </tr>\n",
              "  </thead>\n",
              "  <tbody>\n",
              "    <tr>\n",
              "      <th>prot</th>\n",
              "      <td>723</td>\n",
              "      <td>900</td>\n",
              "      <td>1312.500000</td>\n",
              "      <td>589.500000</td>\n",
              "      <td>412.500000</td>\n",
              "    </tr>\n",
              "    <tr>\n",
              "      <th>fat</th>\n",
              "      <td>1080</td>\n",
              "      <td>947</td>\n",
              "      <td>388.888889</td>\n",
              "      <td>691.111111</td>\n",
              "      <td>558.111111</td>\n",
              "    </tr>\n",
              "    <tr>\n",
              "      <th>carb</th>\n",
              "      <td>1222</td>\n",
              "      <td>1344</td>\n",
              "      <td>2187.500000</td>\n",
              "      <td>965.500000</td>\n",
              "      <td>843.500000</td>\n",
              "    </tr>\n",
              "    <tr>\n",
              "      <th>cal</th>\n",
              "      <td>17886</td>\n",
              "      <td>17875</td>\n",
              "      <td>17500.000000</td>\n",
              "      <td>386.000000</td>\n",
              "      <td>375.000000</td>\n",
              "    </tr>\n",
              "  </tbody>\n",
              "</table>\n",
              "</div>"
            ],
            "text/plain": [
              "      univariate  multivariate          goal  univ_error  multiv_error\n",
              "prot         723           900   1312.500000  589.500000    412.500000\n",
              "fat         1080           947    388.888889  691.111111    558.111111\n",
              "carb        1222          1344   2187.500000  965.500000    843.500000\n",
              "cal        17886         17875  17500.000000  386.000000    375.000000"
            ]
          },
          "metadata": {
            "tags": []
          },
          "execution_count": 68
        }
      ]
    },
    {
      "cell_type": "code",
      "metadata": {
        "colab": {
          "base_uri": "https://localhost:8080/"
        },
        "id": "YhSjn9IM0_U1",
        "outputId": "a5fd19c4-4146-44cf-b8f1-99d899db9bfc"
      },
      "source": [
        "summary[\"univ_error\"].sum(), summary[\"multiv_error\"].sum()"
      ],
      "execution_count": 69,
      "outputs": [
        {
          "output_type": "execute_result",
          "data": {
            "text/plain": [
              "(2632.1111111111113, 2189.1111111111113)"
            ]
          },
          "metadata": {
            "tags": []
          },
          "execution_count": 69
        }
      ]
    },
    {
      "cell_type": "code",
      "metadata": {
        "colab": {
          "base_uri": "https://localhost:8080/",
          "height": 700
        },
        "id": "EjPDO84P1AaW",
        "outputId": "1dad1c89-8428-4948-ed17-c25acdd3c4a1"
      },
      "source": [
        "# Shopping list\r\n",
        "products_table[['Name', 'multivariate_choice', 'univariate_choice']]"
      ],
      "execution_count": 70,
      "outputs": [
        {
          "output_type": "execute_result",
          "data": {
            "text/html": [
              "<div>\n",
              "<style scoped>\n",
              "    .dataframe tbody tr th:only-of-type {\n",
              "        vertical-align: middle;\n",
              "    }\n",
              "\n",
              "    .dataframe tbody tr th {\n",
              "        vertical-align: top;\n",
              "    }\n",
              "\n",
              "    .dataframe thead th {\n",
              "        text-align: right;\n",
              "    }\n",
              "</style>\n",
              "<table border=\"1\" class=\"dataframe\">\n",
              "  <thead>\n",
              "    <tr style=\"text-align: right;\">\n",
              "      <th></th>\n",
              "      <th>Name</th>\n",
              "      <th>multivariate_choice</th>\n",
              "      <th>univariate_choice</th>\n",
              "    </tr>\n",
              "  </thead>\n",
              "  <tbody>\n",
              "    <tr>\n",
              "      <th>0</th>\n",
              "      <td>Banana 1u</td>\n",
              "      <td>5</td>\n",
              "      <td>1</td>\n",
              "    </tr>\n",
              "    <tr>\n",
              "      <th>1</th>\n",
              "      <td>Mandarin 1u</td>\n",
              "      <td>0</td>\n",
              "      <td>3</td>\n",
              "    </tr>\n",
              "    <tr>\n",
              "      <th>2</th>\n",
              "      <td>Ananas 100g</td>\n",
              "      <td>2</td>\n",
              "      <td>0</td>\n",
              "    </tr>\n",
              "    <tr>\n",
              "      <th>3</th>\n",
              "      <td>Grapes 100g</td>\n",
              "      <td>4</td>\n",
              "      <td>1</td>\n",
              "    </tr>\n",
              "    <tr>\n",
              "      <th>4</th>\n",
              "      <td>Chocolate 1 bar</td>\n",
              "      <td>0</td>\n",
              "      <td>7</td>\n",
              "    </tr>\n",
              "    <tr>\n",
              "      <th>5</th>\n",
              "      <td>Hard Cheese 100g</td>\n",
              "      <td>4</td>\n",
              "      <td>7</td>\n",
              "    </tr>\n",
              "    <tr>\n",
              "      <th>6</th>\n",
              "      <td>Soft Cheese 100g</td>\n",
              "      <td>3</td>\n",
              "      <td>3</td>\n",
              "    </tr>\n",
              "    <tr>\n",
              "      <th>7</th>\n",
              "      <td>Pesto 100g</td>\n",
              "      <td>0</td>\n",
              "      <td>2</td>\n",
              "    </tr>\n",
              "    <tr>\n",
              "      <th>8</th>\n",
              "      <td>Hoummous 100g</td>\n",
              "      <td>2</td>\n",
              "      <td>9</td>\n",
              "    </tr>\n",
              "    <tr>\n",
              "      <th>9</th>\n",
              "      <td>Aubergine Paste 100g</td>\n",
              "      <td>6</td>\n",
              "      <td>7</td>\n",
              "    </tr>\n",
              "    <tr>\n",
              "      <th>10</th>\n",
              "      <td>Protein Shake</td>\n",
              "      <td>2</td>\n",
              "      <td>1</td>\n",
              "    </tr>\n",
              "    <tr>\n",
              "      <th>11</th>\n",
              "      <td>Veggie Burger 1</td>\n",
              "      <td>1</td>\n",
              "      <td>0</td>\n",
              "    </tr>\n",
              "    <tr>\n",
              "      <th>12</th>\n",
              "      <td>Veggie Burger 2</td>\n",
              "      <td>8</td>\n",
              "      <td>1</td>\n",
              "    </tr>\n",
              "    <tr>\n",
              "      <th>13</th>\n",
              "      <td>Boiled Egg</td>\n",
              "      <td>9</td>\n",
              "      <td>8</td>\n",
              "    </tr>\n",
              "    <tr>\n",
              "      <th>14</th>\n",
              "      <td>Backed Egg</td>\n",
              "      <td>0</td>\n",
              "      <td>1</td>\n",
              "    </tr>\n",
              "    <tr>\n",
              "      <th>15</th>\n",
              "      <td>Baguette Bread Half</td>\n",
              "      <td>2</td>\n",
              "      <td>6</td>\n",
              "    </tr>\n",
              "    <tr>\n",
              "      <th>16</th>\n",
              "      <td>Square Bread 1 slice</td>\n",
              "      <td>9</td>\n",
              "      <td>6</td>\n",
              "    </tr>\n",
              "    <tr>\n",
              "      <th>17</th>\n",
              "      <td>Cheese Pizza 1u</td>\n",
              "      <td>5</td>\n",
              "      <td>1</td>\n",
              "    </tr>\n",
              "    <tr>\n",
              "      <th>18</th>\n",
              "      <td>Veggie Pizza 1u</td>\n",
              "      <td>3</td>\n",
              "      <td>3</td>\n",
              "    </tr>\n",
              "    <tr>\n",
              "      <th>19</th>\n",
              "      <td>Soy Milk 200ml</td>\n",
              "      <td>9</td>\n",
              "      <td>1</td>\n",
              "    </tr>\n",
              "    <tr>\n",
              "      <th>20</th>\n",
              "      <td>Soy Chocolate Milk 250ml</td>\n",
              "      <td>0</td>\n",
              "      <td>1</td>\n",
              "    </tr>\n",
              "  </tbody>\n",
              "</table>\n",
              "</div>"
            ],
            "text/plain": [
              "                        Name  multivariate_choice  univariate_choice\n",
              "0                  Banana 1u                    5                  1\n",
              "1                Mandarin 1u                    0                  3\n",
              "2                Ananas 100g                    2                  0\n",
              "3                Grapes 100g                    4                  1\n",
              "4            Chocolate 1 bar                    0                  7\n",
              "5           Hard Cheese 100g                    4                  7\n",
              "6           Soft Cheese 100g                    3                  3\n",
              "7                 Pesto 100g                    0                  2\n",
              "8              Hoummous 100g                    2                  9\n",
              "9       Aubergine Paste 100g                    6                  7\n",
              "10             Protein Shake                    2                  1\n",
              "11           Veggie Burger 1                    1                  0\n",
              "12           Veggie Burger 2                    8                  1\n",
              "13                Boiled Egg                    9                  8\n",
              "14                Backed Egg                    0                  1\n",
              "15       Baguette Bread Half                    2                  6\n",
              "16      Square Bread 1 slice                    9                  6\n",
              "17           Cheese Pizza 1u                    5                  1\n",
              "18           Veggie Pizza 1u                    3                  3\n",
              "19            Soy Milk 200ml                    9                  1\n",
              "20  Soy Chocolate Milk 250ml                    0                  1"
            ]
          },
          "metadata": {
            "tags": []
          },
          "execution_count": 70
        }
      ]
    },
    {
      "cell_type": "code",
      "metadata": {
        "id": "1ErryR6x1Bnn"
      },
      "source": [
        ""
      ],
      "execution_count": null,
      "outputs": []
    }
  ]
}