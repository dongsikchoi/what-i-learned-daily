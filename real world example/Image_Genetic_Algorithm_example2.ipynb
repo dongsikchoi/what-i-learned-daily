{
  "nbformat": 4,
  "nbformat_minor": 0,
  "metadata": {
    "colab": {
      "name": "Image_Genetic_Algorithm_example2.ipynb",
      "provenance": [],
      "collapsed_sections": []
    },
    "kernelspec": {
      "name": "python3",
      "display_name": "Python 3"
    }
  },
  "cells": [
    {
      "cell_type": "markdown",
      "metadata": {
        "id": "KXjKYKugGIAJ"
      },
      "source": [
        "https://github.com/kairess/genetic_image/blob/master/main.py"
      ]
    },
    {
      "cell_type": "code",
      "metadata": {
        "id": "WerFc58JCXu2"
      },
      "source": [
        "import cv2, random, os, sys\r\n",
        "import numpy as np\r\n",
        "from copy import deepcopy\r\n",
        "from skimage.measure import compare_mse\r\n",
        "import multiprocessing as mp"
      ],
      "execution_count": 1,
      "outputs": []
    },
    {
      "cell_type": "code",
      "metadata": {
        "colab": {
          "base_uri": "https://localhost:8080/"
        },
        "id": "4rbYd0viCe_D",
        "outputId": "a485c04f-20f8-447e-fb93-3f7fc22e26cb"
      },
      "source": [
        "from google.colab import drive\r\n",
        "drive.mount('/content/drive')"
      ],
      "execution_count": 2,
      "outputs": [
        {
          "output_type": "stream",
          "text": [
            "Mounted at /content/drive\n"
          ],
          "name": "stdout"
        }
      ]
    },
    {
      "cell_type": "code",
      "metadata": {
        "id": "00YedwafDJxy"
      },
      "source": [
        "img = cv2.imread(\"/content/drive/MyDrive/luffy.jpg\")\r\n",
        "height, width, channels = img.shape"
      ],
      "execution_count": 5,
      "outputs": []
    },
    {
      "cell_type": "code",
      "metadata": {
        "id": "BrcNU4qaDZfy"
      },
      "source": [
        "# Hyperparameter setting \r\n",
        "\r\n",
        "n_initial_genes = 50 \r\n",
        "n_population = 50\r\n",
        "prob_mutation = 0.01\r\n",
        "prob_add = 0.3\r\n",
        "prob_remove = 0.2\r\n",
        "\r\n",
        "min_radius, max_radius = 5,15 # If you want to make more detail picture, you can adjust circle's size \r\n",
        "save_every_n_iter = 100"
      ],
      "execution_count": 9,
      "outputs": []
    },
    {
      "cell_type": "code",
      "metadata": {
        "id": "K9ymYXPqGKxR"
      },
      "source": [
        "# Gene\r\n",
        "class Gene():\r\n",
        "  def __init__(self):\r\n",
        "    self.center = np.array([random.randint(0,width),random.randint(0,height)])\r\n",
        "    self.radiust = random.randint(min_radius, max_radius)\r\n",
        "    self.color = np.array([random.randint(0,255), random.randint(0,255), random.randint(0,255)])\r\n",
        "\r\n",
        "  def mutate(self): # Determine how much changes you will make in mutation period \r\n",
        "    mutation_size = max(1, int(round(random.gauss(15,4)))) / 100\r\n",
        "\r\n",
        "    r = random.uniform(0,1)\r\n",
        "    # radius\r\n",
        "    if r < 0.33 :\r\n",
        "      self.radius = np.clip(random.randint(\r\n",
        "          int(self.radius * (1 - mutation_size)),\r\n",
        "          int(self.radius * (1 + mutation_size))\r\n",
        "      ),1,100)\r\n",
        "    # center\r\n",
        "    elif r < 0.66:\r\n",
        "      self.center = np.array([\r\n",
        "        np.clip(random.randint(\r\n",
        "        int(self.center[0] * (1 - mutation_size)),\r\n",
        "        int(self.center[0] * (1 + mutation_size))),\r\n",
        "        0,width),\r\n",
        "        np.clip(random.randint(\r\n",
        "            int(self.center[1] * (1 - mutation_size)),\r\n",
        "            int(self.center[1] * (1 + mutation_size))),\r\n",
        "            0,height)\r\n",
        "        \r\n",
        "      ])\r\n",
        "    # color\r\n",
        "    else:\r\n",
        "      self.color = np.array([\r\n",
        "        np.clip()\r\n",
        "      ]) \r\n"
      ],
      "execution_count": null,
      "outputs": []
    },
    {
      "cell_type": "code",
      "metadata": {
        "id": "vmmBPsR5Jx14"
      },
      "source": [
        ""
      ],
      "execution_count": null,
      "outputs": []
    }
  ]
}